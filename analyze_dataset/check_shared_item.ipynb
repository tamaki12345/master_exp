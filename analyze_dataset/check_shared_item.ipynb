{
 "cells": [
  {
   "cell_type": "code",
   "execution_count": 1,
   "id": "9321b75c",
   "metadata": {},
   "outputs": [],
   "source": [
    "from urllib.parse import unquote\n",
    "from collections import defaultdict\n",
    "import numpy as np\n",
    "import matplotlib.pyplot as plt\n",
    "from tqdm import tqdm\n",
    "import json"
   ]
  },
  {
   "cell_type": "markdown",
   "id": "dd20a832",
   "metadata": {},
   "source": [
    "# 楽曲リスト取得"
   ]
  },
  {
   "cell_type": "code",
   "execution_count": 2,
   "id": "65640c22",
   "metadata": {},
   "outputs": [],
   "source": [
    "def read_track_idomaar(filename = '/home/tamak/master_exp/entities/tracks.idomaar'):\n",
    "\n",
    "    track_list = []\n",
    "\n",
    "    with open( filename, mode = 'r' ) as f:\n",
    "        for line in f.readlines():\n",
    "            attribute, id, _, track_, artist_ = line.split('\\t')\n",
    "            if len(track_.split('\"')) == 13:\n",
    "                track_ = track_.split('\"')[11].replace('+',' ')\n",
    "            else:\n",
    "                track_ = track_.split('\"')[9].replace('+',' ')\n",
    "            try:\n",
    "                artist, track = unquote(track_).split('/_/')\n",
    "            except:\n",
    "                print('error')\n",
    "                print(line.split('\\t')[3].split('\"'))\n",
    "                print(line.split('\\t'))\n",
    "            \n",
    "            track_list.append( (track , artist ) )\n",
    "    \n",
    "    return track_list\n",
    "\n",
    "def track_to_id_30M(filename = '/home/tamak/master_exp/entities/tracks.idomaar'):\n",
    "\n",
    "    track_ids = defaultdict(int)\n",
    "\n",
    "    with open( filename, mode = 'r' ) as f:\n",
    "        lines = f.readlines()\n",
    "\n",
    "        for line in lines:\n",
    "            attribute, id, _, track_, artist_ = line.split('\\t')\n",
    "\n",
    "            track = json.loads(track_)\n",
    "\n",
    "            artistname, trackname = track['name'].replace('+',' ').split('/_/')\n",
    "            artistname = unquote(artistname)\n",
    "            trackname = unquote(trackname)\n",
    "\n",
    "            track_ids[ (trackname,artistname) ] = int(id)\n",
    "\n",
    "    return track_ids    \n",
    "\n",
    "def get_track_spotify( filename = '/home/tamak/experiments/spotify_dataset_modified.tsv' ):\n",
    "\n",
    "    track_list = []\n",
    "\n",
    "    with open( filename, mode = 'r' ) as f:\n",
    "        for line in f.readlines():\n",
    "            user, artist, track, playlist = line.split('\\t')\n",
    "            track_list.append( (track,artist) )\n",
    "    \n",
    "    return list(set(track_list))"
   ]
  },
  {
   "cell_type": "code",
   "execution_count": 3,
   "id": "29d79e91",
   "metadata": {},
   "outputs": [],
   "source": [
    "def shared_track_ids():\n",
    "    track_30M = read_track_idomaar()\n",
    "    track_SPD = get_track_spotify()\n",
    "\n",
    "    shared_track = list(set(track_30M) & set(track_SPD))\n",
    "    track_id = track_to_id_30M()\n",
    "\n",
    "    tmp = []\n",
    "    for track in shared_track:\n",
    "        tmp.append(track_id[track])\n",
    "\n",
    "    return tmp"
   ]
  },
  {
   "cell_type": "code",
   "execution_count": 4,
   "id": "fc28a296",
   "metadata": {},
   "outputs": [],
   "source": [
    "share_track = shared_track_ids()"
   ]
  },
  {
   "cell_type": "markdown",
   "id": "ef96d441",
   "metadata": {},
   "source": [
    "# 収集期間が~14/5/11のものに絞ってみる"
   ]
  },
  {
   "cell_type": "code",
   "execution_count": 25,
   "id": "a02ee482",
   "metadata": {},
   "outputs": [
    {
     "name": "stderr",
     "output_type": "stream",
     "text": [
      "100%|██████████| 2764474/2764474 [00:10<00:00, 266152.80it/s]\n"
     ]
    }
   ],
   "source": [
    "filename = '/home/tamak/master_exp/relations/sessions.idomaar'\n",
    "\n",
    "session_list = []\n",
    "\n",
    "with open( filename, mode = 'r' ) as f:\n",
    "    lines = f.readlines()\n",
    " \n",
    "    for line in tqdm(lines):\n",
    "\n",
    "        tmp = []\n",
    "\n",
    "        obj_type, id, timestamp, session_data = line.split('\\t')\n",
    "\n",
    "        timestamp = int(timestamp)\n",
    "        if timestamp >= 1399852800:\n",
    "            continue\n",
    "\n",
    "        analytics, session = session_data.split(' ')\n",
    "        session = json.loads(session)\n",
    "\n",
    "        if session.get('objects'):\n",
    "\n",
    "            for track in session['objects']:\n",
    "                id = track['id']\n",
    "                tmp.append(id)\n",
    "\n",
    "            session_list.append(tuple(tmp))\n",
    "        \n",
    "        else:\n",
    "            print(session)"
   ]
  },
  {
   "cell_type": "code",
   "execution_count": 26,
   "id": "ef55656e",
   "metadata": {},
   "outputs": [
    {
     "name": "stdout",
     "output_type": "stream",
     "text": [
      "715809\n",
      "(4698874, 838286, 2588097, 2746740, 3873988, 808046, 2588498, 2492893, 2168413, 1778345, 2989691, 4698875, 2985955, 4698876, 1728736, 2615446, 4698877, 4698878, 515524, 4698879, 4698880, 2444241, 4698881)\n",
      "661517\n"
     ]
    }
   ],
   "source": [
    "print(len(session_list))\n",
    "print(session_list[0])\n",
    "print(len(set(session_list)))"
   ]
  },
  {
   "cell_type": "code",
   "execution_count": 27,
   "id": "92630803",
   "metadata": {},
   "outputs": [
    {
     "name": "stdout",
     "output_type": "stream",
     "text": [
      "715809\n",
      "11.969693032638595\n",
      "484.03719221279704\n",
      "[ 1.  1.  2.  6. 13. 27. 41.]\n"
     ]
    },
    {
     "data": {
      "image/png": "[encoded data removed]",
      "text/plain": [
       "<Figure size 640x480 with 1 Axes>"
      ]
     },
     "metadata": {},
     "output_type": "display_data"
    }
   ],
   "source": [
    "session_length = []\n",
    "\n",
    "for session in session_list:\n",
    "    session_length.append(len(session))\n",
    "\n",
    "print(len(session_length))\n",
    "print(np.average(session_length))\n",
    "print(np.var(session_length))\n",
    "print( np.percentile( session_length, [5, 10, 25, 50, 75, 90, 95] ) )\n",
    "\n",
    "plt.figure()\n",
    "plt.hist(session_length, log = True)\n",
    "plt.xlabel('number of including items')\n",
    "plt.ylabel('number of sessions')\n",
    "plt.show()"
   ]
  },
  {
   "cell_type": "code",
   "execution_count": 44,
   "id": "78c2ec1a",
   "metadata": {},
   "outputs": [
    {
     "name": "stdout",
     "output_type": "stream",
     "text": [
      "41.0\n",
      "10.159446298606873\n",
      "74.56007408816605\n"
     ]
    },
    {
     "data": {
      "image/png": "[encoded data removed]",
      "text/plain": [
       "<Figure size 640x480 with 1 Axes>"
      ]
     },
     "metadata": {},
     "output_type": "display_data"
    }
   ],
   "source": [
    "lim = np.percentile( session_length, 95 )\n",
    "print(lim)\n",
    "session_length2 = np.array(session_length)\n",
    "\n",
    "print(np.average(session_length2[(1<session_length2) & (session_length2<=lim)]))\n",
    "print(np.var(session_length2[(1<session_length2) & (session_length2<=lim)]))\n",
    "\n",
    "plt.figure()\n",
    "plt.hist(session_length2[(1<session_length2) & (session_length2<=lim)], bins = 40 , range = [0,lim], log = False)\n",
    "plt.xlabel('number of including items')\n",
    "plt.ylabel('number of sessions')\n",
    "plt.show()"
   ]
  },
  {
   "cell_type": "code",
   "execution_count": 37,
   "id": "5f1a01b7",
   "metadata": {},
   "outputs": [
    {
     "name": "stdout",
     "output_type": "stream",
     "text": [
      "41.0\n"
     ]
    }
   ],
   "source": [
    "def calculate_match_ratios(session_list, item_list):\n",
    "    item_set = set(item_list)  # 高速な検索のためにsetに変換\n",
    "    match_ratios = []\n",
    "\n",
    "    for session in tqdm(session_list):\n",
    "        if not session:\n",
    "            match_ratios.append(0.0)\n",
    "            continue\n",
    "        match_count = sum(1 for item in session if item in item_set)\n",
    "        ratio = match_count / len(session)\n",
    "        match_ratios.append(ratio)\n",
    "\n",
    "    return match_ratios\n",
    "\n",
    "lim = np.percentile( session_length, 95 )\n",
    "print(lim)\n",
    "session_length2 = np.array(session_length)\n",
    "idxs = [ (1<session_length2) & (session_length2<=lim) ]\n",
    "\n",
    "test = []\n",
    "for i, idx in enumerate(idxs[0]):\n",
    "    if idx == True:\n",
    "        test.append(session_list[i])"
   ]
  },
  {
   "cell_type": "code",
   "execution_count": 38,
   "id": "1fc987b9",
   "metadata": {},
   "outputs": [
    {
     "data": {
      "text/plain": [
       "10.159446298606873"
      ]
     },
     "execution_count": 38,
     "metadata": {},
     "output_type": "execute_result"
    }
   ],
   "source": [
    "np.average( session_length2[idxs[0]] )"
   ]
  },
  {
   "cell_type": "code",
   "execution_count": 40,
   "id": "ab000f4c",
   "metadata": {},
   "outputs": [
    {
     "name": "stdout",
     "output_type": "stream",
     "text": [
      "552211\n",
      "715809\n",
      "715809\n",
      "715809\n",
      "552211\n"
     ]
    }
   ],
   "source": [
    "print(len(test))\n",
    "print(len(session_list))\n",
    "print(len(session_length))\n",
    "print(len(session_length2))\n",
    "print(sum(idxs[0]))"
   ]
  },
  {
   "cell_type": "code",
   "execution_count": 41,
   "id": "dc56ce93",
   "metadata": {},
   "outputs": [
    {
     "name": "stderr",
     "output_type": "stream",
     "text": [
      "100%|██████████| 552211/552211 [00:01<00:00, 504286.57it/s]\n"
     ]
    }
   ],
   "source": [
    "shared_rates = calculate_match_ratios(test, share_track)"
   ]
  },
  {
   "cell_type": "code",
   "execution_count": 45,
   "id": "abd1c7df",
   "metadata": {},
   "outputs": [
    {
     "data": {
      "text/plain": [
       "552211"
      ]
     },
     "execution_count": 45,
     "metadata": {},
     "output_type": "execute_result"
    }
   ],
   "source": [
    "len(shared_rates)"
   ]
  },
  {
   "cell_type": "code",
   "execution_count": 42,
   "id": "29cd3353",
   "metadata": {},
   "outputs": [
    {
     "data": {
      "text/plain": [
       "[0.5217391304347826,\n",
       " 0.5454545454545454,\n",
       " 0.75,\n",
       " 0.2,\n",
       " 0.625,\n",
       " 0.0,\n",
       " 1.0,\n",
       " 0.4444444444444444,\n",
       " 0.9090909090909091,\n",
       " 0.75]"
      ]
     },
     "execution_count": 42,
     "metadata": {},
     "output_type": "execute_result"
    }
   ],
   "source": [
    "shared_rates[:10]"
   ]
  },
  {
   "cell_type": "code",
   "execution_count": null,
   "id": "7cbb84d9",
   "metadata": {},
   "outputs": [
    {
     "name": "stdout",
     "output_type": "stream",
     "text": [
      "0.6072211201133905\n",
      "0.1279952874024304\n",
      "[0.         0.         0.33333333 0.68181818 0.96153846 1.\n",
      " 1.        ]\n"
     ]
    },
    {
     "data": {
      "image/png": "[encoded data removed]",
      "text/plain": [
       "<Figure size 640x480 with 1 Axes>"
      ]
     },
     "metadata": {},
     "output_type": "display_data"
    }
   ],
   "source": [
    "print(np.average(shared_rates))\n",
    "print(np.var(shared_rates))\n",
    "print( np.percentile( shared_rates, [5, 10, 25, 50, 75, 90, 95] ) )\n",
    "\n",
    "plt.figure()\n",
    "plt.hist(shared_rates, log = False, bins = 20)\n",
    "plt.xlabel('rate of shared track')\n",
    "plt.ylabel('number of sessions')\n",
    "plt.show()"
   ]
  }
 ],
 "metadata": {
  "kernelspec": {
   "display_name": "base",
   "language": "python",
   "name": "python3"
  },
  "language_info": {
   "codemirror_mode": {
    "name": "ipython",
    "version": 3
   },
   "file_extension": ".py",
   "mimetype": "text/x-python",
   "name": "python",
   "nbconvert_exporter": "python",
   "pygments_lexer": "ipython3",
   "version": "3.11.7"
  }
 },
 "nbformat": 4,
 "nbformat_minor": 5
}

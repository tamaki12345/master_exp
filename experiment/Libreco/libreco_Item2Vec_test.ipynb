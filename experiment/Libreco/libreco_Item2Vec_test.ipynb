{
 "cells": [
  {
   "cell_type": "code",
   "execution_count": 1,
   "id": "43001fa3",
   "metadata": {},
   "outputs": [],
   "source": [
    "import pandas as pd"
   ]
  },
  {
   "cell_type": "markdown",
   "id": "7a7203aa",
   "metadata": {},
   "source": [
    "# train"
   ]
  },
  {
   "cell_type": "code",
   "execution_count": 2,
   "id": "8034c5f6",
   "metadata": {},
   "outputs": [],
   "source": [
    "import pandas as pd\n",
    "train_data = pd.read_csv('/home/tamak/master_exp/modify_dataset/spotify_playlists_dataset/session_data.tsv', sep = '\\t')\n",
    "train_data.columns = ['user', 'item', 'label']"
   ]
  },
  {
   "cell_type": "code",
   "execution_count": 3,
   "id": "d3d507f2",
   "metadata": {},
   "outputs": [],
   "source": [
    "from libreco.data.dataset import DatasetPure\n",
    "\n",
    "train_data, train_info = DatasetPure.build_trainset(train_data, seed=2025)"
   ]
  },
  {
   "cell_type": "code",
   "execution_count": null,
   "id": "ff0639ec",
   "metadata": {},
   "outputs": [
    {
     "name": "stderr",
     "output_type": "stream",
     "text": [
      "2025-05-19 17:45:49.226579: I tensorflow/core/platform/cpu_feature_guard.cc:182] This TensorFlow binary is optimized to use available CPU instructions in performance-critical operations.\n",
      "To enable the following instructions: AVX2 FMA, in other operations, rebuild TensorFlow with the appropriate compiler flags.\n",
      "2025-05-19 17:45:50.660836: W tensorflow/compiler/tf2tensorrt/utils/py_utils.cc:38] TF-TRT Warning: Could not find TensorRT\n"
     ]
    },
    {
     "name": "stdout",
     "output_type": "stream",
     "text": [
      "WARNING:tensorflow:From /home/tamak/anaconda3/envs/libco/lib/python3.10/site-packages/tensorflow/python/compat/v2_compat.py:107: disable_resource_variables (from tensorflow.python.ops.variable_scope) is deprecated and will be removed in a future version.\n",
      "Instructions for updating:\n",
      "non-resource variables are not supported in the long term\n"
     ]
    },
    {
     "ename": "TypeError",
     "evalue": "Item2Vec.__init__() got an unexpected keyword argument 'batch_size'",
     "output_type": "error",
     "traceback": [
      "\u001b[0;31m---------------------------------------------------------------------------\u001b[0m",
      "\u001b[0;31mTypeError\u001b[0m                                 Traceback (most recent call last)",
      "Cell \u001b[0;32mIn[4], line 2\u001b[0m\n\u001b[1;32m      1\u001b[0m \u001b[38;5;28;01mfrom\u001b[39;00m \u001b[38;5;21;01mlibreco\u001b[39;00m\u001b[38;5;21;01m.\u001b[39;00m\u001b[38;5;21;01malgorithms\u001b[39;00m \u001b[38;5;28;01mimport\u001b[39;00m Item2Vec\n\u001b[0;32m----> 2\u001b[0m model \u001b[38;5;241m=\u001b[39m \u001b[43mItem2Vec\u001b[49m\u001b[43m(\u001b[49m\u001b[43mtask\u001b[49m\u001b[43m \u001b[49m\u001b[38;5;241;43m=\u001b[39;49m\u001b[43m \u001b[49m\u001b[38;5;124;43m'\u001b[39;49m\u001b[38;5;124;43mranking\u001b[39;49m\u001b[38;5;124;43m'\u001b[39;49m\u001b[43m,\u001b[49m\u001b[43m \u001b[49m\u001b[43mdata_info\u001b[49m\u001b[38;5;241;43m=\u001b[39;49m\u001b[43mtrain_info\u001b[49m\u001b[43m,\u001b[49m\u001b[43m \u001b[49m\u001b[43mbatch_size\u001b[49m\u001b[38;5;241;43m=\u001b[39;49m\u001b[38;5;241;43m8192\u001b[39;49m\u001b[43m,\u001b[49m\u001b[43membed_size\u001b[49m\u001b[38;5;241;43m=\u001b[39;49m\u001b[38;5;241;43m8\u001b[39;49m\u001b[43m,\u001b[49m\u001b[43m \u001b[49m\u001b[43mhidden_units\u001b[49m\u001b[38;5;241;43m=\u001b[39;49m\u001b[38;5;241;43m8\u001b[39;49m\u001b[43m,\u001b[49m\u001b[43m \u001b[49m\u001b[43mseed\u001b[49m\u001b[38;5;241;43m=\u001b[39;49m\u001b[38;5;241;43m2025\u001b[39;49m\u001b[43m)\u001b[49m\n",
      "\u001b[0;31mTypeError\u001b[0m: Item2Vec.__init__() got an unexpected keyword argument 'batch_size'"
     ]
    }
   ],
   "source": [
    "from libreco.algorithms import Item2Vec\n",
    "model = Item2Vec(task = 'ranking', data_info=train_info,embed_size=8, seed=2025)"
   ]
  },
  {
   "cell_type": "code",
   "execution_count": null,
   "id": "89a7fe5c",
   "metadata": {},
   "outputs": [
    {
     "name": "stdout",
     "output_type": "stream",
     "text": [
      "Training start time: \u001b[35m2025-05-18 21:31:15\u001b[0m\n",
      "total params: \u001b[33m48,008,556\u001b[0m | embedding params: \u001b[33m48,008,108\u001b[0m | network params: \u001b[33m448\u001b[0m\n"
     ]
    },
    {
     "name": "stderr",
     "output_type": "stream",
     "text": [
      "2025-05-18 21:31:15.706399: I tensorflow/core/common_runtime/executor.cc:1197] [/device:CPU:0] (DEBUG INFO) Executor start aborting (this does not indicate an error and you can ignore this message): INVALID_ARGUMENT: You must feed a value for placeholder tensor 'k' with dtype int32\n",
      "\t [[{{node k}}]]\n",
      "2025-05-18 21:31:16.099364: I tensorflow/compiler/mlir/mlir_graph_optimization_pass.cc:353] MLIR V1 optimization pass is not enabled\n",
      "train:   0%|          | 0/3151 [00:00<?, ?it/s]2025-05-18 21:31:19.288274: I tensorflow/compiler/xla/stream_executor/cuda/cuda_blas.cc:637] TensorFloat-32 will be used for the matrix multiplication. This will only be logged once.\n",
      "train: 100%|██████████| 3151/3151 [29:24<00:00,  1.79it/s]\n"
     ]
    },
    {
     "name": "stdout",
     "output_type": "stream",
     "text": [
      "Epoch 1 elapsed: 1764.907s\n"
     ]
    },
    {
     "name": "stderr",
     "output_type": "stream",
     "text": [
      "train: 100%|██████████| 3151/3151 [29:34<00:00,  1.78it/s]\n"
     ]
    },
    {
     "name": "stdout",
     "output_type": "stream",
     "text": [
      "Epoch 2 elapsed: 1774.971s\n"
     ]
    },
    {
     "name": "stderr",
     "output_type": "stream",
     "text": [
      "train: 100%|██████████| 3151/3151 [29:13<00:00,  1.80it/s]\n"
     ]
    },
    {
     "name": "stdout",
     "output_type": "stream",
     "text": [
      "Epoch 3 elapsed: 1753.088s\n"
     ]
    },
    {
     "name": "stderr",
     "output_type": "stream",
     "text": [
      "train: 100%|██████████| 3151/3151 [29:29<00:00,  1.78it/s]\n"
     ]
    },
    {
     "name": "stdout",
     "output_type": "stream",
     "text": [
      "Epoch 4 elapsed: 1769.070s\n"
     ]
    },
    {
     "name": "stderr",
     "output_type": "stream",
     "text": [
      "train: 100%|██████████| 3151/3151 [29:27<00:00,  1.78it/s]\n"
     ]
    },
    {
     "name": "stdout",
     "output_type": "stream",
     "text": [
      "Epoch 5 elapsed: 1767.449s\n"
     ]
    },
    {
     "name": "stderr",
     "output_type": "stream",
     "text": [
      "train: 100%|██████████| 3151/3151 [29:20<00:00,  1.79it/s]\n"
     ]
    },
    {
     "name": "stdout",
     "output_type": "stream",
     "text": [
      "Epoch 6 elapsed: 1760.055s\n"
     ]
    },
    {
     "name": "stderr",
     "output_type": "stream",
     "text": [
      "train: 100%|██████████| 3151/3151 [29:13<00:00,  1.80it/s]\n"
     ]
    },
    {
     "name": "stdout",
     "output_type": "stream",
     "text": [
      "Epoch 7 elapsed: 1753.792s\n"
     ]
    },
    {
     "name": "stderr",
     "output_type": "stream",
     "text": [
      "train: 100%|██████████| 3151/3151 [29:09<00:00,  1.80it/s]\n"
     ]
    },
    {
     "name": "stdout",
     "output_type": "stream",
     "text": [
      "Epoch 8 elapsed: 1749.332s\n"
     ]
    },
    {
     "name": "stderr",
     "output_type": "stream",
     "text": [
      "train: 100%|██████████| 3151/3151 [29:13<00:00,  1.80it/s]\n"
     ]
    },
    {
     "name": "stdout",
     "output_type": "stream",
     "text": [
      "Epoch 9 elapsed: 1753.791s\n"
     ]
    },
    {
     "name": "stderr",
     "output_type": "stream",
     "text": [
      "train: 100%|██████████| 3151/3151 [29:08<00:00,  1.80it/s]\n"
     ]
    },
    {
     "name": "stdout",
     "output_type": "stream",
     "text": [
      "Epoch 10 elapsed: 1748.618s\n"
     ]
    },
    {
     "name": "stderr",
     "output_type": "stream",
     "text": [
      "train: 100%|██████████| 3151/3151 [29:05<00:00,  1.81it/s]\n"
     ]
    },
    {
     "name": "stdout",
     "output_type": "stream",
     "text": [
      "Epoch 11 elapsed: 1745.450s\n"
     ]
    },
    {
     "name": "stderr",
     "output_type": "stream",
     "text": [
      "train: 100%|██████████| 3151/3151 [29:08<00:00,  1.80it/s]\n"
     ]
    },
    {
     "name": "stdout",
     "output_type": "stream",
     "text": [
      "Epoch 12 elapsed: 1748.592s\n"
     ]
    },
    {
     "name": "stderr",
     "output_type": "stream",
     "text": [
      "train: 100%|██████████| 3151/3151 [29:08<00:00,  1.80it/s]\n"
     ]
    },
    {
     "name": "stdout",
     "output_type": "stream",
     "text": [
      "Epoch 13 elapsed: 1748.667s\n"
     ]
    },
    {
     "name": "stderr",
     "output_type": "stream",
     "text": [
      "train: 100%|██████████| 3151/3151 [29:49<00:00,  1.76it/s]\n"
     ]
    },
    {
     "name": "stdout",
     "output_type": "stream",
     "text": [
      "Epoch 14 elapsed: 1789.614s\n"
     ]
    },
    {
     "name": "stderr",
     "output_type": "stream",
     "text": [
      "train: 100%|██████████| 3151/3151 [30:33<00:00,  1.72it/s] \n"
     ]
    },
    {
     "name": "stdout",
     "output_type": "stream",
     "text": [
      "Epoch 15 elapsed: 1833.991s\n"
     ]
    },
    {
     "name": "stderr",
     "output_type": "stream",
     "text": [
      "train: 100%|██████████| 3151/3151 [29:06<00:00,  1.80it/s]\n"
     ]
    },
    {
     "name": "stdout",
     "output_type": "stream",
     "text": [
      "Epoch 16 elapsed: 1746.631s\n"
     ]
    },
    {
     "name": "stderr",
     "output_type": "stream",
     "text": [
      "train: 100%|██████████| 3151/3151 [29:08<00:00,  1.80it/s]\n"
     ]
    },
    {
     "name": "stdout",
     "output_type": "stream",
     "text": [
      "Epoch 17 elapsed: 1748.142s\n"
     ]
    },
    {
     "name": "stderr",
     "output_type": "stream",
     "text": [
      "train: 100%|██████████| 3151/3151 [29:06<00:00,  1.80it/s]\n"
     ]
    },
    {
     "name": "stdout",
     "output_type": "stream",
     "text": [
      "Epoch 18 elapsed: 1746.775s\n"
     ]
    },
    {
     "name": "stderr",
     "output_type": "stream",
     "text": [
      "train: 100%|██████████| 3151/3151 [29:08<00:00,  1.80it/s]\n"
     ]
    },
    {
     "name": "stdout",
     "output_type": "stream",
     "text": [
      "Epoch 19 elapsed: 1748.808s\n"
     ]
    },
    {
     "name": "stderr",
     "output_type": "stream",
     "text": [
      "train: 100%|██████████| 3151/3151 [29:15<00:00,  1.79it/s]\n"
     ]
    },
    {
     "name": "stdout",
     "output_type": "stream",
     "text": [
      "Epoch 20 elapsed: 1755.449s\n"
     ]
    }
   ],
   "source": [
    "model.fit(train_data, neg_sampling=True)"
   ]
  },
  {
   "cell_type": "code",
   "execution_count": null,
   "id": "7a386434",
   "metadata": {},
   "outputs": [
    {
     "name": "stdout",
     "output_type": "stream",
     "text": [
      "file folder libreco_RNN4rec doesn't exists, creating a new one...\n"
     ]
    }
   ],
   "source": [
    "train_info.save(path='./libreco_RNN4rec', model_name='test_RNN4rec')\n",
    "model.save(path='./libreco_RNN4rec', model_name='test_RNN4rec')"
   ]
  },
  {
   "cell_type": "code",
   "execution_count": null,
   "id": "a4521cea",
   "metadata": {},
   "outputs": [],
   "source": [
    "test_sessions = []\n",
    "with open('/home/tamak/master_exp/modify_dataset/30M_dataset/test_session_data.tsv', mode = 'r') as f:\n",
    "    for line in f.readlines()[1:]:\n",
    "        data = line.split('\\t')\n",
    "        test_sessions.append( ( data[0], data[1:] ) )"
   ]
  },
  {
   "cell_type": "code",
   "execution_count": null,
   "id": "2b2394ba",
   "metadata": {},
   "outputs": [
    {
     "data": {
      "text/plain": [
       "<libreco.data.transformed.TransformedEvalSet at 0x7fa6f5609090>"
      ]
     },
     "metadata": {},
     "output_type": "display_data"
    }
   ],
   "source": [
    "test_set = pd.read_csv('/home/tamak/master_exp/modify_dataset/30M_dataset/test_table_data.tsv', sep='\\t')\n",
    "test_set.columns = ['user', 'item']\n",
    "test_set = DatasetPure.build_testset(test_set)\n",
    "test_set"
   ]
  },
  {
   "cell_type": "code",
   "execution_count": null,
   "id": "2628af5a",
   "metadata": {},
   "outputs": [
    {
     "name": "stderr",
     "output_type": "stream",
     "text": [
      "eval_listwise: 100%|██████████| 1/1 [00:00<00:00, 4728.64it/s]\n"
     ]
    }
   ],
   "source": [
    "from libreco.evaluation import evaluate\n",
    "\n",
    "eval_result = evaluate(model, test_set, neg_sampling=True ,metrics=['ndcg','precision','recall','map'])"
   ]
  },
  {
   "cell_type": "code",
   "execution_count": null,
   "id": "ab6dc175",
   "metadata": {},
   "outputs": [
    {
     "data": {
      "text/plain": [
       "{'ndcg': 0.0, 'precision': 0.0, 'recall': 0.0, 'map': 0.0}"
      ]
     },
     "metadata": {},
     "output_type": "display_data"
    }
   ],
   "source": [
    "eval_result"
   ]
  },
  {
   "cell_type": "code",
   "execution_count": null,
   "id": "6dbb5bb1",
   "metadata": {},
   "outputs": [
    {
     "ename": "ValueError",
     "evalue": "Batch inference doesn't support arbitrary item sequence: ['44361', '44361', '44361', '44361', '44361', '44361', '43320', '43320', '41832', '41832']",
     "output_type": "error",
     "traceback": [
      "\u001b[0;31m---------------------------------------------------------------------------\u001b[0m\n",
      "\u001b[0;31mValueError\u001b[0m                                Traceback (most recent call last)\n",
      "Cell \u001b[0;32mIn[20], line 21\u001b[0m\n",
      "\u001b[1;32m     18\u001b[0m     seqs\u001b[38;5;241m.\u001b[39mappend(seq)\n",
      "\u001b[1;32m     19\u001b[0m     corrs\u001b[38;5;241m.\u001b[39mappend(correct)\n",
      "\u001b[0;32m---> 21\u001b[0m rec \u001b[38;5;241m=\u001b[39m \u001b[43mmodel\u001b[49m\u001b[38;5;241;43m.\u001b[39;49m\u001b[43mrecommend_user\u001b[49m\u001b[43m(\u001b[49m\u001b[43muser\u001b[49m\u001b[38;5;241;43m=\u001b[39;49m\u001b[43musers\u001b[49m\u001b[43m,\u001b[49m\u001b[43m \u001b[49m\u001b[43mn_rec\u001b[49m\u001b[43m \u001b[49m\u001b[38;5;241;43m=\u001b[39;49m\u001b[43m \u001b[49m\u001b[38;5;241;43m20\u001b[39;49m\u001b[43m,\u001b[49m\u001b[43m \u001b[49m\u001b[43mseq\u001b[49m\u001b[43m  \u001b[49m\u001b[38;5;241;43m=\u001b[39;49m\u001b[43m \u001b[49m\u001b[43mseqs\u001b[49m\u001b[43m)\u001b[49m\n",
      "\u001b[1;32m     22\u001b[0m     \u001b[38;5;66;03m# results.append( (correct, rec[user]) )\u001b[39;00m\n",
      "\n",
      "File \u001b[0;32m~/.local/lib/python3.10/site-packages/libreco/bases/dyn_embed_base.py:139\u001b[0m, in \u001b[0;36mDynEmbedBase.recommend_user\u001b[0;34m(self, user, n_rec, user_feats, seq, cold_start, inner_id, filter_consumed, random_rec)\u001b[0m\n",
      "\u001b[1;32m    134\u001b[0m \u001b[38;5;28;01mif\u001b[39;00m user_feats \u001b[38;5;129;01mis\u001b[39;00m \u001b[38;5;28;01mNone\u001b[39;00m \u001b[38;5;129;01mand\u001b[39;00m seq \u001b[38;5;129;01mis\u001b[39;00m \u001b[38;5;28;01mNone\u001b[39;00m:\n",
      "\u001b[1;32m    135\u001b[0m     \u001b[38;5;28;01mreturn\u001b[39;00m \u001b[38;5;28msuper\u001b[39m()\u001b[38;5;241m.\u001b[39mrecommend_user(\n",
      "\u001b[1;32m    136\u001b[0m         user, n_rec, cold_start, inner_id, filter_consumed, random_rec\n",
      "\u001b[1;32m    137\u001b[0m     )\n",
      "\u001b[0;32m--> 139\u001b[0m \u001b[43mcheck_dynamic_rec_feats\u001b[49m\u001b[43m(\u001b[49m\u001b[38;5;28;43mself\u001b[39;49m\u001b[38;5;241;43m.\u001b[39;49m\u001b[43mmodel_name\u001b[49m\u001b[43m,\u001b[49m\u001b[43m \u001b[49m\u001b[43muser\u001b[49m\u001b[43m,\u001b[49m\u001b[43m \u001b[49m\u001b[43muser_feats\u001b[49m\u001b[43m,\u001b[49m\u001b[43m \u001b[49m\u001b[43mseq\u001b[49m\u001b[43m)\u001b[49m\n",
      "\u001b[1;32m    140\u001b[0m user_embed \u001b[38;5;241m=\u001b[39m \u001b[38;5;28mself\u001b[39m\u001b[38;5;241m.\u001b[39mdyn_user_embedding(\n",
      "\u001b[1;32m    141\u001b[0m     user, user_feats\u001b[38;5;241m=\u001b[39muser_feats, seq\u001b[38;5;241m=\u001b[39mseq, include_bias\u001b[38;5;241m=\u001b[39m\u001b[38;5;28;01mTrue\u001b[39;00m, inner_id\u001b[38;5;241m=\u001b[39minner_id\n",
      "\u001b[1;32m    142\u001b[0m )\n",
      "\u001b[1;32m    143\u001b[0m \u001b[38;5;28;01mif\u001b[39;00m user_embed\u001b[38;5;241m.\u001b[39mndim \u001b[38;5;241m==\u001b[39m \u001b[38;5;241m1\u001b[39m:\n",
      "\n",
      "File \u001b[0;32m~/.local/lib/python3.10/site-packages/libreco/recommendation/recommend.py:48\u001b[0m, in \u001b[0;36mcheck_dynamic_rec_feats\u001b[0;34m(model_name, user, user_feats, seq)\u001b[0m\n",
      "\u001b[1;32m     44\u001b[0m         \u001b[38;5;28;01mraise\u001b[39;00m \u001b[38;5;167;01mValueError\u001b[39;00m(\n",
      "\u001b[1;32m     45\u001b[0m             \u001b[38;5;124mf\u001b[39m\u001b[38;5;124m\"\u001b[39m\u001b[38;5;124mBatch inference doesn\u001b[39m\u001b[38;5;124m'\u001b[39m\u001b[38;5;124mt support assigning arbitrary features: \u001b[39m\u001b[38;5;132;01m{\u001b[39;00muser\u001b[38;5;132;01m}\u001b[39;00m\u001b[38;5;124m\"\u001b[39m\n",
      "\u001b[1;32m     46\u001b[0m         )\n",
      "\u001b[1;32m     47\u001b[0m     \u001b[38;5;28;01mif\u001b[39;00m seq \u001b[38;5;129;01mis\u001b[39;00m \u001b[38;5;129;01mnot\u001b[39;00m \u001b[38;5;28;01mNone\u001b[39;00m:\n",
      "\u001b[0;32m---> 48\u001b[0m         \u001b[38;5;28;01mraise\u001b[39;00m \u001b[38;5;167;01mValueError\u001b[39;00m(\n",
      "\u001b[1;32m     49\u001b[0m             \u001b[38;5;124mf\u001b[39m\u001b[38;5;124m\"\u001b[39m\u001b[38;5;124mBatch inference doesn\u001b[39m\u001b[38;5;124m'\u001b[39m\u001b[38;5;124mt support arbitrary item sequence: \u001b[39m\u001b[38;5;132;01m{\u001b[39;00muser\u001b[38;5;132;01m}\u001b[39;00m\u001b[38;5;124m\"\u001b[39m\n",
      "\u001b[1;32m     50\u001b[0m         )\n",
      "\u001b[1;32m     51\u001b[0m \u001b[38;5;28;01mif\u001b[39;00m seq \u001b[38;5;129;01mis\u001b[39;00m \u001b[38;5;129;01mnot\u001b[39;00m \u001b[38;5;28;01mNone\u001b[39;00m \u001b[38;5;129;01mand\u001b[39;00m \u001b[38;5;129;01mnot\u001b[39;00m \u001b[38;5;28misinstance\u001b[39m(seq, (\u001b[38;5;28mlist\u001b[39m, np\u001b[38;5;241m.\u001b[39mndarray)):\n",
      "\u001b[1;32m     52\u001b[0m     \u001b[38;5;28;01mraise\u001b[39;00m \u001b[38;5;167;01mValueError\u001b[39;00m(\u001b[38;5;124m\"\u001b[39m\u001b[38;5;124m`seq` must be list or numpy.ndarray.\u001b[39m\u001b[38;5;124m\"\u001b[39m)\n",
      "\n",
      "\u001b[0;31mValueError\u001b[0m: Batch inference doesn't support arbitrary item sequence: ['44361', '44361', '44361', '44361', '44361', '44361', '43320', '43320', '41832', '41832']"
     ]
    }
   ],
   "source": [
    "import numpy as np\n",
    "\n",
    "results = []\n",
    "users = []\n",
    "seqs = []\n",
    "corrs = []\n",
    "for user, session in test_sessions[:10]:\n",
    "    session = np.array(session, dtype=int)\n",
    "\n",
    "    if len(session) > 11:\n",
    "        seq = session[:10]\n",
    "        correct = session[10]\n",
    "    else:\n",
    "        seq = session[:-1]\n",
    "        correct = session[-1]\n",
    "        \n",
    "    users.append(user)\n",
    "    seqs.append(seq)\n",
    "    corrs.append(correct)\n",
    "\n",
    "rec = model.recommend_user(user=users, n_rec = 20, seq  = seqs)\n",
    "    # results.append( (correct, rec[user]) )"
   ]
  },
  {
   "cell_type": "code",
   "execution_count": null,
   "id": "451c6f51",
   "metadata": {},
   "outputs": [],
   "source": [
    "with open('./libreco_result.tsv',mode='w') as f:\n",
    "    for corr, recs in results:\n",
    "        f.write(str(corr))\n",
    "        for rec in recs:\n",
    "            f.write('\\t'+str(rec))\n",
    "        f.write('\\n')"
   ]
  },
  {
   "cell_type": "code",
   "execution_count": null,
   "id": "7bcbbcee",
   "metadata": {},
   "outputs": [],
   "source": []
  }
 ],
 "metadata": {
  "kernelspec": {
   "display_name": "libco",
   "language": "python",
   "name": "python3"
  },
  "language_info": {
   "codemirror_mode": {
    "name": "ipython",
    "version": 3
   },
   "file_extension": ".py",
   "mimetype": "text/x-python",
   "name": "python",
   "nbconvert_exporter": "python",
   "pygments_lexer": "ipython3",
   "version": "3.10.17"
  }
 },
 "nbformat": 4,
 "nbformat_minor": 5
}

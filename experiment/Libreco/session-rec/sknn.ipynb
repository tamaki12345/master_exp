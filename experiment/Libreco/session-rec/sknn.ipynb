{
 "cells": [
  {
   "cell_type": "code",
   "execution_count": 2,
   "id": "05737157",
   "metadata": {},
   "outputs": [
    {
     "name": "stderr",
     "output_type": "stream",
     "text": [
      "UsageError: Line magic function `%THEANO_FLAGS=\"device=cuda0,floatX=float32\"` not found.\n"
     ]
    }
   ],
   "source": [
    "%THEANO_FLAGS=\"device=cuda0,floatX=float32\" CUDA_DEVICE_ORDER=PCI_BUS_ID python run_config.py ./conf/test_next.yml"
   ]
  }
 ],
 "metadata": {
  "kernelspec": {
   "display_name": "srec",
   "language": "python",
   "name": "python3"
  },
  "language_info": {
   "codemirror_mode": {
    "name": "ipython",
    "version": 3
   },
   "file_extension": ".py",
   "mimetype": "text/x-python",
   "name": "python",
   "nbconvert_exporter": "python",
   "pygments_lexer": "ipython3",
   "version": "3.7.12"
  }
 },
 "nbformat": 4,
 "nbformat_minor": 5
}

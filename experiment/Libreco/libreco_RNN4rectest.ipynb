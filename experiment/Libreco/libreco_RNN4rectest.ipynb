{
 "cells": [
  {
   "cell_type": "markdown",
   "id": "1b48066a",
   "metadata": {},
   "source": [
    "# install"
   ]
  },
  {
   "cell_type": "code",
   "execution_count": 2,
   "id": "370f76a4",
   "metadata": {},
   "outputs": [
    {
     "name": "stdout",
     "output_type": "stream",
     "text": [
      "Ignoring dataclasses: markers 'python_version == \"3.6\"' don't match your environment\n",
      "Requirement already satisfied: numpy>=1.19.5 in /home/tamak/anaconda3/envs/libco/lib/python3.10/site-packages (from -r /home/tamak/master_exp/LibRecommender-master/requirements.txt (line 1)) (1.23.5)\n",
      "Requirement already satisfied: scipy<1.13.0,>=1.2.1 in /home/tamak/anaconda3/envs/libco/lib/python3.10/site-packages (from -r /home/tamak/master_exp/LibRecommender-master/requirements.txt (line 2)) (1.12.0)\n",
      "Requirement already satisfied: pandas>=1.0.0 in /home/tamak/.local/lib/python3.10/site-packages (from -r /home/tamak/master_exp/LibRecommender-master/requirements.txt (line 3)) (2.2.3)\n",
      "Requirement already satisfied: scikit-learn>=0.20.0 in /home/tamak/anaconda3/envs/libco/lib/python3.10/site-packages (from -r /home/tamak/master_exp/LibRecommender-master/requirements.txt (line 4)) (1.6.1)\n",
      "Requirement already satisfied: tensorflow<2.16.0,>=1.15.0 in /home/tamak/anaconda3/envs/libco/lib/python3.10/site-packages (from -r /home/tamak/master_exp/LibRecommender-master/requirements.txt (line 5)) (2.12.0)\n",
      "Requirement already satisfied: torch>=1.10.0 in /home/tamak/anaconda3/envs/libco/lib/python3.10/site-packages (from -r /home/tamak/master_exp/LibRecommender-master/requirements.txt (line 6)) (2.7.0)\n",
      "Requirement already satisfied: gensim>=4.0.0 in /home/tamak/.local/lib/python3.10/site-packages (from -r /home/tamak/master_exp/LibRecommender-master/requirements.txt (line 7)) (4.3.3)\n",
      "Requirement already satisfied: tqdm in /home/tamak/.local/lib/python3.10/site-packages (from -r /home/tamak/master_exp/LibRecommender-master/requirements.txt (line 8)) (4.66.4)\n",
      "Requirement already satisfied: nmslib in /home/tamak/anaconda3/envs/libco/lib/python3.10/site-packages (from -r /home/tamak/master_exp/LibRecommender-master/requirements.txt (line 9)) (2.1.1)\n",
      "Requirement already satisfied: dgl<2.0.0 in /home/tamak/anaconda3/envs/libco/lib/python3.10/site-packages (from -r /home/tamak/master_exp/LibRecommender-master/requirements.txt (line 10)) (1.1.3)\n",
      "Requirement already satisfied: recfarm in /home/tamak/anaconda3/envs/libco/lib/python3.10/site-packages (from -r /home/tamak/master_exp/LibRecommender-master/requirements.txt (line 12)) (0.2.0)\n",
      "Requirement already satisfied: absl-py>=1.0.0 in /home/tamak/anaconda3/envs/libco/lib/python3.10/site-packages (from tensorflow<2.16.0,>=1.15.0->-r /home/tamak/master_exp/LibRecommender-master/requirements.txt (line 5)) (2.2.0)\n",
      "Requirement already satisfied: astunparse>=1.6.0 in /home/tamak/anaconda3/envs/libco/lib/python3.10/site-packages (from tensorflow<2.16.0,>=1.15.0->-r /home/tamak/master_exp/LibRecommender-master/requirements.txt (line 5)) (1.6.3)\n",
      "Requirement already satisfied: flatbuffers>=2.0 in /home/tamak/anaconda3/envs/libco/lib/python3.10/site-packages (from tensorflow<2.16.0,>=1.15.0->-r /home/tamak/master_exp/LibRecommender-master/requirements.txt (line 5)) (25.2.10)\n",
      "Requirement already satisfied: gast<=0.4.0,>=0.2.1 in /home/tamak/anaconda3/envs/libco/lib/python3.10/site-packages (from tensorflow<2.16.0,>=1.15.0->-r /home/tamak/master_exp/LibRecommender-master/requirements.txt (line 5)) (0.4.0)\n",
      "Requirement already satisfied: google-pasta>=0.1.1 in /home/tamak/anaconda3/envs/libco/lib/python3.10/site-packages (from tensorflow<2.16.0,>=1.15.0->-r /home/tamak/master_exp/LibRecommender-master/requirements.txt (line 5)) (0.2.0)\n",
      "Requirement already satisfied: grpcio<2.0,>=1.24.3 in /home/tamak/anaconda3/envs/libco/lib/python3.10/site-packages (from tensorflow<2.16.0,>=1.15.0->-r /home/tamak/master_exp/LibRecommender-master/requirements.txt (line 5)) (1.54.3)\n",
      "Requirement already satisfied: h5py>=2.9.0 in /home/tamak/anaconda3/envs/libco/lib/python3.10/site-packages (from tensorflow<2.16.0,>=1.15.0->-r /home/tamak/master_exp/LibRecommender-master/requirements.txt (line 5)) (3.13.0)\n",
      "Requirement already satisfied: jax>=0.3.15 in /home/tamak/anaconda3/envs/libco/lib/python3.10/site-packages (from tensorflow<2.16.0,>=1.15.0->-r /home/tamak/master_exp/LibRecommender-master/requirements.txt (line 5)) (0.4.20)\n",
      "Requirement already satisfied: keras<2.13,>=2.12.0 in /home/tamak/anaconda3/envs/libco/lib/python3.10/site-packages (from tensorflow<2.16.0,>=1.15.0->-r /home/tamak/master_exp/LibRecommender-master/requirements.txt (line 5)) (2.12.0)\n",
      "Requirement already satisfied: libclang>=13.0.0 in /home/tamak/anaconda3/envs/libco/lib/python3.10/site-packages (from tensorflow<2.16.0,>=1.15.0->-r /home/tamak/master_exp/LibRecommender-master/requirements.txt (line 5)) (18.1.1)\n",
      "Requirement already satisfied: opt-einsum>=2.3.2 in /home/tamak/anaconda3/envs/libco/lib/python3.10/site-packages (from tensorflow<2.16.0,>=1.15.0->-r /home/tamak/master_exp/LibRecommender-master/requirements.txt (line 5)) (3.4.0)\n",
      "Requirement already satisfied: packaging in /home/tamak/.local/lib/python3.10/site-packages (from tensorflow<2.16.0,>=1.15.0->-r /home/tamak/master_exp/LibRecommender-master/requirements.txt (line 5)) (24.0)\n",
      "Requirement already satisfied: protobuf!=4.21.0,!=4.21.1,!=4.21.2,!=4.21.3,!=4.21.4,!=4.21.5,<5.0.0dev,>=3.20.3 in /home/tamak/anaconda3/envs/libco/lib/python3.10/site-packages (from tensorflow<2.16.0,>=1.15.0->-r /home/tamak/master_exp/LibRecommender-master/requirements.txt (line 5)) (4.21.12)\n",
      "Requirement already satisfied: setuptools in /home/tamak/.local/lib/python3.10/site-packages (from tensorflow<2.16.0,>=1.15.0->-r /home/tamak/master_exp/LibRecommender-master/requirements.txt (line 5)) (70.0.0)\n",
      "Requirement already satisfied: six>=1.12.0 in /home/tamak/anaconda3/envs/libco/lib/python3.10/site-packages (from tensorflow<2.16.0,>=1.15.0->-r /home/tamak/master_exp/LibRecommender-master/requirements.txt (line 5)) (1.17.0)\n",
      "Requirement already satisfied: tensorboard<2.13,>=2.12 in /home/tamak/anaconda3/envs/libco/lib/python3.10/site-packages (from tensorflow<2.16.0,>=1.15.0->-r /home/tamak/master_exp/LibRecommender-master/requirements.txt (line 5)) (2.12.3)\n",
      "Requirement already satisfied: tensorflow-estimator<2.13,>=2.12.0 in /home/tamak/anaconda3/envs/libco/lib/python3.10/site-packages (from tensorflow<2.16.0,>=1.15.0->-r /home/tamak/master_exp/LibRecommender-master/requirements.txt (line 5)) (2.12.0)\n",
      "Requirement already satisfied: termcolor>=1.1.0 in /home/tamak/anaconda3/envs/libco/lib/python3.10/site-packages (from tensorflow<2.16.0,>=1.15.0->-r /home/tamak/master_exp/LibRecommender-master/requirements.txt (line 5)) (3.1.0)\n",
      "Requirement already satisfied: typing-extensions>=3.6.6 in /home/tamak/.local/lib/python3.10/site-packages (from tensorflow<2.16.0,>=1.15.0->-r /home/tamak/master_exp/LibRecommender-master/requirements.txt (line 5)) (4.12.2)\n",
      "Requirement already satisfied: wrapt<1.15,>=1.11.0 in /home/tamak/anaconda3/envs/libco/lib/python3.10/site-packages (from tensorflow<2.16.0,>=1.15.0->-r /home/tamak/master_exp/LibRecommender-master/requirements.txt (line 5)) (1.14.1)\n",
      "Requirement already satisfied: tensorflow-io-gcs-filesystem>=0.23.1 in /home/tamak/anaconda3/envs/libco/lib/python3.10/site-packages (from tensorflow<2.16.0,>=1.15.0->-r /home/tamak/master_exp/LibRecommender-master/requirements.txt (line 5)) (0.37.1)\n",
      "Requirement already satisfied: networkx>=2.1 in /home/tamak/anaconda3/envs/libco/lib/python3.10/site-packages (from dgl<2.0.0->-r /home/tamak/master_exp/LibRecommender-master/requirements.txt (line 10)) (3.4.2)\n",
      "Requirement already satisfied: requests>=2.19.0 in /home/tamak/.local/lib/python3.10/site-packages (from dgl<2.0.0->-r /home/tamak/master_exp/LibRecommender-master/requirements.txt (line 10)) (2.32.3)\n",
      "Requirement already satisfied: psutil>=5.8.0 in /home/tamak/.local/lib/python3.10/site-packages (from dgl<2.0.0->-r /home/tamak/master_exp/LibRecommender-master/requirements.txt (line 10)) (5.9.8)\n",
      "Requirement already satisfied: google-auth<3,>=1.6.3 in /home/tamak/anaconda3/envs/libco/lib/python3.10/site-packages (from tensorboard<2.13,>=2.12->tensorflow<2.16.0,>=1.15.0->-r /home/tamak/master_exp/LibRecommender-master/requirements.txt (line 5)) (2.40.1)\n",
      "Requirement already satisfied: google-auth-oauthlib<1.1,>=0.5 in /home/tamak/anaconda3/envs/libco/lib/python3.10/site-packages (from tensorboard<2.13,>=2.12->tensorflow<2.16.0,>=1.15.0->-r /home/tamak/master_exp/LibRecommender-master/requirements.txt (line 5)) (1.0.0)\n",
      "Requirement already satisfied: markdown>=2.6.8 in /home/tamak/anaconda3/envs/libco/lib/python3.10/site-packages (from tensorboard<2.13,>=2.12->tensorflow<2.16.0,>=1.15.0->-r /home/tamak/master_exp/LibRecommender-master/requirements.txt (line 5)) (3.8)\n",
      "Requirement already satisfied: tensorboard-data-server<0.8.0,>=0.7.0 in /home/tamak/anaconda3/envs/libco/lib/python3.10/site-packages (from tensorboard<2.13,>=2.12->tensorflow<2.16.0,>=1.15.0->-r /home/tamak/master_exp/LibRecommender-master/requirements.txt (line 5)) (0.7.0)\n",
      "Requirement already satisfied: werkzeug>=1.0.1 in /home/tamak/anaconda3/envs/libco/lib/python3.10/site-packages (from tensorboard<2.13,>=2.12->tensorflow<2.16.0,>=1.15.0->-r /home/tamak/master_exp/LibRecommender-master/requirements.txt (line 5)) (3.1.3)\n",
      "Requirement already satisfied: wheel>=0.26 in /home/tamak/.local/lib/python3.10/site-packages (from tensorboard<2.13,>=2.12->tensorflow<2.16.0,>=1.15.0->-r /home/tamak/master_exp/LibRecommender-master/requirements.txt (line 5)) (0.43.0)\n",
      "Requirement already satisfied: cachetools<6.0,>=2.0.0 in /home/tamak/anaconda3/envs/libco/lib/python3.10/site-packages (from google-auth<3,>=1.6.3->tensorboard<2.13,>=2.12->tensorflow<2.16.0,>=1.15.0->-r /home/tamak/master_exp/LibRecommender-master/requirements.txt (line 5)) (5.5.2)\n",
      "Requirement already satisfied: pyasn1-modules>=0.2.1 in /home/tamak/anaconda3/envs/libco/lib/python3.10/site-packages (from google-auth<3,>=1.6.3->tensorboard<2.13,>=2.12->tensorflow<2.16.0,>=1.15.0->-r /home/tamak/master_exp/LibRecommender-master/requirements.txt (line 5)) (0.4.2)\n",
      "Requirement already satisfied: rsa<5,>=3.1.4 in /home/tamak/anaconda3/envs/libco/lib/python3.10/site-packages (from google-auth<3,>=1.6.3->tensorboard<2.13,>=2.12->tensorflow<2.16.0,>=1.15.0->-r /home/tamak/master_exp/LibRecommender-master/requirements.txt (line 5)) (4.9.1)\n",
      "Requirement already satisfied: requests-oauthlib>=0.7.0 in /home/tamak/anaconda3/envs/libco/lib/python3.10/site-packages (from google-auth-oauthlib<1.1,>=0.5->tensorboard<2.13,>=2.12->tensorflow<2.16.0,>=1.15.0->-r /home/tamak/master_exp/LibRecommender-master/requirements.txt (line 5)) (2.0.0)\n",
      "Requirement already satisfied: charset-normalizer<4,>=2 in /home/tamak/.local/lib/python3.10/site-packages (from requests>=2.19.0->dgl<2.0.0->-r /home/tamak/master_exp/LibRecommender-master/requirements.txt (line 10)) (3.3.2)\n",
      "Requirement already satisfied: idna<4,>=2.5 in /home/tamak/.local/lib/python3.10/site-packages (from requests>=2.19.0->dgl<2.0.0->-r /home/tamak/master_exp/LibRecommender-master/requirements.txt (line 10)) (3.7)\n",
      "Requirement already satisfied: urllib3<3,>=1.21.1 in /home/tamak/.local/lib/python3.10/site-packages (from requests>=2.19.0->dgl<2.0.0->-r /home/tamak/master_exp/LibRecommender-master/requirements.txt (line 10)) (2.2.1)\n",
      "Requirement already satisfied: certifi>=2017.4.17 in /home/tamak/.local/lib/python3.10/site-packages (from requests>=2.19.0->dgl<2.0.0->-r /home/tamak/master_exp/LibRecommender-master/requirements.txt (line 10)) (2024.6.2)\n",
      "Requirement already satisfied: pyasn1>=0.1.3 in /home/tamak/anaconda3/envs/libco/lib/python3.10/site-packages (from rsa<5,>=3.1.4->google-auth<3,>=1.6.3->tensorboard<2.13,>=2.12->tensorflow<2.16.0,>=1.15.0->-r /home/tamak/master_exp/LibRecommender-master/requirements.txt (line 5)) (0.6.1)\n",
      "Requirement already satisfied: python-dateutil>=2.8.2 in /home/tamak/.local/lib/python3.10/site-packages (from pandas>=1.0.0->-r /home/tamak/master_exp/LibRecommender-master/requirements.txt (line 3)) (2.9.0.post0)\n",
      "Requirement already satisfied: pytz>=2020.1 in /home/tamak/.local/lib/python3.10/site-packages (from pandas>=1.0.0->-r /home/tamak/master_exp/LibRecommender-master/requirements.txt (line 3)) (2025.2)\n",
      "Requirement already satisfied: tzdata>=2022.7 in /home/tamak/.local/lib/python3.10/site-packages (from pandas>=1.0.0->-r /home/tamak/master_exp/LibRecommender-master/requirements.txt (line 3)) (2025.2)\n",
      "Requirement already satisfied: joblib>=1.2.0 in /home/tamak/anaconda3/envs/libco/lib/python3.10/site-packages (from scikit-learn>=0.20.0->-r /home/tamak/master_exp/LibRecommender-master/requirements.txt (line 4)) (1.5.0)\n",
      "Requirement already satisfied: threadpoolctl>=3.1.0 in /home/tamak/.local/lib/python3.10/site-packages (from scikit-learn>=0.20.0->-r /home/tamak/master_exp/LibRecommender-master/requirements.txt (line 4)) (3.5.0)\n",
      "Requirement already satisfied: filelock in /home/tamak/.local/lib/python3.10/site-packages (from torch>=1.10.0->-r /home/tamak/master_exp/LibRecommender-master/requirements.txt (line 6)) (3.14.0)\n",
      "Requirement already satisfied: sympy>=1.13.3 in /home/tamak/anaconda3/envs/libco/lib/python3.10/site-packages (from torch>=1.10.0->-r /home/tamak/master_exp/LibRecommender-master/requirements.txt (line 6)) (1.14.0)\n",
      "Requirement already satisfied: jinja2 in /home/tamak/.local/lib/python3.10/site-packages (from torch>=1.10.0->-r /home/tamak/master_exp/LibRecommender-master/requirements.txt (line 6)) (3.1.4)\n",
      "Requirement already satisfied: fsspec in /home/tamak/anaconda3/envs/libco/lib/python3.10/site-packages (from torch>=1.10.0->-r /home/tamak/master_exp/LibRecommender-master/requirements.txt (line 6)) (2025.3.2)\n",
      "Requirement already satisfied: nvidia-cuda-nvrtc-cu12==12.6.77 in /home/tamak/anaconda3/envs/libco/lib/python3.10/site-packages (from torch>=1.10.0->-r /home/tamak/master_exp/LibRecommender-master/requirements.txt (line 6)) (12.6.77)\n",
      "Requirement already satisfied: nvidia-cuda-runtime-cu12==12.6.77 in /home/tamak/anaconda3/envs/libco/lib/python3.10/site-packages (from torch>=1.10.0->-r /home/tamak/master_exp/LibRecommender-master/requirements.txt (line 6)) (12.6.77)\n",
      "Requirement already satisfied: nvidia-cuda-cupti-cu12==12.6.80 in /home/tamak/anaconda3/envs/libco/lib/python3.10/site-packages (from torch>=1.10.0->-r /home/tamak/master_exp/LibRecommender-master/requirements.txt (line 6)) (12.6.80)\n",
      "Requirement already satisfied: nvidia-cudnn-cu12==9.5.1.17 in /home/tamak/anaconda3/envs/libco/lib/python3.10/site-packages (from torch>=1.10.0->-r /home/tamak/master_exp/LibRecommender-master/requirements.txt (line 6)) (9.5.1.17)\n",
      "Requirement already satisfied: nvidia-cublas-cu12==12.6.4.1 in /home/tamak/anaconda3/envs/libco/lib/python3.10/site-packages (from torch>=1.10.0->-r /home/tamak/master_exp/LibRecommender-master/requirements.txt (line 6)) (12.6.4.1)\n",
      "Requirement already satisfied: nvidia-cufft-cu12==11.3.0.4 in /home/tamak/anaconda3/envs/libco/lib/python3.10/site-packages (from torch>=1.10.0->-r /home/tamak/master_exp/LibRecommender-master/requirements.txt (line 6)) (11.3.0.4)\n",
      "Requirement already satisfied: nvidia-curand-cu12==10.3.7.77 in /home/tamak/anaconda3/envs/libco/lib/python3.10/site-packages (from torch>=1.10.0->-r /home/tamak/master_exp/LibRecommender-master/requirements.txt (line 6)) (10.3.7.77)\n",
      "Requirement already satisfied: nvidia-cusolver-cu12==11.7.1.2 in /home/tamak/anaconda3/envs/libco/lib/python3.10/site-packages (from torch>=1.10.0->-r /home/tamak/master_exp/LibRecommender-master/requirements.txt (line 6)) (11.7.1.2)\n",
      "Requirement already satisfied: nvidia-cusparse-cu12==12.5.4.2 in /home/tamak/anaconda3/envs/libco/lib/python3.10/site-packages (from torch>=1.10.0->-r /home/tamak/master_exp/LibRecommender-master/requirements.txt (line 6)) (12.5.4.2)\n",
      "Requirement already satisfied: nvidia-cusparselt-cu12==0.6.3 in /home/tamak/anaconda3/envs/libco/lib/python3.10/site-packages (from torch>=1.10.0->-r /home/tamak/master_exp/LibRecommender-master/requirements.txt (line 6)) (0.6.3)\n",
      "Requirement already satisfied: nvidia-nccl-cu12==2.26.2 in /home/tamak/anaconda3/envs/libco/lib/python3.10/site-packages (from torch>=1.10.0->-r /home/tamak/master_exp/LibRecommender-master/requirements.txt (line 6)) (2.26.2)\n",
      "Requirement already satisfied: nvidia-nvtx-cu12==12.6.77 in /home/tamak/anaconda3/envs/libco/lib/python3.10/site-packages (from torch>=1.10.0->-r /home/tamak/master_exp/LibRecommender-master/requirements.txt (line 6)) (12.6.77)\n",
      "Requirement already satisfied: nvidia-nvjitlink-cu12==12.6.85 in /home/tamak/anaconda3/envs/libco/lib/python3.10/site-packages (from torch>=1.10.0->-r /home/tamak/master_exp/LibRecommender-master/requirements.txt (line 6)) (12.6.85)\n",
      "Requirement already satisfied: nvidia-cufile-cu12==1.11.1.6 in /home/tamak/anaconda3/envs/libco/lib/python3.10/site-packages (from torch>=1.10.0->-r /home/tamak/master_exp/LibRecommender-master/requirements.txt (line 6)) (1.11.1.6)\n",
      "Requirement already satisfied: triton==3.3.0 in /home/tamak/anaconda3/envs/libco/lib/python3.10/site-packages (from torch>=1.10.0->-r /home/tamak/master_exp/LibRecommender-master/requirements.txt (line 6)) (3.3.0)\n",
      "Requirement already satisfied: smart-open>=1.8.1 in /home/tamak/.local/lib/python3.10/site-packages (from gensim>=4.0.0->-r /home/tamak/master_exp/LibRecommender-master/requirements.txt (line 7)) (7.1.0)\n",
      "Requirement already satisfied: pybind11<2.6.2 in /home/tamak/anaconda3/envs/libco/lib/python3.10/site-packages (from nmslib->-r /home/tamak/master_exp/LibRecommender-master/requirements.txt (line 9)) (2.6.1)\n",
      "Requirement already satisfied: ml-dtypes>=0.2.0 in /home/tamak/anaconda3/envs/libco/lib/python3.10/site-packages (from jax>=0.3.15->tensorflow<2.16.0,>=1.15.0->-r /home/tamak/master_exp/LibRecommender-master/requirements.txt (line 5)) (0.5.1)\n",
      "Requirement already satisfied: oauthlib>=3.0.0 in /home/tamak/anaconda3/envs/libco/lib/python3.10/site-packages (from requests-oauthlib>=0.7.0->google-auth-oauthlib<1.1,>=0.5->tensorboard<2.13,>=2.12->tensorflow<2.16.0,>=1.15.0->-r /home/tamak/master_exp/LibRecommender-master/requirements.txt (line 5)) (3.2.2)\n",
      "Requirement already satisfied: mpmath<1.4,>=1.1.0 in /home/tamak/anaconda3/envs/libco/lib/python3.10/site-packages (from sympy>=1.13.3->torch>=1.10.0->-r /home/tamak/master_exp/LibRecommender-master/requirements.txt (line 6)) (1.3.0)\n",
      "Requirement already satisfied: MarkupSafe>=2.1.1 in /home/tamak/.local/lib/python3.10/site-packages (from werkzeug>=1.0.1->tensorboard<2.13,>=2.12->tensorflow<2.16.0,>=1.15.0->-r /home/tamak/master_exp/LibRecommender-master/requirements.txt (line 5)) (2.1.5)\n",
      "Note: you may need to restart the kernel to use updated packages.\n"
     ]
    }
   ],
   "source": [
    "%pip install -r /home/tamak/master_exp/LibRecommender-master/requirements.txt"
   ]
  },
  {
   "cell_type": "code",
   "execution_count": 3,
   "id": "367270c4",
   "metadata": {},
   "outputs": [
    {
     "name": "stdout",
     "output_type": "stream",
     "text": [
      "Requirement already satisfied: LibRecommender in /home/tamak/.local/lib/python3.10/site-packages (1.5.1)\n",
      "Requirement already satisfied: gensim>=4.0.0 in /home/tamak/.local/lib/python3.10/site-packages (from LibRecommender) (4.3.3)\n",
      "Requirement already satisfied: tqdm in /home/tamak/.local/lib/python3.10/site-packages (from LibRecommender) (4.66.4)\n",
      "Requirement already satisfied: numpy<2.0,>=1.18.5 in /home/tamak/anaconda3/envs/libco/lib/python3.10/site-packages (from gensim>=4.0.0->LibRecommender) (1.23.5)\n",
      "Requirement already satisfied: scipy<1.14.0,>=1.7.0 in /home/tamak/anaconda3/envs/libco/lib/python3.10/site-packages (from gensim>=4.0.0->LibRecommender) (1.12.0)\n",
      "Requirement already satisfied: smart-open>=1.8.1 in /home/tamak/.local/lib/python3.10/site-packages (from gensim>=4.0.0->LibRecommender) (7.1.0)\n",
      "Requirement already satisfied: wrapt in /home/tamak/anaconda3/envs/libco/lib/python3.10/site-packages (from smart-open>=1.8.1->gensim>=4.0.0->LibRecommender) (1.14.1)\n",
      "Note: you may need to restart the kernel to use updated packages.\n"
     ]
    }
   ],
   "source": [
    "%pip install LibRecommender"
   ]
  },
  {
   "cell_type": "code",
   "execution_count": 4,
   "id": "1ad277cd",
   "metadata": {},
   "outputs": [
    {
     "name": "stdout",
     "output_type": "stream",
     "text": [
      "Requirement already satisfied: pip in /home/tamak/anaconda3/envs/libco/lib/python3.10/site-packages (25.1.1)\n",
      "Note: you may need to restart the kernel to use updated packages.\n",
      "Requirement already satisfied: numpy in /home/tamak/anaconda3/envs/libco/lib/python3.10/site-packages (1.23.5)\n",
      "Note: you may need to restart the kernel to use updated packages.\n",
      "Requirement already satisfied: tensorflow==2.12 in /home/tamak/anaconda3/envs/libco/lib/python3.10/site-packages (2.12.0)\n",
      "Requirement already satisfied: absl-py>=1.0.0 in /home/tamak/anaconda3/envs/libco/lib/python3.10/site-packages (from tensorflow==2.12) (2.2.0)\n",
      "Requirement already satisfied: astunparse>=1.6.0 in /home/tamak/anaconda3/envs/libco/lib/python3.10/site-packages (from tensorflow==2.12) (1.6.3)\n",
      "Requirement already satisfied: flatbuffers>=2.0 in /home/tamak/anaconda3/envs/libco/lib/python3.10/site-packages (from tensorflow==2.12) (25.2.10)\n",
      "Requirement already satisfied: gast<=0.4.0,>=0.2.1 in /home/tamak/anaconda3/envs/libco/lib/python3.10/site-packages (from tensorflow==2.12) (0.4.0)\n",
      "Requirement already satisfied: google-pasta>=0.1.1 in /home/tamak/anaconda3/envs/libco/lib/python3.10/site-packages (from tensorflow==2.12) (0.2.0)\n",
      "Requirement already satisfied: grpcio<2.0,>=1.24.3 in /home/tamak/anaconda3/envs/libco/lib/python3.10/site-packages (from tensorflow==2.12) (1.54.3)\n",
      "Requirement already satisfied: h5py>=2.9.0 in /home/tamak/anaconda3/envs/libco/lib/python3.10/site-packages (from tensorflow==2.12) (3.13.0)\n",
      "Requirement already satisfied: jax>=0.3.15 in /home/tamak/anaconda3/envs/libco/lib/python3.10/site-packages (from tensorflow==2.12) (0.4.20)\n",
      "Requirement already satisfied: keras<2.13,>=2.12.0 in /home/tamak/anaconda3/envs/libco/lib/python3.10/site-packages (from tensorflow==2.12) (2.12.0)\n",
      "Requirement already satisfied: libclang>=13.0.0 in /home/tamak/anaconda3/envs/libco/lib/python3.10/site-packages (from tensorflow==2.12) (18.1.1)\n",
      "Requirement already satisfied: numpy<1.24,>=1.22 in /home/tamak/anaconda3/envs/libco/lib/python3.10/site-packages (from tensorflow==2.12) (1.23.5)\n",
      "Requirement already satisfied: opt-einsum>=2.3.2 in /home/tamak/anaconda3/envs/libco/lib/python3.10/site-packages (from tensorflow==2.12) (3.4.0)\n",
      "Requirement already satisfied: packaging in /home/tamak/.local/lib/python3.10/site-packages (from tensorflow==2.12) (24.0)\n",
      "Requirement already satisfied: protobuf!=4.21.0,!=4.21.1,!=4.21.2,!=4.21.3,!=4.21.4,!=4.21.5,<5.0.0dev,>=3.20.3 in /home/tamak/anaconda3/envs/libco/lib/python3.10/site-packages (from tensorflow==2.12) (4.21.12)\n",
      "Requirement already satisfied: setuptools in /home/tamak/.local/lib/python3.10/site-packages (from tensorflow==2.12) (70.0.0)\n",
      "Requirement already satisfied: six>=1.12.0 in /home/tamak/anaconda3/envs/libco/lib/python3.10/site-packages (from tensorflow==2.12) (1.17.0)\n",
      "Requirement already satisfied: tensorboard<2.13,>=2.12 in /home/tamak/anaconda3/envs/libco/lib/python3.10/site-packages (from tensorflow==2.12) (2.12.3)\n",
      "Requirement already satisfied: tensorflow-estimator<2.13,>=2.12.0 in /home/tamak/anaconda3/envs/libco/lib/python3.10/site-packages (from tensorflow==2.12) (2.12.0)\n",
      "Requirement already satisfied: termcolor>=1.1.0 in /home/tamak/anaconda3/envs/libco/lib/python3.10/site-packages (from tensorflow==2.12) (3.1.0)\n",
      "Requirement already satisfied: typing-extensions>=3.6.6 in /home/tamak/.local/lib/python3.10/site-packages (from tensorflow==2.12) (4.12.2)\n",
      "Requirement already satisfied: wrapt<1.15,>=1.11.0 in /home/tamak/anaconda3/envs/libco/lib/python3.10/site-packages (from tensorflow==2.12) (1.14.1)\n",
      "Requirement already satisfied: tensorflow-io-gcs-filesystem>=0.23.1 in /home/tamak/anaconda3/envs/libco/lib/python3.10/site-packages (from tensorflow==2.12) (0.37.1)\n",
      "Requirement already satisfied: google-auth<3,>=1.6.3 in /home/tamak/anaconda3/envs/libco/lib/python3.10/site-packages (from tensorboard<2.13,>=2.12->tensorflow==2.12) (2.40.1)\n",
      "Requirement already satisfied: google-auth-oauthlib<1.1,>=0.5 in /home/tamak/anaconda3/envs/libco/lib/python3.10/site-packages (from tensorboard<2.13,>=2.12->tensorflow==2.12) (1.0.0)\n",
      "Requirement already satisfied: markdown>=2.6.8 in /home/tamak/anaconda3/envs/libco/lib/python3.10/site-packages (from tensorboard<2.13,>=2.12->tensorflow==2.12) (3.8)\n",
      "Requirement already satisfied: requests<3,>=2.21.0 in /home/tamak/.local/lib/python3.10/site-packages (from tensorboard<2.13,>=2.12->tensorflow==2.12) (2.32.3)\n",
      "Requirement already satisfied: tensorboard-data-server<0.8.0,>=0.7.0 in /home/tamak/anaconda3/envs/libco/lib/python3.10/site-packages (from tensorboard<2.13,>=2.12->tensorflow==2.12) (0.7.0)\n",
      "Requirement already satisfied: werkzeug>=1.0.1 in /home/tamak/anaconda3/envs/libco/lib/python3.10/site-packages (from tensorboard<2.13,>=2.12->tensorflow==2.12) (3.1.3)\n",
      "Requirement already satisfied: wheel>=0.26 in /home/tamak/.local/lib/python3.10/site-packages (from tensorboard<2.13,>=2.12->tensorflow==2.12) (0.43.0)\n",
      "Requirement already satisfied: cachetools<6.0,>=2.0.0 in /home/tamak/anaconda3/envs/libco/lib/python3.10/site-packages (from google-auth<3,>=1.6.3->tensorboard<2.13,>=2.12->tensorflow==2.12) (5.5.2)\n",
      "Requirement already satisfied: pyasn1-modules>=0.2.1 in /home/tamak/anaconda3/envs/libco/lib/python3.10/site-packages (from google-auth<3,>=1.6.3->tensorboard<2.13,>=2.12->tensorflow==2.12) (0.4.2)\n",
      "Requirement already satisfied: rsa<5,>=3.1.4 in /home/tamak/anaconda3/envs/libco/lib/python3.10/site-packages (from google-auth<3,>=1.6.3->tensorboard<2.13,>=2.12->tensorflow==2.12) (4.9.1)\n",
      "Requirement already satisfied: requests-oauthlib>=0.7.0 in /home/tamak/anaconda3/envs/libco/lib/python3.10/site-packages (from google-auth-oauthlib<1.1,>=0.5->tensorboard<2.13,>=2.12->tensorflow==2.12) (2.0.0)\n",
      "Requirement already satisfied: charset-normalizer<4,>=2 in /home/tamak/.local/lib/python3.10/site-packages (from requests<3,>=2.21.0->tensorboard<2.13,>=2.12->tensorflow==2.12) (3.3.2)\n",
      "Requirement already satisfied: idna<4,>=2.5 in /home/tamak/.local/lib/python3.10/site-packages (from requests<3,>=2.21.0->tensorboard<2.13,>=2.12->tensorflow==2.12) (3.7)\n",
      "Requirement already satisfied: urllib3<3,>=1.21.1 in /home/tamak/.local/lib/python3.10/site-packages (from requests<3,>=2.21.0->tensorboard<2.13,>=2.12->tensorflow==2.12) (2.2.1)\n",
      "Requirement already satisfied: certifi>=2017.4.17 in /home/tamak/.local/lib/python3.10/site-packages (from requests<3,>=2.21.0->tensorboard<2.13,>=2.12->tensorflow==2.12) (2024.6.2)\n",
      "Requirement already satisfied: pyasn1>=0.1.3 in /home/tamak/anaconda3/envs/libco/lib/python3.10/site-packages (from rsa<5,>=3.1.4->google-auth<3,>=1.6.3->tensorboard<2.13,>=2.12->tensorflow==2.12) (0.6.1)\n",
      "Requirement already satisfied: ml-dtypes>=0.2.0 in /home/tamak/anaconda3/envs/libco/lib/python3.10/site-packages (from jax>=0.3.15->tensorflow==2.12) (0.5.1)\n",
      "Requirement already satisfied: scipy>=1.9 in /home/tamak/anaconda3/envs/libco/lib/python3.10/site-packages (from jax>=0.3.15->tensorflow==2.12) (1.12.0)\n",
      "Requirement already satisfied: oauthlib>=3.0.0 in /home/tamak/anaconda3/envs/libco/lib/python3.10/site-packages (from requests-oauthlib>=0.7.0->google-auth-oauthlib<1.1,>=0.5->tensorboard<2.13,>=2.12->tensorflow==2.12) (3.2.2)\n",
      "Requirement already satisfied: MarkupSafe>=2.1.1 in /home/tamak/.local/lib/python3.10/site-packages (from werkzeug>=1.0.1->tensorboard<2.13,>=2.12->tensorflow==2.12) (2.1.5)\n",
      "Note: you may need to restart the kernel to use updated packages.\n"
     ]
    }
   ],
   "source": [
    "%pip install --upgrade pip\n",
    "%pip install numpy\n",
    "%pip install tensorflow==2.12"
   ]
  },
  {
   "cell_type": "markdown",
   "id": "ae2a842d",
   "metadata": {},
   "source": [
    "# import"
   ]
  },
  {
   "cell_type": "code",
   "execution_count": 1,
   "id": "9108d20c",
   "metadata": {},
   "outputs": [
    {
     "name": "stderr",
     "output_type": "stream",
     "text": [
      "2025-05-30 11:34:30.411267: I tensorflow/core/platform/cpu_feature_guard.cc:182] This TensorFlow binary is optimized to use available CPU instructions in performance-critical operations.\n",
      "To enable the following instructions: AVX2 FMA, in other operations, rebuild TensorFlow with the appropriate compiler flags.\n",
      "2025-05-30 11:34:31.755659: W tensorflow/compiler/tf2tensorrt/utils/py_utils.cc:38] TF-TRT Warning: Could not find TensorRT\n"
     ]
    },
    {
     "name": "stdout",
     "output_type": "stream",
     "text": [
      "WARNING:tensorflow:From /tmp/ipykernel_2873/350018661.py:2: is_gpu_available (from tensorflow.python.framework.test_util) is deprecated and will be removed in a future version.\n",
      "Instructions for updating:\n",
      "Use `tf.config.list_physical_devices('GPU')` instead.\n",
      "True\n",
      "2.12.0\n",
      "[PhysicalDevice(name='/physical_device:GPU:0', device_type='GPU')]\n"
     ]
    },
    {
     "name": "stderr",
     "output_type": "stream",
     "text": [
      "2025-05-30 11:34:34.700249: I tensorflow/compiler/xla/stream_executor/cuda/cuda_gpu_executor.cc:982] could not open file to read NUMA node: /sys/bus/pci/devices/0000:23:00.0/numa_node\n",
      "Your kernel may have been built without NUMA support.\n",
      "2025-05-30 11:34:34.892761: I tensorflow/compiler/xla/stream_executor/cuda/cuda_gpu_executor.cc:982] could not open file to read NUMA node: /sys/bus/pci/devices/0000:23:00.0/numa_node\n",
      "Your kernel may have been built without NUMA support.\n",
      "2025-05-30 11:34:34.892823: I tensorflow/compiler/xla/stream_executor/cuda/cuda_gpu_executor.cc:982] could not open file to read NUMA node: /sys/bus/pci/devices/0000:23:00.0/numa_node\n",
      "Your kernel may have been built without NUMA support.\n",
      "2025-05-30 11:34:35.094413: I tensorflow/compiler/xla/stream_executor/cuda/cuda_gpu_executor.cc:982] could not open file to read NUMA node: /sys/bus/pci/devices/0000:23:00.0/numa_node\n",
      "Your kernel may have been built without NUMA support.\n",
      "2025-05-30 11:34:35.094534: I tensorflow/compiler/xla/stream_executor/cuda/cuda_gpu_executor.cc:982] could not open file to read NUMA node: /sys/bus/pci/devices/0000:23:00.0/numa_node\n",
      "Your kernel may have been built without NUMA support.\n",
      "2025-05-30 11:34:35.094547: I tensorflow/core/common_runtime/gpu/gpu_device.cc:1722] Could not identify NUMA node of platform GPU id 0, defaulting to 0.  Your kernel may not have been built with NUMA support.\n",
      "2025-05-30 11:34:35.094590: I tensorflow/compiler/xla/stream_executor/cuda/cuda_gpu_executor.cc:982] could not open file to read NUMA node: /sys/bus/pci/devices/0000:23:00.0/numa_node\n",
      "Your kernel may have been built without NUMA support.\n",
      "2025-05-30 11:34:35.094616: I tensorflow/core/common_runtime/gpu/gpu_device.cc:1635] Created device /device:GPU:0 with 5563 MB memory:  -> device: 0, name: NVIDIA GeForce RTX 4060, pci bus id: 0000:23:00.0, compute capability: 8.9\n",
      "2025-05-30 11:34:35.100825: I tensorflow/compiler/xla/stream_executor/cuda/cuda_gpu_executor.cc:982] could not open file to read NUMA node: /sys/bus/pci/devices/0000:23:00.0/numa_node\n",
      "Your kernel may have been built without NUMA support.\n",
      "2025-05-30 11:34:35.100877: I tensorflow/compiler/xla/stream_executor/cuda/cuda_gpu_executor.cc:982] could not open file to read NUMA node: /sys/bus/pci/devices/0000:23:00.0/numa_node\n",
      "Your kernel may have been built without NUMA support.\n",
      "2025-05-30 11:34:35.100910: I tensorflow/compiler/xla/stream_executor/cuda/cuda_gpu_executor.cc:982] could not open file to read NUMA node: /sys/bus/pci/devices/0000:23:00.0/numa_node\n",
      "Your kernel may have been built without NUMA support.\n"
     ]
    }
   ],
   "source": [
    "import tensorflow as tf\n",
    "print(tf.test.is_gpu_available())\n",
    "print(tf.__version__)\n",
    "print(tf.config.list_physical_devices('GPU'))"
   ]
  },
  {
   "cell_type": "code",
   "execution_count": 2,
   "id": "bc8bdb82",
   "metadata": {},
   "outputs": [
    {
     "name": "stdout",
     "output_type": "stream",
     "text": [
      "[name: \"/device:CPU:0\"\n",
      "device_type: \"CPU\"\n",
      "memory_limit: 268435456\n",
      "locality {\n",
      "}\n",
      "incarnation: 3588280164598880941\n",
      "xla_global_id: -1\n",
      ", name: \"/device:GPU:0\"\n",
      "device_type: \"GPU\"\n",
      "memory_limit: 5833228288\n",
      "locality {\n",
      "  bus_id: 1\n",
      "  links {\n",
      "  }\n",
      "}\n",
      "incarnation: 15325946951394846084\n",
      "physical_device_desc: \"device: 0, name: NVIDIA GeForce RTX 4060, pci bus id: 0000:23:00.0, compute capability: 8.9\"\n",
      "xla_global_id: 416903419\n",
      "]\n"
     ]
    },
    {
     "name": "stderr",
     "output_type": "stream",
     "text": [
      "2025-05-18 21:30:48.515961: I tensorflow/compiler/xla/stream_executor/cuda/cuda_gpu_executor.cc:982] could not open file to read NUMA node: /sys/bus/pci/devices/0000:23:00.0/numa_node\n",
      "Your kernel may have been built without NUMA support.\n",
      "2025-05-18 21:30:48.516073: I tensorflow/compiler/xla/stream_executor/cuda/cuda_gpu_executor.cc:982] could not open file to read NUMA node: /sys/bus/pci/devices/0000:23:00.0/numa_node\n",
      "Your kernel may have been built without NUMA support.\n",
      "2025-05-18 21:30:48.516122: I tensorflow/compiler/xla/stream_executor/cuda/cuda_gpu_executor.cc:982] could not open file to read NUMA node: /sys/bus/pci/devices/0000:23:00.0/numa_node\n",
      "Your kernel may have been built without NUMA support.\n",
      "2025-05-18 21:30:48.516331: I tensorflow/compiler/xla/stream_executor/cuda/cuda_gpu_executor.cc:982] could not open file to read NUMA node: /sys/bus/pci/devices/0000:23:00.0/numa_node\n",
      "Your kernel may have been built without NUMA support.\n",
      "2025-05-18 21:30:48.516344: I tensorflow/core/common_runtime/gpu/gpu_device.cc:1722] Could not identify NUMA node of platform GPU id 0, defaulting to 0.  Your kernel may not have been built with NUMA support.\n",
      "2025-05-18 21:30:48.516387: I tensorflow/compiler/xla/stream_executor/cuda/cuda_gpu_executor.cc:982] could not open file to read NUMA node: /sys/bus/pci/devices/0000:23:00.0/numa_node\n",
      "Your kernel may have been built without NUMA support.\n",
      "2025-05-18 21:30:48.516401: I tensorflow/core/common_runtime/gpu/gpu_device.cc:1635] Created device /device:GPU:0 with 5563 MB memory:  -> device: 0, name: NVIDIA GeForce RTX 4060, pci bus id: 0000:23:00.0, compute capability: 8.9\n"
     ]
    }
   ],
   "source": [
    "from tensorflow.python.client import device_lib\n",
    "print(device_lib.list_local_devices())"
   ]
  },
  {
   "cell_type": "code",
   "execution_count": 3,
   "id": "3e9b3f2c",
   "metadata": {},
   "outputs": [
    {
     "name": "stdout",
     "output_type": "stream",
     "text": [
      "OrderedDict([('cpu_compiler', '/dt9/usr/bin/gcc'), ('cuda_compute_capabilities', ['sm_35', 'sm_50', 'sm_60', 'sm_70', 'sm_75', 'compute_80']), ('cuda_version', '11.8'), ('cudnn_version', '8'), ('is_cuda_build', True), ('is_rocm_build', False), ('is_tensorrt_build', True)])\n"
     ]
    }
   ],
   "source": [
    "from tensorflow.python.platform import build_info as bi\n",
    "print(bi.build_info)"
   ]
  },
  {
   "cell_type": "code",
   "execution_count": 4,
   "id": "906ae7bb",
   "metadata": {},
   "outputs": [
    {
     "name": "stdout",
     "output_type": "stream",
     "text": [
      "1.12.0\n"
     ]
    }
   ],
   "source": [
    "import scipy\n",
    "print(scipy.__version__)"
   ]
  },
  {
   "cell_type": "code",
   "execution_count": 5,
   "id": "139e4b08",
   "metadata": {},
   "outputs": [],
   "source": [
    "import pandas as pd"
   ]
  },
  {
   "cell_type": "markdown",
   "id": "df394921",
   "metadata": {},
   "source": [
    "# train"
   ]
  },
  {
   "cell_type": "code",
   "execution_count": 2,
   "id": "4ac6a64b",
   "metadata": {},
   "outputs": [
    {
     "data": {
      "text/html": [
       "<div>\n",
       "<style scoped>\n",
       "    .dataframe tbody tr th:only-of-type {\n",
       "        vertical-align: middle;\n",
       "    }\n",
       "\n",
       "    .dataframe tbody tr th {\n",
       "        vertical-align: top;\n",
       "    }\n",
       "\n",
       "    .dataframe thead th {\n",
       "        text-align: right;\n",
       "    }\n",
       "</style>\n",
       "<table border=\"1\" class=\"dataframe\">\n",
       "  <thead>\n",
       "    <tr style=\"text-align: right;\">\n",
       "      <th></th>\n",
       "      <th>user</th>\n",
       "      <th>item</th>\n",
       "      <th>label</th>\n",
       "    </tr>\n",
       "  </thead>\n",
       "  <tbody>\n",
       "    <tr>\n",
       "      <th>0</th>\n",
       "      <td>9cc0cfd4d7d7885102480dd99e7a90d6</td>\n",
       "      <td>0</td>\n",
       "      <td>1</td>\n",
       "    </tr>\n",
       "    <tr>\n",
       "      <th>1</th>\n",
       "      <td>9cc0cfd4d7d7885102480dd99e7a90d6</td>\n",
       "      <td>1</td>\n",
       "      <td>1</td>\n",
       "    </tr>\n",
       "    <tr>\n",
       "      <th>2</th>\n",
       "      <td>9cc0cfd4d7d7885102480dd99e7a90d6</td>\n",
       "      <td>2</td>\n",
       "      <td>1</td>\n",
       "    </tr>\n",
       "    <tr>\n",
       "      <th>3</th>\n",
       "      <td>9cc0cfd4d7d7885102480dd99e7a90d6</td>\n",
       "      <td>3</td>\n",
       "      <td>1</td>\n",
       "    </tr>\n",
       "    <tr>\n",
       "      <th>4</th>\n",
       "      <td>9cc0cfd4d7d7885102480dd99e7a90d6</td>\n",
       "      <td>4</td>\n",
       "      <td>1</td>\n",
       "    </tr>\n",
       "    <tr>\n",
       "      <th>...</th>\n",
       "      <td>...</td>\n",
       "      <td>...</td>\n",
       "      <td>...</td>\n",
       "    </tr>\n",
       "    <tr>\n",
       "      <th>12902572</th>\n",
       "      <td>2302bf9c64dc63d88a750215ed187f2c</td>\n",
       "      <td>205001</td>\n",
       "      <td>1</td>\n",
       "    </tr>\n",
       "    <tr>\n",
       "      <th>12902573</th>\n",
       "      <td>2302bf9c64dc63d88a750215ed187f2c</td>\n",
       "      <td>40382</td>\n",
       "      <td>1</td>\n",
       "    </tr>\n",
       "    <tr>\n",
       "      <th>12902574</th>\n",
       "      <td>2302bf9c64dc63d88a750215ed187f2c</td>\n",
       "      <td>9578</td>\n",
       "      <td>1</td>\n",
       "    </tr>\n",
       "    <tr>\n",
       "      <th>12902575</th>\n",
       "      <td>2302bf9c64dc63d88a750215ed187f2c</td>\n",
       "      <td>41141</td>\n",
       "      <td>1</td>\n",
       "    </tr>\n",
       "    <tr>\n",
       "      <th>12902576</th>\n",
       "      <td>2302bf9c64dc63d88a750215ed187f2c</td>\n",
       "      <td>90751</td>\n",
       "      <td>1</td>\n",
       "    </tr>\n",
       "  </tbody>\n",
       "</table>\n",
       "<p>12902577 rows × 3 columns</p>\n",
       "</div>"
      ],
      "text/plain": [
       "                                      user    item  label\n",
       "0         9cc0cfd4d7d7885102480dd99e7a90d6       0      1\n",
       "1         9cc0cfd4d7d7885102480dd99e7a90d6       1      1\n",
       "2         9cc0cfd4d7d7885102480dd99e7a90d6       2      1\n",
       "3         9cc0cfd4d7d7885102480dd99e7a90d6       3      1\n",
       "4         9cc0cfd4d7d7885102480dd99e7a90d6       4      1\n",
       "...                                    ...     ...    ...\n",
       "12902572  2302bf9c64dc63d88a750215ed187f2c  205001      1\n",
       "12902573  2302bf9c64dc63d88a750215ed187f2c   40382      1\n",
       "12902574  2302bf9c64dc63d88a750215ed187f2c    9578      1\n",
       "12902575  2302bf9c64dc63d88a750215ed187f2c   41141      1\n",
       "12902576  2302bf9c64dc63d88a750215ed187f2c   90751      1\n",
       "\n",
       "[12902577 rows x 3 columns]"
      ]
     },
     "execution_count": 2,
     "metadata": {},
     "output_type": "execute_result"
    }
   ],
   "source": [
    "import pandas as pd\n",
    "train_data = pd.read_csv('/home/tamak/master_exp/modify_dataset/spotify_playlists_dataset/session_data.tsv', sep = '\\t')\n",
    "train_data.columns = ['user', 'item', 'label']\n",
    "train_data"
   ]
  },
  {
   "cell_type": "code",
   "execution_count": 3,
   "id": "7f6a155d",
   "metadata": {},
   "outputs": [
    {
     "name": "stdout",
     "output_type": "stream",
     "text": [
      "<libreco.data.transformed.TransformedSet object at 0x7f2a64161690>\n",
      "n_users: 15918, n_items: 2824004, data density: 0.0287 %\n"
     ]
    }
   ],
   "source": [
    "from libreco.data.dataset import DatasetPure\n",
    "\n",
    "train_data, train_info = DatasetPure.build_trainset(train_data, seed=2025)\n",
    "print(train_data)\n",
    "print(train_info)"
   ]
  },
  {
   "cell_type": "code",
   "execution_count": 4,
   "id": "4ddc99e4",
   "metadata": {},
   "outputs": [
    {
     "name": "stdout",
     "output_type": "stream",
     "text": [
      "WARNING:tensorflow:From /home/tamak/anaconda3/envs/libco/lib/python3.10/site-packages/tensorflow/python/compat/v2_compat.py:107: disable_resource_variables (from tensorflow.python.ops.variable_scope) is deprecated and will be removed in a future version.\n",
      "Instructions for updating:\n",
      "non-resource variables are not supported in the long term\n"
     ]
    },
    {
     "name": "stderr",
     "output_type": "stream",
     "text": [
      "2025-05-30 11:35:15.801337: I tensorflow/compiler/xla/stream_executor/cuda/cuda_gpu_executor.cc:982] could not open file to read NUMA node: /sys/bus/pci/devices/0000:23:00.0/numa_node\n",
      "Your kernel may have been built without NUMA support.\n",
      "2025-05-30 11:35:15.801521: I tensorflow/compiler/xla/stream_executor/cuda/cuda_gpu_executor.cc:982] could not open file to read NUMA node: /sys/bus/pci/devices/0000:23:00.0/numa_node\n",
      "Your kernel may have been built without NUMA support.\n",
      "2025-05-30 11:35:15.801579: I tensorflow/compiler/xla/stream_executor/cuda/cuda_gpu_executor.cc:982] could not open file to read NUMA node: /sys/bus/pci/devices/0000:23:00.0/numa_node\n",
      "Your kernel may have been built without NUMA support.\n",
      "2025-05-30 11:35:15.802034: I tensorflow/compiler/xla/stream_executor/cuda/cuda_gpu_executor.cc:982] could not open file to read NUMA node: /sys/bus/pci/devices/0000:23:00.0/numa_node\n",
      "Your kernel may have been built without NUMA support.\n",
      "2025-05-30 11:35:15.802067: I tensorflow/core/common_runtime/gpu/gpu_device.cc:1722] Could not identify NUMA node of platform GPU id 0, defaulting to 0.  Your kernel may not have been built with NUMA support.\n",
      "2025-05-30 11:35:15.802120: I tensorflow/compiler/xla/stream_executor/cuda/cuda_gpu_executor.cc:982] could not open file to read NUMA node: /sys/bus/pci/devices/0000:23:00.0/numa_node\n",
      "Your kernel may have been built without NUMA support.\n",
      "2025-05-30 11:35:15.802161: I tensorflow/core/common_runtime/gpu/gpu_device.cc:1635] Created device /job:localhost/replica:0/task:0/device:GPU:0 with 5563 MB memory:  -> device: 0, name: NVIDIA GeForce RTX 4060, pci bus id: 0000:23:00.0, compute capability: 8.9\n"
     ]
    }
   ],
   "source": [
    "from libreco.algorithms import RNN4Rec\n",
    "model = RNN4Rec(task = 'ranking', data_info=train_info, batch_size=8192,embed_size=16, hidden_units=16, seed=2025, n_epochs=10)"
   ]
  },
  {
   "cell_type": "code",
   "execution_count": 5,
   "id": "091c9bac",
   "metadata": {},
   "outputs": [
    {
     "name": "stdout",
     "output_type": "stream",
     "text": [
      "Training start time: \u001b[35m2025-05-30 11:35:34\u001b[0m\n",
      "total params: \u001b[33m93,194,004\u001b[0m | embedding params: \u001b[33m93,192,212\u001b[0m | network params: \u001b[33m1,792\u001b[0m\n"
     ]
    },
    {
     "name": "stderr",
     "output_type": "stream",
     "text": [
      "2025-05-30 11:35:34.310487: I tensorflow/core/common_runtime/executor.cc:1197] [/device:CPU:0] (DEBUG INFO) Executor start aborting (this does not indicate an error and you can ignore this message): INVALID_ARGUMENT: You must feed a value for placeholder tensor 'k' with dtype int32\n",
      "\t [[{{node k}}]]\n",
      "2025-05-30 11:35:34.724241: I tensorflow/compiler/mlir/mlir_graph_optimization_pass.cc:353] MLIR V1 optimization pass is not enabled\n",
      "2025-05-30 11:35:34.788924: W tensorflow/tsl/framework/cpu_allocator_impl.cc:83] Allocation of 180736320 exceeds 10% of free system memory.\n",
      "2025-05-30 11:35:34.871846: W tensorflow/tsl/framework/cpu_allocator_impl.cc:83] Allocation of 180736256 exceeds 10% of free system memory.\n",
      "2025-05-30 11:35:34.958650: W tensorflow/tsl/framework/cpu_allocator_impl.cc:83] Allocation of 180736256 exceeds 10% of free system memory.\n",
      "2025-05-30 11:35:35.042122: W tensorflow/tsl/framework/cpu_allocator_impl.cc:83] Allocation of 180736320 exceeds 10% of free system memory.\n",
      "train:   0%|          | 0/3151 [00:00<?, ?it/s]2025-05-30 11:35:42.489685: I tensorflow/compiler/xla/stream_executor/cuda/cuda_blas.cc:637] TensorFloat-32 will be used for the matrix multiplication. This will only be logged once.\n",
      "train: 100%|██████████| 3151/3151 [29:32<00:00,  1.78it/s]\n"
     ]
    },
    {
     "name": "stdout",
     "output_type": "stream",
     "text": [
      "Epoch 1 elapsed: 1772.853s\n"
     ]
    },
    {
     "name": "stderr",
     "output_type": "stream",
     "text": [
      "train: 100%|██████████| 3151/3151 [29:32<00:00,  1.78it/s]\n"
     ]
    },
    {
     "name": "stdout",
     "output_type": "stream",
     "text": [
      "Epoch 2 elapsed: 1772.865s\n"
     ]
    },
    {
     "name": "stderr",
     "output_type": "stream",
     "text": [
      "train: 100%|██████████| 3151/3151 [29:33<00:00,  1.78it/s]\n"
     ]
    },
    {
     "name": "stdout",
     "output_type": "stream",
     "text": [
      "Epoch 3 elapsed: 1773.507s\n"
     ]
    },
    {
     "name": "stderr",
     "output_type": "stream",
     "text": [
      "train: 100%|██████████| 3151/3151 [29:33<00:00,  1.78it/s]\n"
     ]
    },
    {
     "name": "stdout",
     "output_type": "stream",
     "text": [
      "Epoch 4 elapsed: 1773.183s\n"
     ]
    },
    {
     "name": "stderr",
     "output_type": "stream",
     "text": [
      "train: 100%|██████████| 3151/3151 [29:38<00:00,  1.77it/s]\n"
     ]
    },
    {
     "name": "stdout",
     "output_type": "stream",
     "text": [
      "Epoch 5 elapsed: 1778.272s\n"
     ]
    },
    {
     "name": "stderr",
     "output_type": "stream",
     "text": [
      "train: 100%|██████████| 3151/3151 [29:33<00:00,  1.78it/s]\n"
     ]
    },
    {
     "name": "stdout",
     "output_type": "stream",
     "text": [
      "Epoch 6 elapsed: 1773.560s\n"
     ]
    },
    {
     "name": "stderr",
     "output_type": "stream",
     "text": [
      "train: 100%|██████████| 3151/3151 [29:28<00:00,  1.78it/s]\n"
     ]
    },
    {
     "name": "stdout",
     "output_type": "stream",
     "text": [
      "Epoch 7 elapsed: 1768.572s\n"
     ]
    },
    {
     "name": "stderr",
     "output_type": "stream",
     "text": [
      "train: 100%|██████████| 3151/3151 [29:34<00:00,  1.78it/s]\n"
     ]
    },
    {
     "name": "stdout",
     "output_type": "stream",
     "text": [
      "Epoch 8 elapsed: 1774.218s\n"
     ]
    },
    {
     "name": "stderr",
     "output_type": "stream",
     "text": [
      "train: 100%|██████████| 3151/3151 [29:25<00:00,  1.78it/s]\n"
     ]
    },
    {
     "name": "stdout",
     "output_type": "stream",
     "text": [
      "Epoch 9 elapsed: 1765.632s\n"
     ]
    },
    {
     "name": "stderr",
     "output_type": "stream",
     "text": [
      "train: 100%|██████████| 3151/3151 [29:21<00:00,  1.79it/s]\n"
     ]
    },
    {
     "name": "stdout",
     "output_type": "stream",
     "text": [
      "Epoch 10 elapsed: 1761.661s\n"
     ]
    }
   ],
   "source": [
    "model.fit(train_data, neg_sampling=True)"
   ]
  },
  {
   "cell_type": "code",
   "execution_count": 6,
   "id": "988f1f58",
   "metadata": {},
   "outputs": [],
   "source": [
    "train_info.save(path='./libreco_RNN4rec', model_name='test_RNN4rec')\n",
    "model.save(path='./libreco_RNN4rec', model_name='test_RNN4rec')"
   ]
  },
  {
   "cell_type": "code",
   "execution_count": 7,
   "id": "e2162bdb",
   "metadata": {},
   "outputs": [
    {
     "name": "stdout",
     "output_type": "stream",
     "text": [
      "file folder libreco_RNN4rec_2 doesn't exists, creating a new one...\n"
     ]
    }
   ],
   "source": [
    "train_info.save(path='./libreco_RNN4rec_2', model_name='test_RNN4rec')\n",
    "model.save(path='./libreco_RNN4rec_2', model_name='test_RNN4rec', inference_only=True)"
   ]
  },
  {
   "cell_type": "markdown",
   "id": "6e89b168",
   "metadata": {},
   "source": [
    "# test"
   ]
  },
  {
   "cell_type": "code",
   "execution_count": 10,
   "id": "c619be3c",
   "metadata": {},
   "outputs": [],
   "source": [
    "from libreco.data.dataset import DatasetPure\n",
    "import pandas as pd\n",
    "test_sessions = []\n",
    "with open('/home/tamak/master_exp/modify_dataset/30M_dataset/test_session_data.tsv', mode = 'r') as f:\n",
    "    for line in f.readlines()[1:]:\n",
    "        data = line.split('\\t')\n",
    "        test_sessions.append( ( data[0], data[1:] ) )"
   ]
  },
  {
   "cell_type": "code",
   "execution_count": 5,
   "id": "c125ba5b",
   "metadata": {},
   "outputs": [
    {
     "data": {
      "text/plain": [
       "<libreco.data.transformed.TransformedEvalSet at 0x7f2b0cd27e80>"
      ]
     },
     "execution_count": 5,
     "metadata": {},
     "output_type": "execute_result"
    }
   ],
   "source": [
    "test_set = pd.read_csv('/home/tamak/master_exp/modify_dataset/30M_dataset/test_table_data.tsv', sep='\\t')\n",
    "test_set.columns = ['user', 'item']\n",
    "test_set = DatasetPure.build_testset(test_set)\n",
    "test_set"
   ]
  },
  {
   "cell_type": "code",
   "execution_count": 8,
   "id": "409d411d",
   "metadata": {},
   "outputs": [],
   "source": [
    "from libreco.data import DataInfo\n",
    "\n",
    "data_info = DataInfo.load(path='./libreco_RNN4rec', model_name='test_RNN4rec')"
   ]
  },
  {
   "cell_type": "code",
   "execution_count": 13,
   "id": "b849aa5a",
   "metadata": {},
   "outputs": [
    {
     "data": {
      "text/plain": [
       "n_users: 15918, n_items: 2824004, data density: 0.0287 %"
      ]
     },
     "execution_count": 13,
     "metadata": {},
     "output_type": "execute_result"
    }
   ],
   "source": [
    "data_info"
   ]
  },
  {
   "cell_type": "code",
   "execution_count": 10,
   "id": "70686c70",
   "metadata": {},
   "outputs": [
    {
     "name": "stderr",
     "output_type": "stream",
     "text": [
      "2025-05-30 21:28:42.833069: I tensorflow/compiler/xla/stream_executor/cuda/cuda_gpu_executor.cc:982] could not open file to read NUMA node: /sys/bus/pci/devices/0000:23:00.0/numa_node\n",
      "Your kernel may have been built without NUMA support.\n",
      "2025-05-30 21:28:42.833186: I tensorflow/compiler/xla/stream_executor/cuda/cuda_gpu_executor.cc:982] could not open file to read NUMA node: /sys/bus/pci/devices/0000:23:00.0/numa_node\n",
      "Your kernel may have been built without NUMA support.\n",
      "2025-05-30 21:28:42.833235: I tensorflow/compiler/xla/stream_executor/cuda/cuda_gpu_executor.cc:982] could not open file to read NUMA node: /sys/bus/pci/devices/0000:23:00.0/numa_node\n",
      "Your kernel may have been built without NUMA support.\n",
      "2025-05-30 21:28:42.833468: I tensorflow/compiler/xla/stream_executor/cuda/cuda_gpu_executor.cc:982] could not open file to read NUMA node: /sys/bus/pci/devices/0000:23:00.0/numa_node\n",
      "Your kernel may have been built without NUMA support.\n",
      "2025-05-30 21:28:42.833483: I tensorflow/core/common_runtime/gpu/gpu_device.cc:1722] Could not identify NUMA node of platform GPU id 0, defaulting to 0.  Your kernel may not have been built with NUMA support.\n",
      "2025-05-30 21:28:42.833525: I tensorflow/compiler/xla/stream_executor/cuda/cuda_gpu_executor.cc:982] could not open file to read NUMA node: /sys/bus/pci/devices/0000:23:00.0/numa_node\n",
      "Your kernel may have been built without NUMA support.\n",
      "2025-05-30 21:28:42.833567: I tensorflow/core/common_runtime/gpu/gpu_device.cc:1635] Created device /job:localhost/replica:0/task:0/device:GPU:0 with 5563 MB memory:  -> device: 0, name: NVIDIA GeForce RTX 4060, pci bus id: 0000:23:00.0, compute capability: 8.9\n"
     ]
    },
    {
     "ename": "ValueError",
     "evalue": "Variable embedding/item_embeds_var already exists, disallowed. Did you mean to set reuse=True or reuse=tf.AUTO_REUSE in VarScope? Originally defined at:\n\n  File \"/home/tamak/.local/lib/python3.10/site-packages/libreco/algorithms/rnn4rec.py\", line 202, in _build_variables\n    self.item_embeds = tf.get_variable(\n  File \"/home/tamak/.local/lib/python3.10/site-packages/libreco/algorithms/rnn4rec.py\", line 154, in build_model\n    self._build_variables()\n  File \"/home/tamak/.local/lib/python3.10/site-packages/libreco/bases/embed_base.py\", line 133, in fit\n    self.build_model()\n  File \"/tmp/ipykernel_2873/3869183815.py\", line 1, in <module>\n    model.fit(train_data, neg_sampling=True)\n  File \"/home/tamak/.local/lib/python3.10/site-packages/IPython/core/interactiveshell.py\", line 3577, in run_code\n    exec(code_obj, self.user_global_ns, self.user_ns)\n",
     "output_type": "error",
     "traceback": [
      "\u001b[0;31m---------------------------------------------------------------------------\u001b[0m",
      "\u001b[0;31mValueError\u001b[0m                                Traceback (most recent call last)",
      "Cell \u001b[0;32mIn[10], line 3\u001b[0m\n\u001b[1;32m      1\u001b[0m \u001b[38;5;28;01mfrom\u001b[39;00m \u001b[38;5;21;01mlibreco\u001b[39;00m\u001b[38;5;21;01m.\u001b[39;00m\u001b[38;5;21;01malgorithms\u001b[39;00m \u001b[38;5;28;01mimport\u001b[39;00m RNN4Rec\n\u001b[1;32m      2\u001b[0m \u001b[38;5;66;03m# mdoel = RNN4Rec.load(path='./libreco_RNN4rec', model_name='test_RNN4rec', data_info=data_info, batch_size=8192,embed_size=8, hidden_units=8)\u001b[39;00m\n\u001b[0;32m----> 3\u001b[0m model2 \u001b[38;5;241m=\u001b[39m \u001b[43mRNN4Rec\u001b[49m\u001b[38;5;241;43m.\u001b[39;49m\u001b[43mload\u001b[49m\u001b[43m(\u001b[49m\u001b[43mpath\u001b[49m\u001b[38;5;241;43m=\u001b[39;49m\u001b[38;5;124;43m'\u001b[39;49m\u001b[38;5;124;43m./libreco_RNN4rec_2\u001b[39;49m\u001b[38;5;124;43m'\u001b[39;49m\u001b[43m,\u001b[49m\u001b[43m \u001b[49m\u001b[43mmodel_name\u001b[49m\u001b[38;5;241;43m=\u001b[39;49m\u001b[38;5;124;43m'\u001b[39;49m\u001b[38;5;124;43mtest_RNN4rec\u001b[39;49m\u001b[38;5;124;43m'\u001b[39;49m\u001b[43m,\u001b[49m\u001b[43m \u001b[49m\u001b[43mdata_info\u001b[49m\u001b[38;5;241;43m=\u001b[39;49m\u001b[43mdata_info\u001b[49m\u001b[43m)\u001b[49m\n",
      "File \u001b[0;32m~/.local/lib/python3.10/site-packages/libreco/bases/dyn_embed_base.py:318\u001b[0m, in \u001b[0;36mDynEmbedBase.load\u001b[0;34m(cls, path, model_name, data_info, **kwargs)\u001b[0m\n\u001b[1;32m    316\u001b[0m \u001b[38;5;129m@classmethod\u001b[39m\n\u001b[1;32m    317\u001b[0m \u001b[38;5;28;01mdef\u001b[39;00m \u001b[38;5;21mload\u001b[39m(\u001b[38;5;28mcls\u001b[39m, path, model_name, data_info, \u001b[38;5;241m*\u001b[39m\u001b[38;5;241m*\u001b[39mkwargs):\n\u001b[0;32m--> 318\u001b[0m     model \u001b[38;5;241m=\u001b[39m \u001b[43mload_tf_variables\u001b[49m\u001b[43m(\u001b[49m\u001b[38;5;28;43mcls\u001b[39;49m\u001b[43m,\u001b[49m\u001b[43m \u001b[49m\u001b[43mpath\u001b[49m\u001b[43m,\u001b[49m\u001b[43m \u001b[49m\u001b[43mmodel_name\u001b[49m\u001b[43m,\u001b[49m\u001b[43m \u001b[49m\u001b[43mdata_info\u001b[49m\u001b[43m)\u001b[49m\n\u001b[1;32m    319\u001b[0m     embeddings \u001b[38;5;241m=\u001b[39m np\u001b[38;5;241m.\u001b[39mload(os\u001b[38;5;241m.\u001b[39mpath\u001b[38;5;241m.\u001b[39mjoin(path, \u001b[38;5;124mf\u001b[39m\u001b[38;5;124m\"\u001b[39m\u001b[38;5;132;01m{\u001b[39;00mmodel_name\u001b[38;5;132;01m}\u001b[39;00m\u001b[38;5;124m.npz\u001b[39m\u001b[38;5;124m\"\u001b[39m))\n\u001b[1;32m    320\u001b[0m     model\u001b[38;5;241m.\u001b[39muser_embeds_np \u001b[38;5;241m=\u001b[39m embeddings[\u001b[38;5;124m\"\u001b[39m\u001b[38;5;124muser_embed\u001b[39m\u001b[38;5;124m\"\u001b[39m]\n",
      "File \u001b[0;32m~/.local/lib/python3.10/site-packages/libreco/utils/save_load.py:88\u001b[0m, in \u001b[0;36mload_tf_variables\u001b[0;34m(model_class, path, model_name, data_info)\u001b[0m\n\u001b[1;32m     86\u001b[0m hparams \u001b[38;5;241m=\u001b[39m load_params(path, data_info, model_name)\n\u001b[1;32m     87\u001b[0m model \u001b[38;5;241m=\u001b[39m model_class(\u001b[38;5;241m*\u001b[39m\u001b[38;5;241m*\u001b[39mhparams)\n\u001b[0;32m---> 88\u001b[0m \u001b[43mmodel\u001b[49m\u001b[38;5;241;43m.\u001b[39;49m\u001b[43mbuild_model\u001b[49m\u001b[43m(\u001b[49m\u001b[43m)\u001b[49m\n\u001b[1;32m     89\u001b[0m model\u001b[38;5;241m.\u001b[39mloaded \u001b[38;5;241m=\u001b[39m \u001b[38;5;28;01mTrue\u001b[39;00m\n\u001b[1;32m     90\u001b[0m model\u001b[38;5;241m.\u001b[39mdefault_recs \u001b[38;5;241m=\u001b[39m load_default_recs(path, model_name)\n",
      "File \u001b[0;32m~/.local/lib/python3.10/site-packages/libreco/algorithms/rnn4rec.py:154\u001b[0m, in \u001b[0;36mRNN4Rec.build_model\u001b[0;34m(self)\u001b[0m\n\u001b[1;32m    152\u001b[0m tf\u001b[38;5;241m.\u001b[39mset_random_seed(\u001b[38;5;28mself\u001b[39m\u001b[38;5;241m.\u001b[39mseed)\n\u001b[1;32m    153\u001b[0m \u001b[38;5;28mself\u001b[39m\u001b[38;5;241m.\u001b[39mis_training \u001b[38;5;241m=\u001b[39m tf\u001b[38;5;241m.\u001b[39mplaceholder_with_default(\u001b[38;5;28;01mFalse\u001b[39;00m, shape\u001b[38;5;241m=\u001b[39m[])\n\u001b[0;32m--> 154\u001b[0m \u001b[38;5;28;43mself\u001b[39;49m\u001b[38;5;241;43m.\u001b[39;49m\u001b[43m_build_variables\u001b[49m\u001b[43m(\u001b[49m\u001b[43m)\u001b[49m\n\u001b[1;32m    155\u001b[0m \u001b[38;5;28mself\u001b[39m\u001b[38;5;241m.\u001b[39muser_embeds \u001b[38;5;241m=\u001b[39m \u001b[38;5;28mself\u001b[39m\u001b[38;5;241m.\u001b[39m_build_user_embeddings()\n\u001b[1;32m    156\u001b[0m \u001b[38;5;28mself\u001b[39m\u001b[38;5;241m.\u001b[39mserving_topk \u001b[38;5;241m=\u001b[39m \u001b[38;5;28mself\u001b[39m\u001b[38;5;241m.\u001b[39mbuild_topk()\n",
      "File \u001b[0;32m~/.local/lib/python3.10/site-packages/libreco/algorithms/rnn4rec.py:202\u001b[0m, in \u001b[0;36mRNN4Rec._build_variables\u001b[0;34m(self)\u001b[0m\n\u001b[1;32m    199\u001b[0m \u001b[38;5;28;01mdef\u001b[39;00m \u001b[38;5;21m_build_variables\u001b[39m(\u001b[38;5;28mself\u001b[39m):\n\u001b[1;32m    200\u001b[0m     \u001b[38;5;28;01mwith\u001b[39;00m tf\u001b[38;5;241m.\u001b[39mvariable_scope(\u001b[38;5;124m\"\u001b[39m\u001b[38;5;124membedding\u001b[39m\u001b[38;5;124m\"\u001b[39m):\n\u001b[1;32m    201\u001b[0m         \u001b[38;5;66;03m# weight and bias parameters for last fc_layer\u001b[39;00m\n\u001b[0;32m--> 202\u001b[0m         \u001b[38;5;28mself\u001b[39m\u001b[38;5;241m.\u001b[39mitem_embeds \u001b[38;5;241m=\u001b[39m \u001b[43mtf\u001b[49m\u001b[38;5;241;43m.\u001b[39;49m\u001b[43mget_variable\u001b[49m\u001b[43m(\u001b[49m\n\u001b[1;32m    203\u001b[0m \u001b[43m            \u001b[49m\u001b[43mname\u001b[49m\u001b[38;5;241;43m=\u001b[39;49m\u001b[38;5;124;43m\"\u001b[39;49m\u001b[38;5;124;43mitem_embeds_var\u001b[39;49m\u001b[38;5;124;43m\"\u001b[39;49m\u001b[43m,\u001b[49m\n\u001b[1;32m    204\u001b[0m \u001b[43m            \u001b[49m\u001b[43mshape\u001b[49m\u001b[38;5;241;43m=\u001b[39;49m\u001b[43m[\u001b[49m\u001b[38;5;28;43mself\u001b[39;49m\u001b[38;5;241;43m.\u001b[39;49m\u001b[43mn_items\u001b[49m\u001b[43m,\u001b[49m\u001b[43m \u001b[49m\u001b[38;5;28;43mself\u001b[39;49m\u001b[38;5;241;43m.\u001b[39;49m\u001b[43membed_size\u001b[49m\u001b[43m]\u001b[49m\u001b[43m,\u001b[49m\n\u001b[1;32m    205\u001b[0m \u001b[43m            \u001b[49m\u001b[43minitializer\u001b[49m\u001b[38;5;241;43m=\u001b[39;49m\u001b[43mtf\u001b[49m\u001b[38;5;241;43m.\u001b[39;49m\u001b[43mglorot_uniform_initializer\u001b[49m\u001b[43m(\u001b[49m\u001b[43m)\u001b[49m\u001b[43m,\u001b[49m\n\u001b[1;32m    206\u001b[0m \u001b[43m            \u001b[49m\u001b[43mregularizer\u001b[49m\u001b[38;5;241;43m=\u001b[39;49m\u001b[38;5;28;43mself\u001b[39;49m\u001b[38;5;241;43m.\u001b[39;49m\u001b[43mreg\u001b[49m\u001b[43m,\u001b[49m\n\u001b[1;32m    207\u001b[0m \u001b[43m        \u001b[49m\u001b[43m)\u001b[49m\n\u001b[1;32m    208\u001b[0m         \u001b[38;5;28mself\u001b[39m\u001b[38;5;241m.\u001b[39mitem_biases \u001b[38;5;241m=\u001b[39m tf\u001b[38;5;241m.\u001b[39mget_variable(\n\u001b[1;32m    209\u001b[0m             name\u001b[38;5;241m=\u001b[39m\u001b[38;5;124m\"\u001b[39m\u001b[38;5;124mitem_bias_var\u001b[39m\u001b[38;5;124m\"\u001b[39m,\n\u001b[1;32m    210\u001b[0m             shape\u001b[38;5;241m=\u001b[39m[\u001b[38;5;28mself\u001b[39m\u001b[38;5;241m.\u001b[39mn_items],\n\u001b[1;32m    211\u001b[0m             initializer\u001b[38;5;241m=\u001b[39mtf\u001b[38;5;241m.\u001b[39mzeros_initializer(),\n\u001b[1;32m    212\u001b[0m             regularizer\u001b[38;5;241m=\u001b[39m\u001b[38;5;28mself\u001b[39m\u001b[38;5;241m.\u001b[39mreg,\n\u001b[1;32m    213\u001b[0m         )\n",
      "File \u001b[0;32m~/anaconda3/envs/libco/lib/python3.10/site-packages/tensorflow/python/ops/variable_scope.py:1617\u001b[0m, in \u001b[0;36mget_variable\u001b[0;34m(name, shape, dtype, initializer, regularizer, trainable, collections, caching_device, partitioner, validate_shape, use_resource, custom_getter, constraint, synchronization, aggregation)\u001b[0m\n\u001b[1;32m   1601\u001b[0m \u001b[38;5;129m@tf_export\u001b[39m(v1\u001b[38;5;241m=\u001b[39m[\u001b[38;5;124m\"\u001b[39m\u001b[38;5;124mget_variable\u001b[39m\u001b[38;5;124m\"\u001b[39m])\n\u001b[1;32m   1602\u001b[0m \u001b[38;5;28;01mdef\u001b[39;00m \u001b[38;5;21mget_variable\u001b[39m(name,\n\u001b[1;32m   1603\u001b[0m                  shape\u001b[38;5;241m=\u001b[39m\u001b[38;5;28;01mNone\u001b[39;00m,\n\u001b[0;32m   (...)\u001b[0m\n\u001b[1;32m   1615\u001b[0m                  synchronization\u001b[38;5;241m=\u001b[39mVariableSynchronization\u001b[38;5;241m.\u001b[39mAUTO,\n\u001b[1;32m   1616\u001b[0m                  aggregation\u001b[38;5;241m=\u001b[39mVariableAggregation\u001b[38;5;241m.\u001b[39mNONE):\n\u001b[0;32m-> 1617\u001b[0m   \u001b[38;5;28;01mreturn\u001b[39;00m \u001b[43mget_variable_scope\u001b[49m\u001b[43m(\u001b[49m\u001b[43m)\u001b[49m\u001b[38;5;241;43m.\u001b[39;49m\u001b[43mget_variable\u001b[49m\u001b[43m(\u001b[49m\n\u001b[1;32m   1618\u001b[0m \u001b[43m      \u001b[49m\u001b[43m_get_default_variable_store\u001b[49m\u001b[43m(\u001b[49m\u001b[43m)\u001b[49m\u001b[43m,\u001b[49m\n\u001b[1;32m   1619\u001b[0m \u001b[43m      \u001b[49m\u001b[43mname\u001b[49m\u001b[43m,\u001b[49m\n\u001b[1;32m   1620\u001b[0m \u001b[43m      \u001b[49m\u001b[43mshape\u001b[49m\u001b[38;5;241;43m=\u001b[39;49m\u001b[43mshape\u001b[49m\u001b[43m,\u001b[49m\n\u001b[1;32m   1621\u001b[0m \u001b[43m      \u001b[49m\u001b[43mdtype\u001b[49m\u001b[38;5;241;43m=\u001b[39;49m\u001b[43mdtype\u001b[49m\u001b[43m,\u001b[49m\n\u001b[1;32m   1622\u001b[0m \u001b[43m      \u001b[49m\u001b[43minitializer\u001b[49m\u001b[38;5;241;43m=\u001b[39;49m\u001b[43minitializer\u001b[49m\u001b[43m,\u001b[49m\n\u001b[1;32m   1623\u001b[0m \u001b[43m      \u001b[49m\u001b[43mregularizer\u001b[49m\u001b[38;5;241;43m=\u001b[39;49m\u001b[43mregularizer\u001b[49m\u001b[43m,\u001b[49m\n\u001b[1;32m   1624\u001b[0m \u001b[43m      \u001b[49m\u001b[43mtrainable\u001b[49m\u001b[38;5;241;43m=\u001b[39;49m\u001b[43mtrainable\u001b[49m\u001b[43m,\u001b[49m\n\u001b[1;32m   1625\u001b[0m \u001b[43m      \u001b[49m\u001b[43mcollections\u001b[49m\u001b[38;5;241;43m=\u001b[39;49m\u001b[43mcollections\u001b[49m\u001b[43m,\u001b[49m\n\u001b[1;32m   1626\u001b[0m \u001b[43m      \u001b[49m\u001b[43mcaching_device\u001b[49m\u001b[38;5;241;43m=\u001b[39;49m\u001b[43mcaching_device\u001b[49m\u001b[43m,\u001b[49m\n\u001b[1;32m   1627\u001b[0m \u001b[43m      \u001b[49m\u001b[43mpartitioner\u001b[49m\u001b[38;5;241;43m=\u001b[39;49m\u001b[43mpartitioner\u001b[49m\u001b[43m,\u001b[49m\n\u001b[1;32m   1628\u001b[0m \u001b[43m      \u001b[49m\u001b[43mvalidate_shape\u001b[49m\u001b[38;5;241;43m=\u001b[39;49m\u001b[43mvalidate_shape\u001b[49m\u001b[43m,\u001b[49m\n\u001b[1;32m   1629\u001b[0m \u001b[43m      \u001b[49m\u001b[43muse_resource\u001b[49m\u001b[38;5;241;43m=\u001b[39;49m\u001b[43muse_resource\u001b[49m\u001b[43m,\u001b[49m\n\u001b[1;32m   1630\u001b[0m \u001b[43m      \u001b[49m\u001b[43mcustom_getter\u001b[49m\u001b[38;5;241;43m=\u001b[39;49m\u001b[43mcustom_getter\u001b[49m\u001b[43m,\u001b[49m\n\u001b[1;32m   1631\u001b[0m \u001b[43m      \u001b[49m\u001b[43mconstraint\u001b[49m\u001b[38;5;241;43m=\u001b[39;49m\u001b[43mconstraint\u001b[49m\u001b[43m,\u001b[49m\n\u001b[1;32m   1632\u001b[0m \u001b[43m      \u001b[49m\u001b[43msynchronization\u001b[49m\u001b[38;5;241;43m=\u001b[39;49m\u001b[43msynchronization\u001b[49m\u001b[43m,\u001b[49m\n\u001b[1;32m   1633\u001b[0m \u001b[43m      \u001b[49m\u001b[43maggregation\u001b[49m\u001b[38;5;241;43m=\u001b[39;49m\u001b[43maggregation\u001b[49m\u001b[43m)\u001b[49m\n",
      "File \u001b[0;32m~/anaconda3/envs/libco/lib/python3.10/site-packages/tensorflow/python/ops/variable_scope.py:1327\u001b[0m, in \u001b[0;36mVariableScope.get_variable\u001b[0;34m(self, var_store, name, shape, dtype, initializer, regularizer, reuse, trainable, collections, caching_device, partitioner, validate_shape, use_resource, custom_getter, constraint, synchronization, aggregation)\u001b[0m\n\u001b[1;32m   1325\u001b[0m \u001b[38;5;28;01mif\u001b[39;00m dtype \u001b[38;5;129;01mis\u001b[39;00m \u001b[38;5;28;01mNone\u001b[39;00m:\n\u001b[1;32m   1326\u001b[0m   dtype \u001b[38;5;241m=\u001b[39m \u001b[38;5;28mself\u001b[39m\u001b[38;5;241m.\u001b[39m_dtype\n\u001b[0;32m-> 1327\u001b[0m \u001b[38;5;28;01mreturn\u001b[39;00m \u001b[43mvar_store\u001b[49m\u001b[38;5;241;43m.\u001b[39;49m\u001b[43mget_variable\u001b[49m\u001b[43m(\u001b[49m\n\u001b[1;32m   1328\u001b[0m \u001b[43m    \u001b[49m\u001b[43mfull_name\u001b[49m\u001b[43m,\u001b[49m\n\u001b[1;32m   1329\u001b[0m \u001b[43m    \u001b[49m\u001b[43mshape\u001b[49m\u001b[38;5;241;43m=\u001b[39;49m\u001b[43mshape\u001b[49m\u001b[43m,\u001b[49m\n\u001b[1;32m   1330\u001b[0m \u001b[43m    \u001b[49m\u001b[43mdtype\u001b[49m\u001b[38;5;241;43m=\u001b[39;49m\u001b[43mdtype\u001b[49m\u001b[43m,\u001b[49m\n\u001b[1;32m   1331\u001b[0m \u001b[43m    \u001b[49m\u001b[43minitializer\u001b[49m\u001b[38;5;241;43m=\u001b[39;49m\u001b[43minitializer\u001b[49m\u001b[43m,\u001b[49m\n\u001b[1;32m   1332\u001b[0m \u001b[43m    \u001b[49m\u001b[43mregularizer\u001b[49m\u001b[38;5;241;43m=\u001b[39;49m\u001b[43mregularizer\u001b[49m\u001b[43m,\u001b[49m\n\u001b[1;32m   1333\u001b[0m \u001b[43m    \u001b[49m\u001b[43mreuse\u001b[49m\u001b[38;5;241;43m=\u001b[39;49m\u001b[43mreuse\u001b[49m\u001b[43m,\u001b[49m\n\u001b[1;32m   1334\u001b[0m \u001b[43m    \u001b[49m\u001b[43mtrainable\u001b[49m\u001b[38;5;241;43m=\u001b[39;49m\u001b[43mtrainable\u001b[49m\u001b[43m,\u001b[49m\n\u001b[1;32m   1335\u001b[0m \u001b[43m    \u001b[49m\u001b[43mcollections\u001b[49m\u001b[38;5;241;43m=\u001b[39;49m\u001b[43mcollections\u001b[49m\u001b[43m,\u001b[49m\n\u001b[1;32m   1336\u001b[0m \u001b[43m    \u001b[49m\u001b[43mcaching_device\u001b[49m\u001b[38;5;241;43m=\u001b[39;49m\u001b[43mcaching_device\u001b[49m\u001b[43m,\u001b[49m\n\u001b[1;32m   1337\u001b[0m \u001b[43m    \u001b[49m\u001b[43mpartitioner\u001b[49m\u001b[38;5;241;43m=\u001b[39;49m\u001b[43mpartitioner\u001b[49m\u001b[43m,\u001b[49m\n\u001b[1;32m   1338\u001b[0m \u001b[43m    \u001b[49m\u001b[43mvalidate_shape\u001b[49m\u001b[38;5;241;43m=\u001b[39;49m\u001b[43mvalidate_shape\u001b[49m\u001b[43m,\u001b[49m\n\u001b[1;32m   1339\u001b[0m \u001b[43m    \u001b[49m\u001b[43muse_resource\u001b[49m\u001b[38;5;241;43m=\u001b[39;49m\u001b[43muse_resource\u001b[49m\u001b[43m,\u001b[49m\n\u001b[1;32m   1340\u001b[0m \u001b[43m    \u001b[49m\u001b[43mcustom_getter\u001b[49m\u001b[38;5;241;43m=\u001b[39;49m\u001b[43mcustom_getter\u001b[49m\u001b[43m,\u001b[49m\n\u001b[1;32m   1341\u001b[0m \u001b[43m    \u001b[49m\u001b[43mconstraint\u001b[49m\u001b[38;5;241;43m=\u001b[39;49m\u001b[43mconstraint\u001b[49m\u001b[43m,\u001b[49m\n\u001b[1;32m   1342\u001b[0m \u001b[43m    \u001b[49m\u001b[43msynchronization\u001b[49m\u001b[38;5;241;43m=\u001b[39;49m\u001b[43msynchronization\u001b[49m\u001b[43m,\u001b[49m\n\u001b[1;32m   1343\u001b[0m \u001b[43m    \u001b[49m\u001b[43maggregation\u001b[49m\u001b[38;5;241;43m=\u001b[39;49m\u001b[43maggregation\u001b[49m\u001b[43m)\u001b[49m\n",
      "File \u001b[0;32m~/anaconda3/envs/libco/lib/python3.10/site-packages/tensorflow/python/ops/variable_scope.py:583\u001b[0m, in \u001b[0;36m_VariableStore.get_variable\u001b[0;34m(self, name, shape, dtype, initializer, regularizer, reuse, trainable, collections, caching_device, partitioner, validate_shape, use_resource, custom_getter, constraint, synchronization, aggregation)\u001b[0m\n\u001b[1;32m    581\u001b[0m   \u001b[38;5;28;01mreturn\u001b[39;00m custom_getter(\u001b[38;5;241m*\u001b[39m\u001b[38;5;241m*\u001b[39mcustom_getter_kwargs)\n\u001b[1;32m    582\u001b[0m \u001b[38;5;28;01melse\u001b[39;00m:\n\u001b[0;32m--> 583\u001b[0m   \u001b[38;5;28;01mreturn\u001b[39;00m \u001b[43m_true_getter\u001b[49m\u001b[43m(\u001b[49m\n\u001b[1;32m    584\u001b[0m \u001b[43m      \u001b[49m\u001b[43mname\u001b[49m\u001b[43m,\u001b[49m\n\u001b[1;32m    585\u001b[0m \u001b[43m      \u001b[49m\u001b[43mshape\u001b[49m\u001b[38;5;241;43m=\u001b[39;49m\u001b[43mshape\u001b[49m\u001b[43m,\u001b[49m\n\u001b[1;32m    586\u001b[0m \u001b[43m      \u001b[49m\u001b[43mdtype\u001b[49m\u001b[38;5;241;43m=\u001b[39;49m\u001b[43mdtype\u001b[49m\u001b[43m,\u001b[49m\n\u001b[1;32m    587\u001b[0m \u001b[43m      \u001b[49m\u001b[43minitializer\u001b[49m\u001b[38;5;241;43m=\u001b[39;49m\u001b[43minitializer\u001b[49m\u001b[43m,\u001b[49m\n\u001b[1;32m    588\u001b[0m \u001b[43m      \u001b[49m\u001b[43mregularizer\u001b[49m\u001b[38;5;241;43m=\u001b[39;49m\u001b[43mregularizer\u001b[49m\u001b[43m,\u001b[49m\n\u001b[1;32m    589\u001b[0m \u001b[43m      \u001b[49m\u001b[43mreuse\u001b[49m\u001b[38;5;241;43m=\u001b[39;49m\u001b[43mreuse\u001b[49m\u001b[43m,\u001b[49m\n\u001b[1;32m    590\u001b[0m \u001b[43m      \u001b[49m\u001b[43mtrainable\u001b[49m\u001b[38;5;241;43m=\u001b[39;49m\u001b[43mtrainable\u001b[49m\u001b[43m,\u001b[49m\n\u001b[1;32m    591\u001b[0m \u001b[43m      \u001b[49m\u001b[43mcollections\u001b[49m\u001b[38;5;241;43m=\u001b[39;49m\u001b[43mcollections\u001b[49m\u001b[43m,\u001b[49m\n\u001b[1;32m    592\u001b[0m \u001b[43m      \u001b[49m\u001b[43mcaching_device\u001b[49m\u001b[38;5;241;43m=\u001b[39;49m\u001b[43mcaching_device\u001b[49m\u001b[43m,\u001b[49m\n\u001b[1;32m    593\u001b[0m \u001b[43m      \u001b[49m\u001b[43mpartitioner\u001b[49m\u001b[38;5;241;43m=\u001b[39;49m\u001b[43mpartitioner\u001b[49m\u001b[43m,\u001b[49m\n\u001b[1;32m    594\u001b[0m \u001b[43m      \u001b[49m\u001b[43mvalidate_shape\u001b[49m\u001b[38;5;241;43m=\u001b[39;49m\u001b[43mvalidate_shape\u001b[49m\u001b[43m,\u001b[49m\n\u001b[1;32m    595\u001b[0m \u001b[43m      \u001b[49m\u001b[43muse_resource\u001b[49m\u001b[38;5;241;43m=\u001b[39;49m\u001b[43muse_resource\u001b[49m\u001b[43m,\u001b[49m\n\u001b[1;32m    596\u001b[0m \u001b[43m      \u001b[49m\u001b[43mconstraint\u001b[49m\u001b[38;5;241;43m=\u001b[39;49m\u001b[43mconstraint\u001b[49m\u001b[43m,\u001b[49m\n\u001b[1;32m    597\u001b[0m \u001b[43m      \u001b[49m\u001b[43msynchronization\u001b[49m\u001b[38;5;241;43m=\u001b[39;49m\u001b[43msynchronization\u001b[49m\u001b[43m,\u001b[49m\n\u001b[1;32m    598\u001b[0m \u001b[43m      \u001b[49m\u001b[43maggregation\u001b[49m\u001b[38;5;241;43m=\u001b[39;49m\u001b[43maggregation\u001b[49m\u001b[43m)\u001b[49m\n",
      "File \u001b[0;32m~/anaconda3/envs/libco/lib/python3.10/site-packages/tensorflow/python/ops/variable_scope.py:536\u001b[0m, in \u001b[0;36m_VariableStore.get_variable.<locals>._true_getter\u001b[0;34m(name, shape, dtype, initializer, regularizer, reuse, trainable, collections, caching_device, partitioner, validate_shape, use_resource, constraint, synchronization, aggregation)\u001b[0m\n\u001b[1;32m    530\u001b[0m \u001b[38;5;28;01mif\u001b[39;00m \u001b[38;5;124m\"\u001b[39m\u001b[38;5;132;01m%s\u001b[39;00m\u001b[38;5;124m/part_0\u001b[39m\u001b[38;5;124m\"\u001b[39m \u001b[38;5;241m%\u001b[39m name \u001b[38;5;129;01min\u001b[39;00m \u001b[38;5;28mself\u001b[39m\u001b[38;5;241m.\u001b[39m_vars:\n\u001b[1;32m    531\u001b[0m   \u001b[38;5;28;01mraise\u001b[39;00m \u001b[38;5;167;01mValueError\u001b[39;00m(\n\u001b[1;32m    532\u001b[0m       \u001b[38;5;124m\"\u001b[39m\u001b[38;5;124mNo partitioner was provided, but a partitioned version of the \u001b[39m\u001b[38;5;124m\"\u001b[39m\n\u001b[1;32m    533\u001b[0m       \u001b[38;5;124m\"\u001b[39m\u001b[38;5;124mvariable was found: \u001b[39m\u001b[38;5;132;01m%s\u001b[39;00m\u001b[38;5;124m/part_0. Perhaps a variable of the same \u001b[39m\u001b[38;5;124m\"\u001b[39m\n\u001b[1;32m    534\u001b[0m       \u001b[38;5;124m\"\u001b[39m\u001b[38;5;124mname was already created with partitioning?\u001b[39m\u001b[38;5;124m\"\u001b[39m \u001b[38;5;241m%\u001b[39m name)\n\u001b[0;32m--> 536\u001b[0m \u001b[38;5;28;01mreturn\u001b[39;00m \u001b[38;5;28;43mself\u001b[39;49m\u001b[38;5;241;43m.\u001b[39;49m\u001b[43m_get_single_variable\u001b[49m\u001b[43m(\u001b[49m\n\u001b[1;32m    537\u001b[0m \u001b[43m    \u001b[49m\u001b[43mname\u001b[49m\u001b[38;5;241;43m=\u001b[39;49m\u001b[43mname\u001b[49m\u001b[43m,\u001b[49m\n\u001b[1;32m    538\u001b[0m \u001b[43m    \u001b[49m\u001b[43mshape\u001b[49m\u001b[38;5;241;43m=\u001b[39;49m\u001b[43mshape\u001b[49m\u001b[43m,\u001b[49m\n\u001b[1;32m    539\u001b[0m \u001b[43m    \u001b[49m\u001b[43mdtype\u001b[49m\u001b[38;5;241;43m=\u001b[39;49m\u001b[43mdtype\u001b[49m\u001b[43m,\u001b[49m\n\u001b[1;32m    540\u001b[0m \u001b[43m    \u001b[49m\u001b[43minitializer\u001b[49m\u001b[38;5;241;43m=\u001b[39;49m\u001b[43minitializer\u001b[49m\u001b[43m,\u001b[49m\n\u001b[1;32m    541\u001b[0m \u001b[43m    \u001b[49m\u001b[43mregularizer\u001b[49m\u001b[38;5;241;43m=\u001b[39;49m\u001b[43mregularizer\u001b[49m\u001b[43m,\u001b[49m\n\u001b[1;32m    542\u001b[0m \u001b[43m    \u001b[49m\u001b[43mreuse\u001b[49m\u001b[38;5;241;43m=\u001b[39;49m\u001b[43mreuse\u001b[49m\u001b[43m,\u001b[49m\n\u001b[1;32m    543\u001b[0m \u001b[43m    \u001b[49m\u001b[43mtrainable\u001b[49m\u001b[38;5;241;43m=\u001b[39;49m\u001b[43mtrainable\u001b[49m\u001b[43m,\u001b[49m\n\u001b[1;32m    544\u001b[0m \u001b[43m    \u001b[49m\u001b[43mcollections\u001b[49m\u001b[38;5;241;43m=\u001b[39;49m\u001b[43mcollections\u001b[49m\u001b[43m,\u001b[49m\n\u001b[1;32m    545\u001b[0m \u001b[43m    \u001b[49m\u001b[43mcaching_device\u001b[49m\u001b[38;5;241;43m=\u001b[39;49m\u001b[43mcaching_device\u001b[49m\u001b[43m,\u001b[49m\n\u001b[1;32m    546\u001b[0m \u001b[43m    \u001b[49m\u001b[43mvalidate_shape\u001b[49m\u001b[38;5;241;43m=\u001b[39;49m\u001b[43mvalidate_shape\u001b[49m\u001b[43m,\u001b[49m\n\u001b[1;32m    547\u001b[0m \u001b[43m    \u001b[49m\u001b[43muse_resource\u001b[49m\u001b[38;5;241;43m=\u001b[39;49m\u001b[43muse_resource\u001b[49m\u001b[43m,\u001b[49m\n\u001b[1;32m    548\u001b[0m \u001b[43m    \u001b[49m\u001b[43mconstraint\u001b[49m\u001b[38;5;241;43m=\u001b[39;49m\u001b[43mconstraint\u001b[49m\u001b[43m,\u001b[49m\n\u001b[1;32m    549\u001b[0m \u001b[43m    \u001b[49m\u001b[43msynchronization\u001b[49m\u001b[38;5;241;43m=\u001b[39;49m\u001b[43msynchronization\u001b[49m\u001b[43m,\u001b[49m\n\u001b[1;32m    550\u001b[0m \u001b[43m    \u001b[49m\u001b[43maggregation\u001b[49m\u001b[38;5;241;43m=\u001b[39;49m\u001b[43maggregation\u001b[49m\u001b[43m)\u001b[49m\n",
      "File \u001b[0;32m~/anaconda3/envs/libco/lib/python3.10/site-packages/tensorflow/python/ops/variable_scope.py:899\u001b[0m, in \u001b[0;36m_VariableStore._get_single_variable\u001b[0;34m(self, name, shape, dtype, initializer, regularizer, partition_info, reuse, trainable, collections, caching_device, validate_shape, use_resource, constraint, synchronization, aggregation)\u001b[0m\n\u001b[1;32m    894\u001b[0m   \u001b[38;5;66;03m# Throw away internal tf entries and only take a few lines. In some\u001b[39;00m\n\u001b[1;32m    895\u001b[0m   \u001b[38;5;66;03m# cases the traceback can be longer (e.g. if someone uses factory\u001b[39;00m\n\u001b[1;32m    896\u001b[0m   \u001b[38;5;66;03m# functions to create variables) so we take more than needed in the\u001b[39;00m\n\u001b[1;32m    897\u001b[0m   \u001b[38;5;66;03m# default case.\u001b[39;00m\n\u001b[1;32m    898\u001b[0m   tb \u001b[38;5;241m=\u001b[39m [x \u001b[38;5;28;01mfor\u001b[39;00m x \u001b[38;5;129;01min\u001b[39;00m tb \u001b[38;5;28;01mif\u001b[39;00m \u001b[38;5;124m\"\u001b[39m\u001b[38;5;124mtensorflow/python\u001b[39m\u001b[38;5;124m\"\u001b[39m \u001b[38;5;129;01mnot\u001b[39;00m \u001b[38;5;129;01min\u001b[39;00m x[\u001b[38;5;241m0\u001b[39m]][:\u001b[38;5;241m5\u001b[39m]\n\u001b[0;32m--> 899\u001b[0m   \u001b[38;5;28;01mraise\u001b[39;00m \u001b[38;5;167;01mValueError\u001b[39;00m(\u001b[38;5;124m\"\u001b[39m\u001b[38;5;132;01m%s\u001b[39;00m\u001b[38;5;124m Originally defined at:\u001b[39m\u001b[38;5;130;01m\\n\u001b[39;00m\u001b[38;5;130;01m\\n\u001b[39;00m\u001b[38;5;132;01m%s\u001b[39;00m\u001b[38;5;124m\"\u001b[39m \u001b[38;5;241m%\u001b[39m\n\u001b[1;32m    900\u001b[0m                    (err_msg, \u001b[38;5;124m\"\u001b[39m\u001b[38;5;124m\"\u001b[39m\u001b[38;5;241m.\u001b[39mjoin(traceback\u001b[38;5;241m.\u001b[39mformat_list(tb))))\n\u001b[1;32m    901\u001b[0m found_var \u001b[38;5;241m=\u001b[39m \u001b[38;5;28mself\u001b[39m\u001b[38;5;241m.\u001b[39m_vars[name]\n\u001b[1;32m    902\u001b[0m \u001b[38;5;28;01mif\u001b[39;00m \u001b[38;5;129;01mnot\u001b[39;00m shape\u001b[38;5;241m.\u001b[39mis_compatible_with(found_var\u001b[38;5;241m.\u001b[39mget_shape()):\n",
      "\u001b[0;31mValueError\u001b[0m: Variable embedding/item_embeds_var already exists, disallowed. Did you mean to set reuse=True or reuse=tf.AUTO_REUSE in VarScope? Originally defined at:\n\n  File \"/home/tamak/.local/lib/python3.10/site-packages/libreco/algorithms/rnn4rec.py\", line 202, in _build_variables\n    self.item_embeds = tf.get_variable(\n  File \"/home/tamak/.local/lib/python3.10/site-packages/libreco/algorithms/rnn4rec.py\", line 154, in build_model\n    self._build_variables()\n  File \"/home/tamak/.local/lib/python3.10/site-packages/libreco/bases/embed_base.py\", line 133, in fit\n    self.build_model()\n  File \"/tmp/ipykernel_2873/3869183815.py\", line 1, in <module>\n    model.fit(train_data, neg_sampling=True)\n  File \"/home/tamak/.local/lib/python3.10/site-packages/IPython/core/interactiveshell.py\", line 3577, in run_code\n    exec(code_obj, self.user_global_ns, self.user_ns)\n"
     ]
    }
   ],
   "source": [
    "from libreco.algorithms import RNN4Rec\n",
    "# mdoel = RNN4Rec.load(path='./libreco_RNN4rec', model_name='test_RNN4rec', data_info=data_info, batch_size=8192,embed_size=8, hidden_units=8)\n",
    "model2 = RNN4Rec.load(path='./libreco_RNN4rec_2', model_name='test_RNN4rec', data_info=data_info)"
   ]
  },
  {
   "cell_type": "code",
   "execution_count": 12,
   "id": "89f26d04",
   "metadata": {},
   "outputs": [
    {
     "name": "stderr",
     "output_type": "stream",
     "text": [
      "100%|██████████| 99492/99492 [1:19:29<00:00, 20.86it/s]\n"
     ]
    }
   ],
   "source": [
    "import numpy as np\n",
    "from tqdm import tqdm\n",
    "\n",
    "results = []\n",
    "users = []\n",
    "seqs = []\n",
    "corrs = []\n",
    "for user, session in tqdm(test_sessions[:int(232150/7*3)]):\n",
    "    session = np.array(session, dtype=int)\n",
    "\n",
    "    if len(session) > 11:\n",
    "        seq = session[:10]\n",
    "        correct = session[10]\n",
    "    else:\n",
    "        seq = session[:-1]\n",
    "        correct = session[-1]\n",
    "        \n",
    "\n",
    "    rec = model.recommend_user(user=user, n_rec = 20, seq  = seq)\n",
    "    results.append( (correct, rec[user]) )"
   ]
  },
  {
   "cell_type": "code",
   "execution_count": 13,
   "id": "e9d8c571",
   "metadata": {},
   "outputs": [],
   "source": [
    "with open('./libreco_result.tsv',mode='w') as f:\n",
    "    for corr, recs in results:\n",
    "        f.write(str(corr))\n",
    "        for rec in recs:\n",
    "            f.write('\\t'+str(rec))\n",
    "        f.write('\\n')"
   ]
  },
  {
   "cell_type": "code",
   "execution_count": 14,
   "id": "a63f99a0",
   "metadata": {},
   "outputs": [
    {
     "data": {
      "text/plain": [
       "(996101,\n",
       " array([ 583951,  392805,  391659,  280432, 2035770, 1019768,  383029,\n",
       "        1231251,  547386,  976332, 1232003,  279727,  280427,  411081,\n",
       "         674824,  710168, 1010875,  888187,  236111,  857061]))"
      ]
     },
     "execution_count": 14,
     "metadata": {},
     "output_type": "execute_result"
    }
   ],
   "source": [
    "results[0]"
   ]
  },
  {
   "cell_type": "markdown",
   "id": "65a64723",
   "metadata": {},
   "source": [
    "# check result"
   ]
  },
  {
   "cell_type": "code",
   "execution_count": 14,
   "id": "2719d8a6",
   "metadata": {},
   "outputs": [
    {
     "name": "stdout",
     "output_type": "stream",
     "text": [
      "length :  99492\n",
      "Hit Rate :  1.0051059381658827e-05\n",
      "average MRR :  1.0051059381658827e-05\n"
     ]
    }
   ],
   "source": [
    "import numpy as np\n",
    "\n",
    "HR = []\n",
    "MRR = []\n",
    "\n",
    "with open('./libreco_result.tsv',mode='r') as f:\n",
    "    for line in f.readlines():\n",
    "        true_item = np.array(line[0], dtype=int)\n",
    "        pred_items = np.array(line[1:].split('\\t'), dtype=int)\n",
    "\n",
    "        HR.append( true_item in pred_items )\n",
    "\n",
    "        if true_item in pred_items:\n",
    "            rr = np.where(pred_items==true_item)\n",
    "            MRR.append( 1/( rr[0][0] + 1 )   )\n",
    "        else:\n",
    "            MRR.append(0)\n",
    "\n",
    "\n",
    "print('length : ',len(MRR))\n",
    "print('Hit Rate : ', sum(HR)/len(HR))\n",
    "print('average MRR : ',sum(MRR)/len(MRR))"
   ]
  }
 ],
 "metadata": {
  "kernelspec": {
   "display_name": "libco",
   "language": "python",
   "name": "python3"
  },
  "language_info": {
   "codemirror_mode": {
    "name": "ipython",
    "version": 3
   },
   "file_extension": ".py",
   "mimetype": "text/x-python",
   "name": "python",
   "nbconvert_exporter": "python",
   "pygments_lexer": "ipython3",
   "version": "3.10.17"
  }
 },
 "nbformat": 4,
 "nbformat_minor": 5
}

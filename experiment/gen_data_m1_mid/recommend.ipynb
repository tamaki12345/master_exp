{
 "cells": [
  {
   "cell_type": "markdown",
   "id": "c1d24bb3",
   "metadata": {},
   "source": [
    "THEANO_FLAGS=\"device=cuda0,floatX=float32\" CUDA_DEVICE_ORDER=PCI_BUS_ID python ./session-rec-master/run_config.py ./test_next.yml  \n",
    "THEANO_FLAGS=\"device=cuda0,floatX=float32\" CUDA_DEVICE_ORDER=PCI_BUS_ID python /home/tamak/master_exp/session-rec-master/run_config.py ./test_next.yml"
   ]
  },
  {
   "cell_type": "markdown",
   "id": "7c124a64",
   "metadata": {},
   "source": [
    "# データ確認"
   ]
  },
  {
   "cell_type": "code",
   "execution_count": 1,
   "id": "396f3976",
   "metadata": {},
   "outputs": [
    {
     "name": "stdout",
     "output_type": "stream",
     "text": [
      "0\n",
      "[]\n"
     ]
    }
   ],
   "source": [
    "tmp = []\n",
    "with open('/home/tamak/master_exp/experiment/gen_data_m1_mid/srec_data/experiment_test.txt', mode = 'r') as f:\n",
    "    for i, line in enumerate(f.readlines()):\n",
    "        if len(line.split('\\t')) != 3:\n",
    "            tmp.append(i)\n",
    "\n",
    "print(len(tmp))\n",
    "print(tmp)"
   ]
  },
  {
   "cell_type": "code",
   "execution_count": 2,
   "id": "74eaf3fd",
   "metadata": {},
   "outputs": [
    {
     "name": "stdout",
     "output_type": "stream",
     "text": [
      "0\n",
      "[]\n"
     ]
    }
   ],
   "source": [
    "tmp = []\n",
    "with open('/home/tamak/master_exp/experiment/gen_data_m1_mid/srec_data/experiment_train_full.txt', mode = 'r') as f:\n",
    "    for i, line in enumerate(f.readlines()):\n",
    "        if len(line.split('\\t')) != 3:\n",
    "            tmp.append(i)\n",
    "\n",
    "print(len(tmp))\n",
    "print(tmp)"
   ]
  },
  {
   "cell_type": "code",
   "execution_count": 13,
   "id": "cc89c91e",
   "metadata": {},
   "outputs": [],
   "source": [
    "train_set = set()\n",
    "with open('/home/tamak/master_exp/experiment/gen_data_m1_mid/srec_data/experiment_train_full.txt', mode = 'r') as f:\n",
    "    for i, line in enumerate(f.readlines()[1:]):\n",
    "        s_id, t_id, time = line.split('\\t')\n",
    "        train_set.add(int(t_id))\n",
    "\n",
    "test_set = set()\n",
    "with open('/home/tamak/master_exp/experiment/gen_data_m1_mid/srec_data/experiment_test.txt', mode = 'r') as f:\n",
    "    for i, line in enumerate(f.readlines()[1:]):\n",
    "        s_id, t_id, time = line.split('\\t')\n",
    "        test_set.add(int(t_id))"
   ]
  },
  {
   "cell_type": "code",
   "execution_count": 14,
   "id": "12b546fe",
   "metadata": {},
   "outputs": [
    {
     "name": "stdout",
     "output_type": "stream",
     "text": [
      "2811891\n",
      "310528\n",
      "855\n",
      "2502218\n"
     ]
    }
   ],
   "source": [
    "print(len(train_set))\n",
    "print(len(test_set))\n",
    "print(len( (test_set - train_set) ))\n",
    "print(len( (train_set - test_set) ))"
   ]
  },
  {
   "cell_type": "code",
   "execution_count": 15,
   "id": "3fa2fe5c",
   "metadata": {},
   "outputs": [],
   "source": [
    "gen_track_set = set()\n",
    "\n",
    "with open('/home/tamak/master_exp/coherence/rearranged.tsv', mode = 'r') as f:\n",
    "    for line in f.readlines():\n",
    "        data = line.split('\\t')\n",
    "        for track in data[1:]:\n",
    "            gen_track_set.add(int(track))\n",
    "            \n",
    "with open('/home/tamak/master_exp/coherence/rearranged_longers.tsv', mode = 'r') as f:\n",
    "    for line in f.readlines():\n",
    "        data = line.split('\\t')\n",
    "        for track in data[1:]:\n",
    "            gen_track_set.add(int(track))"
   ]
  },
  {
   "cell_type": "code",
   "execution_count": 16,
   "id": "812a3100",
   "metadata": {},
   "outputs": [
    {
     "name": "stdout",
     "output_type": "stream",
     "text": [
      "1251878\n",
      "58346\n"
     ]
    }
   ],
   "source": [
    "\n",
    "print(len(gen_track_set))\n",
    "print(len( (test_set - gen_track_set) ))"
   ]
  },
  {
   "cell_type": "code",
   "execution_count": 17,
   "id": "29a9f3f1",
   "metadata": {},
   "outputs": [
    {
     "name": "stdout",
     "output_type": "stream",
     "text": [
      "2810739\n",
      "858\n"
     ]
    }
   ],
   "source": [
    "gen_track_set = set()\n",
    "with open('/home/tamak/master_exp/experiment/gen_data_m1_mid/srec_data/exp0711_train_full.txt', mode = 'r') as f:\n",
    "    for i, line in enumerate(f.readlines()[1:]):\n",
    "        s_id, t_id, time = line.split('\\t')\n",
    "        gen_track_set.add(int(t_id))\n",
    "        \n",
    "print(len(gen_track_set))\n",
    "print(len( (test_set - gen_track_set) ))\n"
   ]
  },
  {
   "cell_type": "code",
   "execution_count": 9,
   "id": "6e51b95d",
   "metadata": {},
   "outputs": [],
   "source": [
    "from collections import defaultdict\n",
    "track_dict = defaultdict()\n",
    "\n",
    "with open('/home/tamak/master_exp/modify_dataset/spotify_playlists_dataset/track_id.tsv', mode = 'r') as f:\n",
    "    \n",
    "    for line in f.readlines():\n",
    "        artistname, trackname, id = line.split('\\t')\n",
    "        track_dict[ int(id) ] = (artistname, trackname)"
   ]
  },
  {
   "cell_type": "code",
   "execution_count": 13,
   "id": "c7ec9d4d",
   "metadata": {},
   "outputs": [
    {
     "name": "stdout",
     "output_type": "stream",
     "text": [
      "2824004\n"
     ]
    }
   ],
   "source": [
    "print(len(track_dict))"
   ]
  },
  {
   "cell_type": "code",
   "execution_count": 11,
   "id": "35d2b4f5",
   "metadata": {},
   "outputs": [
    {
     "name": "stdout",
     "output_type": "stream",
     "text": [
      "855\n"
     ]
    }
   ],
   "source": [
    "errors = test_set - train_set\n",
    "check = []\n",
    "\n",
    "for track in errors:\n",
    "    check.append( (track in track_dict) )\n",
    "\n",
    "print(sum(check))"
   ]
  },
  {
   "cell_type": "markdown",
   "id": "066e2e86",
   "metadata": {},
   "source": [
    "## 前のデータは？"
   ]
  },
  {
   "cell_type": "code",
   "execution_count": 4,
   "id": "2298edd3",
   "metadata": {},
   "outputs": [
    {
     "name": "stdout",
     "output_type": "stream",
     "text": [
      "2822875\n",
      "0\n",
      "0\n"
     ]
    }
   ],
   "source": [
    "ex_train_set = set()\n",
    "with open('/home/tamak/master_exp/modify_dataset/srec_data/experiment_train_full.txt', mode = 'r') as f:\n",
    "    for i, line in enumerate(f.readlines()[1:]):\n",
    "        s_id, t_id, time = line.split('\\t')\n",
    "        ex_train_set.add(int(t_id))\n",
    "\n",
    "ex_test_set = set()\n",
    "with open('/home/tamak/master_exp/modify_dataset/srec_data/experiment_test.txt', mode = 'r') as f:\n",
    "    for i, line in enumerate(f.readlines()[1:]):\n",
    "        s_id, t_id, time = line.split('\\t')\n",
    "        ex_train_set.add(int(t_id))\n",
    "\n",
    "print(len(ex_train_set))\n",
    "print(len(ex_test_set))\n",
    "print(len( (ex_test_set - ex_train_set) ))"
   ]
  },
  {
   "cell_type": "code",
   "execution_count": 12,
   "id": "0a3831b2",
   "metadata": {},
   "outputs": [
    {
     "name": "stdout",
     "output_type": "stream",
     "text": [
      "2822875\n",
      "2824004\n",
      "1129\n",
      "0\n"
     ]
    }
   ],
   "source": [
    "origin_set = set()\n",
    "\n",
    "with open('/home/tamak/master_exp/modify_dataset/spotify_playlists_dataset/playlist_id.tsv', mode = 'r') as f:\n",
    "    for i, line in enumerate(f.readlines()):\n",
    "        data = line.split('\\t')\n",
    "        p_id = data[0]\n",
    "        playlist = data[1:]\n",
    "        for t_id in playlist:\n",
    "            origin_set.add(int(t_id))\n",
    "\n",
    "            \n",
    "print(len(ex_train_set))\n",
    "print(len(origin_set))\n",
    "print(len( (origin_set - ex_train_set) ))\n",
    "print(len( (test_set - origin_set) ))"
   ]
  },
  {
   "cell_type": "code",
   "execution_count": 2,
   "id": "e29bffaa",
   "metadata": {},
   "outputs": [],
   "source": [
    "import numpy as np\n",
    "from collections import defaultdict\n",
    "\n",
    "playlist_set = set()\n",
    "track_set = set()\n",
    "playlist_id = defaultdict()\n",
    "\n",
    "with open('/home/tamak/master_exp/modify_dataset/spotify_playlists_dataset/user_playlist_pairs.tsv', mode = 'r') as f:\n",
    "    \n",
    "    for line in f.readlines()[1:]:\n",
    "        data = line.split('\\t,\\t')\n",
    "        \n",
    "        user = data[0]\n",
    "        title = data[1]\n",
    "        playlist = data[2:]\n",
    "        if len(playlist) == 1:\n",
    "            continue\n",
    "\n",
    "        tmp = []\n",
    "        for t in playlist:\n",
    "            track_set.add(int(t))\n",
    "            tmp.append( int(t) )\n",
    "        tmp = tuple(tmp)\n",
    "        \n",
    "        if tmp not in playlist_set:\n",
    "            playlist_set.add(tmp)\n",
    "            playlist_id[tmp] = len(playlist_id)"
   ]
  },
  {
   "cell_type": "code",
   "execution_count": 22,
   "id": "eaf227cf",
   "metadata": {},
   "outputs": [
    {
     "name": "stdout",
     "output_type": "stream",
     "text": [
      "2822875\n",
      "2824004\n",
      "1129\n",
      "0\n",
      "================\n",
      "2824004\n",
      "1129\n",
      "0\n",
      "================\n",
      "2822875\n",
      "2822875\n",
      "0\n"
     ]
    }
   ],
   "source": [
    "check_set = set()\n",
    "for playlist in playlist_set:\n",
    "    for t_id in playlist:\n",
    "        check_set.add(t_id)\n",
    "\n",
    "check2 = set()\n",
    "for playlist in playlist_id.keys():\n",
    "    for t in playlist:\n",
    "        check2.add(t)\n",
    "\n",
    "print(len(ex_train_set))\n",
    "print(len(check_set))\n",
    "print(len( (check_set - ex_train_set) ))\n",
    "print(len( (test_set - check_set) ))\n",
    "\n",
    "print('================')\n",
    "\n",
    "print(len(check2))\n",
    "print(len( (check2 - ex_train_set) ))\n",
    "print(len( (test_set - check2) ))\n",
    "\n",
    "print('================')\n",
    "\n",
    "print(len(ex_train_set))\n",
    "print(len(track_set))\n",
    "print(len( (track_set - ex_train_set) ))"
   ]
  },
  {
   "cell_type": "markdown",
   "id": "fcf7a2d9",
   "metadata": {},
   "source": [
    "↑これがただしそう"
   ]
  },
  {
   "cell_type": "markdown",
   "id": "cb50ac01",
   "metadata": {},
   "source": [
    "以前の方法"
   ]
  },
  {
   "cell_type": "code",
   "execution_count": 23,
   "id": "40afedfe",
   "metadata": {},
   "outputs": [],
   "source": [
    "playlist_set = set()\n",
    "playlist_id = defaultdict()\n",
    "user_playlist_pairs = defaultdict(list)\n",
    "\n",
    "with open('/home/tamak/master_exp/modify_dataset/spotify_playlists_dataset/user_playlist_pairs.tsv', mode = 'r') as f:\n",
    "    \n",
    "    for line in f.readlines()[1:]:\n",
    "        data = line.split('\\t,\\t')\n",
    "        \n",
    "        user = data[0]\n",
    "        title = data[1]\n",
    "        playlist = data[2:]\n",
    "        playlist = tuple(np.array(playlist, dtype = int))\n",
    "        \n",
    "        if playlist in playlist_set:\n",
    "            user_playlist_pairs[user].append( (title, playlist_id[playlist]) )\n",
    "            \n",
    "        else:\n",
    "            playlist_set.add(playlist)\n",
    "            playlist_id[playlist] = len(playlist_id)\n",
    "            user_playlist_pairs[user].append( (title, playlist_id[playlist]) )"
   ]
  },
  {
   "cell_type": "code",
   "execution_count": 24,
   "id": "b939b83e",
   "metadata": {},
   "outputs": [
    {
     "name": "stdout",
     "output_type": "stream",
     "text": [
      "2822875\n",
      "2824004\n",
      "1129\n",
      "0\n",
      "================\n",
      "2824004\n",
      "1129\n",
      "0\n"
     ]
    }
   ],
   "source": [
    "check_set = set()\n",
    "for playlist in playlist_set:\n",
    "    for t_id in playlist:\n",
    "        check_set.add(t_id)\n",
    "\n",
    "check2 = set()\n",
    "for playlist in playlist_id.keys():\n",
    "    for t in playlist:\n",
    "        check2.add(t)\n",
    "\n",
    "print(len(ex_train_set))\n",
    "print(len(check_set))\n",
    "print(len( (check_set - ex_train_set) ))\n",
    "print(len( (test_set - check_set) ))\n",
    "\n",
    "print('================')\n",
    "\n",
    "print(len(check2))\n",
    "print(len( (check2 - ex_train_set) ))\n",
    "print(len( (     - check_set) ))"
   ]
  },
  {
   "cell_type": "code",
   "execution_count": 7,
   "id": "10286320",
   "metadata": {},
   "outputs": [
    {
     "name": "stdout",
     "output_type": "stream",
     "text": [
      "0\n"
     ]
    }
   ],
   "source": [
    "print(len( (test_set - check2) ))"
   ]
  },
  {
   "cell_type": "code",
   "execution_count": 12,
   "id": "9d0bd58f",
   "metadata": {},
   "outputs": [
    {
     "name": "stdout",
     "output_type": "stream",
     "text": [
      "0\n",
      "0\n"
     ]
    }
   ],
   "source": [
    "print(len( (test_set - ex_train_set) ))\n",
    "print(len( (test_set - track_set) ))"
   ]
  },
  {
   "cell_type": "code",
   "execution_count": 16,
   "id": "5e43adec",
   "metadata": {},
   "outputs": [
    {
     "name": "stdout",
     "output_type": "stream",
     "text": [
      "1\n",
      "1\n",
      "0\n"
     ]
    }
   ],
   "source": [
    "A = set([0,1,2])\n",
    "B = set([0,1])\n",
    "C = set([0,1,3])\n",
    "\n",
    "print(len(A-B))\n",
    "print(len(C-A))\n",
    "print(len(B-A))"
   ]
  },
  {
   "cell_type": "code",
   "execution_count": 10,
   "id": "72debe2b",
   "metadata": {},
   "outputs": [],
   "source": [
    "import numpy as np\n",
    "from collections import defaultdict\n",
    "playlist_set = set()\n",
    "playlist_id = defaultdict()\n",
    "user_playlist_pairs = defaultdict(list)\n",
    "\n",
    "with open('/home/tamak/master_exp/modify_dataset/spotify_playlists_dataset/user_playlist_pairs.tsv', mode = 'r') as f:\n",
    "    \n",
    "    for line in f.readlines()[1:]:\n",
    "        data = line.split('\\t,\\t')\n",
    "        \n",
    "        user = data[0]\n",
    "        title = data[1]\n",
    "        playlist = data[2:]\n",
    "        playlist = tuple(np.array(playlist, dtype = int))\n",
    "        # if len(playlist) == 1:\n",
    "        #     continue\n",
    "\n",
    "        if playlist in playlist_set:\n",
    "            user_playlist_pairs[user].append( (title, playlist_id[playlist]) )\n",
    "            \n",
    "        else:\n",
    "            playlist_set.add(playlist)\n",
    "            playlist_id[playlist] = len(playlist_id)\n",
    "            user_playlist_pairs[user].append( (title, playlist_id[playlist]) )"
   ]
  },
  {
   "cell_type": "code",
   "execution_count": 11,
   "id": "480ae5b1",
   "metadata": {},
   "outputs": [
    {
     "name": "stdout",
     "output_type": "stream",
     "text": [
      "2824004\n",
      "1129\n",
      "0\n"
     ]
    }
   ],
   "source": [
    "check2 = set()\n",
    "for playlist in playlist_id.keys():\n",
    "    for t in playlist:\n",
    "        check2.add(t)\n",
    "        \n",
    "print(len(check2))\n",
    "print(len( (check2 - ex_train_set) ))\n",
    "print(len( (test_set - check2) ))"
   ]
  },
  {
   "cell_type": "code",
   "execution_count": 20,
   "id": "86a46420",
   "metadata": {},
   "outputs": [
    {
     "name": "stdout",
     "output_type": "stream",
     "text": [
      "2810739\n",
      "310528\n",
      "858\n",
      "2501069\n"
     ]
    }
   ],
   "source": [
    "gen_set = set()\n",
    "with open('/home/tamak/master_exp/experiment/gen_data_m1_mid/srec_data/exp0711_train_full.txt', mode = 'r') as f:\n",
    "    for i, line in enumerate(f.readlines()[1:]):\n",
    "        s_id, t_id, time = line.split('\\t')\n",
    "        gen_set.add(int(t_id))\n",
    "\n",
    "print(len(gen_set))\n",
    "print(len(test_set))\n",
    "print(len( (test_set - gen_set) ))\n",
    "print(len( ( gen_set - test_set) ))"
   ]
  },
  {
   "cell_type": "code",
   "execution_count": 19,
   "id": "63ce9367",
   "metadata": {},
   "outputs": [
    {
     "name": "stdout",
     "output_type": "stream",
     "text": [
      "2822875\n",
      "2822875\n",
      "0\n"
     ]
    }
   ],
   "source": [
    "check_set = set()\n",
    "\n",
    "with open('/home/tamak/master_exp/modify_dataset/spotify_playlists_dataset/user_playlist_pairs.tsv', mode = 'r') as f:\n",
    "\n",
    "    for session_id, line in enumerate(f.readlines()[1:]):\n",
    "        data = line.split('\\t,\\t')\n",
    "        user_id = data[0]\n",
    "        session = data[2:]\n",
    "\n",
    "        tmp = []\n",
    "        if len(session) == 1:\n",
    "            continue\n",
    "        for i, track_id in enumerate(session):\n",
    "            check_set.add(int(track_id))\n",
    "\n",
    "            \n",
    "print(len(train_set))\n",
    "print(len(check_set))\n",
    "print(len( (check_set - train_set) ))"
   ]
  },
  {
   "cell_type": "markdown",
   "id": "0c600231",
   "metadata": {},
   "source": [
    "# 7/12 修正後確認"
   ]
  },
  {
   "cell_type": "code",
   "execution_count": 5,
   "id": "14ea20ae",
   "metadata": {},
   "outputs": [],
   "source": [
    "train_set = set()\n",
    "with open('/home/tamak/master_exp/coherence/rearranged0712.tsv', mode = 'r') as f:\n",
    "    for line in f.readlines():\n",
    "        data = line.split('\\t')\n",
    "        if len(data[1:]) == 1:\n",
    "            continue\n",
    "        for t in data[1:]:\n",
    "            train_set.add(int(t))"
   ]
  },
  {
   "cell_type": "code",
   "execution_count": 8,
   "id": "964a73e7",
   "metadata": {},
   "outputs": [],
   "source": [
    "train_set2 = set()\n",
    "with open('/home/tamak/master_exp/coherence/experiment_train_full.txt', mode = 'r') as f:\n",
    "    for i, line in enumerate(f.readlines()[1:]):\n",
    "        s_id, t_id, time = line.split('\\t')\n",
    "        train_set2.add(int(t_id))"
   ]
  },
  {
   "cell_type": "code",
   "execution_count": null,
   "id": "00c1c4bc",
   "metadata": {},
   "outputs": [],
   "source": [
    "test_set = set()\n",
    "with open('/home/tamak/master_exp/experiment/gen_data_m1_mid/srec_data/experiment_test.txt', mode = 'r') as f:\n",
    "    for i, line in enumerate(f.readlines()[1:]):\n",
    "        s_id, t_id, time = line.split('\\t')\n",
    "        test_set.add(int(t_id))"
   ]
  },
  {
   "cell_type": "code",
   "execution_count": 6,
   "id": "244ab4de",
   "metadata": {},
   "outputs": [
    {
     "name": "stdout",
     "output_type": "stream",
     "text": [
      "2822875\n",
      "310528\n",
      "0\n",
      "2512347\n"
     ]
    }
   ],
   "source": [
    "print(len(train_set))\n",
    "print(len(test_set))\n",
    "print(len( (test_set - train_set) ))\n",
    "print(len( (train_set - test_set) ))"
   ]
  },
  {
   "cell_type": "code",
   "execution_count": 9,
   "id": "f26dc2d8",
   "metadata": {},
   "outputs": [
    {
     "name": "stdout",
     "output_type": "stream",
     "text": [
      "2822875\n",
      "310528\n",
      "0\n"
     ]
    }
   ],
   "source": [
    "print(len(train_set2))\n",
    "print(len(test_set))\n",
    "print(len( (test_set - train_set2) ))"
   ]
  }
 ],
 "metadata": {
  "kernelspec": {
   "display_name": "srec",
   "language": "python",
   "name": "python3"
  },
  "language_info": {
   "codemirror_mode": {
    "name": "ipython",
    "version": 3
   },
   "file_extension": ".py",
   "mimetype": "text/x-python",
   "name": "python",
   "nbconvert_exporter": "python",
   "pygments_lexer": "ipython3",
   "version": "3.7.12"
  }
 },
 "nbformat": 4,
 "nbformat_minor": 5
}

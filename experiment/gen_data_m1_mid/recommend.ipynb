{
 "cells": [
  {
   "cell_type": "markdown",
   "id": "c1d24bb3",
   "metadata": {},
   "source": [
    "THEANO_FLAGS=\"device=cuda0,floatX=float32\" CUDA_DEVICE_ORDER=PCI_BUS_ID python ./session-rec-master/run_config.py ./test_next.yml  \n",
    "THEANO_FLAGS=\"device=cuda0,floatX=float32\" CUDA_DEVICE_ORDER=PCI_BUS_ID python /home/tamak/master_exp/session-rec-master/run_config.py ./test_next.yml"
   ]
  },
  {
   "cell_type": "markdown",
   "id": "7c124a64",
   "metadata": {},
   "source": [
    "# データ確認"
   ]
  },
  {
   "cell_type": "code",
   "execution_count": 1,
   "id": "396f3976",
   "metadata": {},
   "outputs": [
    {
     "name": "stdout",
     "output_type": "stream",
     "text": [
      "0\n",
      "[]\n"
     ]
    }
   ],
   "source": [
    "tmp = []\n",
    "with open('/home/tamak/master_exp/experiment/gen_data_m1_mid/srec_data/experiment_test.txt', mode = 'r') as f:\n",
    "    for i, line in enumerate(f.readlines()):\n",
    "        if len(line.split('\\t')) != 3:\n",
    "            tmp.append(i)\n",
    "\n",
    "print(len(tmp))\n",
    "print(tmp)"
   ]
  },
  {
   "cell_type": "code",
   "execution_count": 2,
   "id": "74eaf3fd",
   "metadata": {},
   "outputs": [
    {
     "name": "stdout",
     "output_type": "stream",
     "text": [
      "0\n",
      "[]\n"
     ]
    }
   ],
   "source": [
    "tmp = []\n",
    "with open('/home/tamak/master_exp/experiment/gen_data_m1_mid/srec_data/experiment_train_full.txt', mode = 'r') as f:\n",
    "    for i, line in enumerate(f.readlines()):\n",
    "        if len(line.split('\\t')) != 3:\n",
    "            tmp.append(i)\n",
    "\n",
    "print(len(tmp))\n",
    "print(tmp)"
   ]
  },
  {
   "cell_type": "code",
   "execution_count": null,
   "id": "cc89c91e",
   "metadata": {},
   "outputs": [
    {
     "name": "stdout",
     "output_type": "stream",
     "text": [
      "855\n"
     ]
    }
   ],
   "source": [
    "train_set = set()\n",
    "with open('/home/tamak/master_exp/experiment/gen_data_m1_mid/srec_data/experiment_train_full.txt', mode = 'r') as f:\n",
    "    for i, line in enumerate(f.readlines()[1:]):\n",
    "        s_id, t_id, time = line.split('\\t')\n",
    "        train_set.add(int(t_id))\n",
    "\n",
    "test_set = set()\n",
    "with open('/home/tamak/master_exp/experiment/gen_data_m1_mid/srec_data/experiment_test.txt', mode = 'r') as f:\n",
    "    for i, line in enumerate(f.readlines()[1:]):\n",
    "        s_id, t_id, time = line.split('\\t')\n",
    "        test_set.add(int(t_id))"
   ]
  },
  {
   "cell_type": "code",
   "execution_count": 6,
   "id": "12b546fe",
   "metadata": {},
   "outputs": [
    {
     "name": "stdout",
     "output_type": "stream",
     "text": [
      "2811891\n",
      "310528\n",
      "855\n"
     ]
    }
   ],
   "source": [
    "print(len(train_set))\n",
    "print(len(test_set))\n",
    "print(len( (test_set - train_set) ))"
   ]
  },
  {
   "cell_type": "code",
   "execution_count": null,
   "id": "bce44af6",
   "metadata": {},
   "outputs": [
    {
     "name": "stdout",
     "output_type": "stream",
     "text": [
      "{616448, 1656833, 2365446, 1052679, 944135, 2033671, 1677322, 221195, 2568198, 1359885, 628750, 921617, 641045, 2228247, 1615899, 139292, 2658333, 311324, 419870, 1527844, 2301991, 2699304, 1343528, 1249323, 1241132, 1751086, 772142, 1278001, 1091634, 1708082, 2168883, 2263095, 2043960, 774202, 1212475, 1052736, 1151043, 2072645, 1314888, 772169, 1206349, 151632, 2555984, 182354, 2326613, 2467925, 2736221, 2615395, 2066535, 1677422, 1323122, 1982579, 1497202, 2349176, 1323131, 1603708, 1489024, 2179202, 286853, 2447494, 450695, 381064, 419978, 923787, 2609292, 1603729, 80019, 737428, 1779861, 1106071, 1376415, 221345, 2005153, 1108136, 2226344, 889004, 1751213, 2357421, 1276088, 956620, 2490573, 2447571, 2463957, 2357464, 184537, 2218202, 1329368, 2760925, 788703, 1695968, 1456354, 1630435, 2816227, 2081003, 1087724, 164077, 2494700, 1151215, 1591536, 1603826, 2441462, 461046, 1145081, 2402555, 2697468, 641280, 1755396, 2779406, 2523406, 239889, 717074, 248082, 1278228, 461076, 2038041, 631067, 2160927, 715039, 2072869, 2423078, 2652458, 1296685, 1579312, 1743152, 2083122, 405813, 409909, 2418999, 2001206, 934207, 1378626, 940355, 956739, 2408774, 2158920, 1214794, 2158923, 1329482, 1933651, 2535765, 1558871, 2419032, 225627, 2660702, 1335650, 1712483, 956770, 2019687, 1988970, 2464109, 2500973, 2013552, 1094001, 1339761, 2636147, 1978739, 702837, 2673014, 2021745, 2353540, 1190277, 2261382, 2337160, 1976712, 958856, 1712523, 1268108, 2179473, 1583507, 199061, 1929623, 1190296, 674202, 2746781, 1337758, 2075037, 1665441, 1616291, 2666917, 934310, 1554862, 2585011, 16822, 2449849, 29114, 551355, 883132, 625085, 1636797, 448959, 2558393, 940484, 2445765, 1135046, 29126, 2132423, 2597318, 287178, 506315, 2161100, 913870, 2001358, 2075099, 1190364, 2075104, 1622497, 936423, 2785773, 2236910, 1946094, 2044398, 688625, 1253873, 2075119, 2449911, 596473, 492025, 551419, 684541, 88575, 41473, 334343, 2456072, 2388489, 1446418, 1061396, 2169367, 1249817, 2232859, 1260059, 895517, 2282015, 2325024, 866847, 1684004, 1284645, 1540644, 1753639, 1395243, 2015788, 164397, 2476592, 2421301, 1454647, 948794, 279099, 2236988, 2341436, 287291, 967226, 1446464, 1550908, 588354, 1276483, 2425412, 2425417, 1045069, 713295, 2665042, 270931, 2196052, 2665045, 2245204, 2134615, 2673240, 492124, 1661532, 2726497, 2361954, 1692263, 1278567, 1948269, 2779762, 2001529, 1346171, 1194621, 2816637, 1208959, 696961, 592516, 850566, 850569, 2132618, 160394, 2024081, 2728599, 1278616, 643737, 408216, 1213084, 2493085, 2325153, 2063010, 2421416, 1190569, 103083, 1213099, 592559, 2673330, 2028212, 1616565, 2282166, 520888, 2673339, 662204, 2015936, 492226, 2411203, 1694404, 2749124, 2458308, 1972932, 496326, 252619, 17101, 516813, 2364111, 2704080, 2484944, 2523857, 2169558, 2673370, 912091, 1694429, 2122462, 2448093, 1207008, 1399517, 2122467, 1180395, 1749739, 1266413, 1979119, 1594096, 1925875, 377589, 1377014, 1991414, 654074, 549627, 2134780, 2689796, 2210568, 508682, 1622798, 1712914, 2616082, 836373, 2673434, 590618, 2659102, 2636575, 1770272, 529185, 2607905, 1626916, 1116966, 469801, 49964, 1399599, 891698, 2673460, 1090357, 1530678, 1665847, 2157369, 1315645, 1993535, 1325896, 1596233, 2816843, 2736972, 2526028, 1649488, 76625, 891734, 2476888, 1649499, 2585439, 2780001, 1082212, 156517, 2737001, 1315691, 1327979, 2616173, 2243438, 2458478, 1160049, 1516401, 1731448, 50050, 2120584, 445322, 2532235, 1762188, 1446795, 2536337, 1979284, 2802591, 2694048, 2450336, 918440, 2479019, 1971120, 711601, 416693, 949177, 2587577, 246716, 2819006, 1262526, 1524670, 2317249, 580546, 1379268, 1393605, 1213382, 1276871, 375748, 914375, 2274249, 490446, 1123280, 2819025, 773074, 2694099, 2116566, 1696727, 2573276, 1217502, 2470878, 27621, 2143206, 2339815, 2444262, 2311152, 2470902, 1377277, 1670143, 2438144, 1123329, 2008078, 2012174, 2153489, 2618387, 1299477, 2264087, 1377304, 611354, 1514525, 767008, 957476, 2571300, 318504, 2649129, 1948716, 2444334, 2077747, 1039414, 166969, 734267, 545852, 2448453, 1950791, 2706506, 2049100, 785485, 240719, 2182225, 871509, 394325, 1578079, 420959, 1641569, 515174, 500839, 588904, 738412, 707693, 2014316, 1977456, 599155, 2438263, 478328, 1959042, 738436, 1434756, 2602118, 1967243, 2677902, 2651283, 1264790, 881818, 2077850, 2426012, 1334429, 435359, 408736, 1766563, 1457316, 2227365, 375981, 347318, 2094272, 378049, 2477254, 1520840, 2682057, 2116811, 920781, 941261, 298194, 1082580, 533719, 1762519, 834775, 1377497, 1215707, 795867, 920797, 2553049, 1238242, 1713379, 2118883, 408817, 371954, 740598, 677110, 1041655, 466171, 156924, 249084, 1137918, 2481407, 1559803, 1547522, 146692, 2012421, 773384, 480521, 1496330, 328972, 1527052, 533776, 1328400, 439569, 2180371, 1090836, 1559826, 2127128, 2229529, 955677, 1328414, 1475871, 439586, 1574183, 2422057, 709930, 2702635, 355628, 2499883, 1492271, 673072, 1482033, 2270514, 2557232, 2022708, 2460984, 474425, 1604925, 2661700, 1396038, 2020682, 1109325, 2587988, 662870, 2071899, 2706790, 2526567, 2577767, 251243, 628076, 2649455, 2487664, 150905, 380283, 1363325, 1580414, 802174, 468349, 2790785, 1994114, 2203012, 910732, 2248077, 2733467, 286107, 2106783, 413096, 2110890, 1224108, 2821548, 1215920, 867761, 640441, 2674111, 1142207, 1969601, 2522562, 2323907, 1541572, 1277383, 1211848, 728520, 1607114, 2098635, 2266573, 597454, 2774481, 1179094, 1179098, 1983963, 740828, 2485725, 1435103, 50657, 1322466, 2495974, 785899, 282093, 2440686, 2514414, 822771, 2418167, 1771005, 1617406, 769533, 1224195, 2389507, 771592, 1480201, 1971723, 736780, 2330127, 1207825, 2110997, 1988118, 2201116, 2162205, 2711071, 626208, 2721312, 325151, 2029089, 515622, 1738280, 1967659, 1580587, 2020910, 1623604, 2514487, 1967674, 2813500, 2338364, 702018, 1230405, 1080903, 2354761, 1367627, 333393, 2625106, 712275, 443988, 1541713, 1771095, 1255000, 1162843, 593503, 294499, 1957475, 2821734, 1173095, 466538, 2098800, 2674288, 910962, 841331, 691828, 1658486, 439928, 1623673, 1080956, 1543805, 2363006, 2215554, 419458, 2281092, 1037954, 1121927, 2420363, 726668, 2379408, 1224337, 841365, 2637461, 2195097, 1650331, 276124, 315040, 2074273, 1158826, 556717, 2225837, 149167, 2295470, 2225843, 2027192, 2338494, 1924801, 1638083, 902853, 1543877, 2027210, 1435342, 2164432, 1146576, 786129, 2604753, 1257178, 2658011, 2148060, 2123485, 2150108, 1208030, 251616, 1048287, 2457314, 450275, 2604772, 2170597, 507622, 1222381, 474862, 2412271, 933613, 2615024, 1146615, 2621176, 2064122, 2270971, 2365179, 403195, 2598652, 595713, 2273025, 884481, 1464071, 1206025, 1742606, 1074959, 1959698, 1214229, 644886, 2414360, 2336539, 2670364, 2221860, 2463524, 1275687, 1177386, 2697007, 1324848, 839471, 2684720, 630583, 2684732, 2096957, 2733887, 1554241, 57154, 1556291, 796486, 2013004, 448333, 2453327, 2326353, 839507, 1374038, 2496343, 16217, 284508, 2002780, 2531170, 2625384, 2180970, 681845, 1746806, 1267574, 2011003, 407422, 1994622, 1650560, 2078601, 2045834, 1376139, 1277837, 1179537, 2015121, 673686, 1494935, 2074518, 2234265, 2819994, 692121, 16284, 597916, 2715553, 2295714, 229285, 2457512, 1554350, 2660274, 1929140, 2183095, 946106, 227263, 2283456, 2078658, 231363, 1142729, 2482121, 1966025, 2064329, 2605003, 1314767, 2422736, 460752, 1992658, 444371, 2326484, 2465749, 565207, 1263579, 2572252, 747485, 2521057, 1347560, 1146859, 2660333, 2785265, 1994741, 2658297, 2349051, 2152447}\n"
     ]
    }
   ],
   "source": [
    "print(test_set - train_set)"
   ]
  },
  {
   "cell_type": "code",
   "execution_count": 9,
   "id": "6e51b95d",
   "metadata": {},
   "outputs": [],
   "source": [
    "from collections import defaultdict\n",
    "track_dict = defaultdict()\n",
    "\n",
    "with open('/home/tamak/master_exp/modify_dataset/spotify_playlists_dataset/track_id.tsv', mode = 'r') as f:\n",
    "    \n",
    "    for line in f.readlines():\n",
    "        artistname, trackname, id = line.split('\\t')\n",
    "        track_dict[ int(id) ] = (artistname, trackname)"
   ]
  },
  {
   "cell_type": "code",
   "execution_count": 13,
   "id": "c7ec9d4d",
   "metadata": {},
   "outputs": [
    {
     "name": "stdout",
     "output_type": "stream",
     "text": [
      "2824004\n"
     ]
    }
   ],
   "source": [
    "print(len(track_dict))"
   ]
  },
  {
   "cell_type": "code",
   "execution_count": 11,
   "id": "35d2b4f5",
   "metadata": {},
   "outputs": [
    {
     "name": "stdout",
     "output_type": "stream",
     "text": [
      "855\n"
     ]
    }
   ],
   "source": [
    "errors = test_set - train_set\n",
    "check = []\n",
    "\n",
    "for track in errors:\n",
    "    check.append( (track in track_dict) )\n",
    "\n",
    "print(sum(check))"
   ]
  },
  {
   "cell_type": "markdown",
   "id": "066e2e86",
   "metadata": {},
   "source": [
    "## 前のデータは？"
   ]
  },
  {
   "cell_type": "code",
   "execution_count": 12,
   "id": "2298edd3",
   "metadata": {},
   "outputs": [
    {
     "name": "stdout",
     "output_type": "stream",
     "text": [
      "2822875\n",
      "310528\n",
      "0\n"
     ]
    }
   ],
   "source": [
    "train_set = set()\n",
    "with open('/home/tamak/master_exp/modify_dataset/srec_data/experiment_train_full.txt', mode = 'r') as f:\n",
    "    for i, line in enumerate(f.readlines()[1:]):\n",
    "        s_id, t_id, time = line.split('\\t')\n",
    "        train_set.add(int(t_id))\n",
    "\n",
    "test_set = set()\n",
    "with open('/home/tamak/master_exp/modify_dataset/srec_data/experiment_test.txt', mode = 'r') as f:\n",
    "    for i, line in enumerate(f.readlines()[1:]):\n",
    "        s_id, t_id, time = line.split('\\t')\n",
    "        test_set.add(int(t_id))\n",
    "\n",
    "print(len(train_set))\n",
    "print(len(test_set))\n",
    "print(len( (test_set - train_set) ))"
   ]
  },
  {
   "cell_type": "code",
   "execution_count": 14,
   "id": "0a3831b2",
   "metadata": {},
   "outputs": [
    {
     "name": "stdout",
     "output_type": "stream",
     "text": [
      "2822875\n",
      "2824004\n",
      "1129\n"
     ]
    }
   ],
   "source": [
    "origin_set = set()\n",
    "\n",
    "with open('/home/tamak/master_exp/modify_dataset/spotify_playlists_dataset/playlist_id.tsv', mode = 'r') as f:\n",
    "    for i, line in enumerate(f.readlines()):\n",
    "        data = line.split('\\t')\n",
    "        p_id = data[0]\n",
    "        playlist = data[1:]\n",
    "        for t_id in playlist:\n",
    "            origin_set.add(int(t_id))\n",
    "\n",
    "            \n",
    "print(len(train_set))\n",
    "print(len(origin_set))\n",
    "print(len( (origin_set - train_set) ))"
   ]
  },
  {
   "cell_type": "code",
   "execution_count": 17,
   "id": "e29bffaa",
   "metadata": {},
   "outputs": [],
   "source": [
    "import numpy as np\n",
    "playlist_set = set()\n",
    "playlist_id = defaultdict()\n",
    "user_playlist_pairs = defaultdict(list)\n",
    "\n",
    "with open('/home/tamak/master_exp/modify_dataset/spotify_playlists_dataset/user_playlist_pairs.tsv', mode = 'r') as f:\n",
    "    \n",
    "    for line in f.readlines()[1:]:\n",
    "        data = line.split('\\t,\\t')\n",
    "        \n",
    "        user = data[0]\n",
    "        title = data[1]\n",
    "        playlist = data[2:]\n",
    "        playlist = tuple(np.array(playlist, dtype = int))\n",
    "        \n",
    "        if playlist in playlist_set:\n",
    "            user_playlist_pairs[user].append( (title, playlist_id[playlist]) )\n",
    "            \n",
    "        else:\n",
    "            playlist_set.add(playlist)\n",
    "            playlist_id[playlist] = len(playlist_id)\n",
    "            user_playlist_pairs[user].append( (title, playlist_id[playlist]) )"
   ]
  },
  {
   "cell_type": "code",
   "execution_count": 18,
   "id": "eaf227cf",
   "metadata": {},
   "outputs": [
    {
     "name": "stdout",
     "output_type": "stream",
     "text": [
      "2822875\n",
      "2824004\n",
      "1129\n"
     ]
    }
   ],
   "source": [
    "check_set = set()\n",
    "for playlist in playlist_set:\n",
    "    for t_id in playlist:\n",
    "        check_set.add(t_id)\n",
    "\n",
    "print(len(train_set))\n",
    "print(len(check_set))\n",
    "print(len( (check_set - train_set) ))"
   ]
  },
  {
   "cell_type": "code",
   "execution_count": 19,
   "id": "63ce9367",
   "metadata": {},
   "outputs": [
    {
     "name": "stdout",
     "output_type": "stream",
     "text": [
      "2822875\n",
      "2822875\n",
      "0\n"
     ]
    }
   ],
   "source": [
    "check_set = set()\n",
    "\n",
    "with open('/home/tamak/master_exp/modify_dataset/spotify_playlists_dataset/user_playlist_pairs.tsv', mode = 'r') as f:\n",
    "\n",
    "    for session_id, line in enumerate(f.readlines()[1:]):\n",
    "        data = line.split('\\t,\\t')\n",
    "        user_id = data[0]\n",
    "        session = data[2:]\n",
    "\n",
    "        tmp = []\n",
    "        if len(session) == 1:\n",
    "            continue\n",
    "        for i, track_id in enumerate(session):\n",
    "            check_set.add(int(track_id))\n",
    "\n",
    "            \n",
    "print(len(train_set))\n",
    "print(len(check_set))\n",
    "print(len( (check_set - train_set) ))"
   ]
  }
 ],
 "metadata": {
  "kernelspec": {
   "display_name": "srec",
   "language": "python",
   "name": "python3"
  },
  "language_info": {
   "codemirror_mode": {
    "name": "ipython",
    "version": 3
   },
   "file_extension": ".py",
   "mimetype": "text/x-python",
   "name": "python",
   "nbconvert_exporter": "python",
   "pygments_lexer": "ipython3",
   "version": "3.7.12"
  }
 },
 "nbformat": 4,
 "nbformat_minor": 5
}

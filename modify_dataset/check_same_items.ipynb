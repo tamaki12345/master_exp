{
 "cells": [
  {
   "cell_type": "code",
   "execution_count": 2,
   "id": "3ac50a9c",
   "metadata": {},
   "outputs": [
    {
     "name": "stdout",
     "output_type": "stream",
     "text": [
      "Requirement already satisfied: rapidfuzz in /home/tamak/anaconda3/envs/master_exp/lib/python3.13/site-packages (3.13.0)\n",
      "Note: you may need to restart the kernel to use updated packages.\n"
     ]
    }
   ],
   "source": [
    "%pip install rapidfuzz"
   ]
  },
  {
   "cell_type": "code",
   "execution_count": 3,
   "id": "54a25ddd",
   "metadata": {},
   "outputs": [],
   "source": [
    "import json \n",
    "from urllib.parse import unquote\n",
    "from collections import defaultdict\n",
    "from rapidfuzz.process import cdist\n",
    "import pandas as pd\n",
    "import numpy as np"
   ]
  },
  {
   "cell_type": "markdown",
   "id": "df21cb67",
   "metadata": {},
   "source": [
    "# アーティストの類似度を確認"
   ]
  },
  {
   "cell_type": "markdown",
   "id": "6e68d035",
   "metadata": {},
   "source": [
    "## 30MUの同一期間アーティスト及び楽曲とのペアのデータを取り出し"
   ]
  },
  {
   "cell_type": "code",
   "execution_count": 4,
   "id": "3f1f6240",
   "metadata": {},
   "outputs": [],
   "source": [
    "track_dict = defaultdict(tuple)\n",
    "\n",
    "with open( '/home/tamak/master_exp/ThirtyMusic/entities/tracks.idomaar', mode = 'r' ) as f:\n",
    "    lines = f.readlines()\n",
    "\n",
    "    for line in lines:\n",
    "        try:\n",
    "           entitiy_type, track_id, _, info, extra_info = line.split('\\t')\n",
    "        except:\n",
    "            print(line)\n",
    "            for l in line.split():\n",
    "                print(l)\n",
    "            break\n",
    "\n",
    "        \n",
    "        name = json.loads(info)['name']\n",
    "        artistname, trackname = name.split('/_/')\n",
    "\n",
    "        artistname = unquote(artistname.replace('+',' '))\n",
    "        trackname = unquote(trackname.replace('+',' '))\n",
    "\n",
    "        if track_id not in track_dict:\n",
    "            track_dict[ int(track_id) ] = (artistname, trackname)\n"
   ]
  },
  {
   "cell_type": "code",
   "execution_count": 5,
   "id": "978ea917",
   "metadata": {},
   "outputs": [],
   "source": [
    "ThMU_artist = set()\n",
    "ThMU_dict = defaultdict(list)\n",
    "\n",
    "with open('30M_dataset/same_duration_data.tsv', mode = 'r') as f:\n",
    "    lines  = f.readlines()\n",
    "\n",
    "for line in lines[1:]:\n",
    "    tmp = []\n",
    "    data = line.split('\\t')\n",
    "\n",
    "    user_id = data[0]\n",
    "    session = data[1:]\n",
    "\n",
    "    tmp.append(user_id)\n",
    "\n",
    "    for track_id in session:\n",
    "        artistname, trackname = track_dict[int(track_id)]\n",
    "\n",
    "    ThMU_artist.add(artistname)\n",
    "    ThMU_dict[artistname].append(trackname)"
   ]
  },
  {
   "cell_type": "markdown",
   "id": "5f14de4c",
   "metadata": {},
   "source": [
    "## SPDのアーティスト及び楽曲とのペアのデータを取り出し"
   ]
  },
  {
   "cell_type": "code",
   "execution_count": 6,
   "id": "df7ac080",
   "metadata": {},
   "outputs": [],
   "source": [
    "SPD_artist = set()\n",
    "SPD_dict = defaultdict(list)\n",
    "\n",
    "with open('./spotify_playlists_dataset/SPD_modified.tsv', mode = 'r') as f:\n",
    "\n",
    "    lines = f.readlines()\n",
    "\n",
    "for line in lines[1:]:\n",
    "    data = line.split('\\t,\\t')\n",
    "\n",
    "    if data[1] != '' and data[2] != '':\n",
    "\n",
    "        artistname, trackname = (data[1],data[2])\n",
    "\n",
    "        SPD_artist.add( artistname )\n",
    "        SPD_dict[artistname].append(trackname)"
   ]
  },
  {
   "cell_type": "markdown",
   "id": "aa3f98bf",
   "metadata": {},
   "source": [
    "## 類似度チェック"
   ]
  },
  {
   "cell_type": "code",
   "execution_count": 7,
   "id": "a0e65258",
   "metadata": {},
   "outputs": [],
   "source": [
    "ThMU_table = np.array(list(ThMU_artist), dtype=str)\n",
    "SPD_table = np.array(list(SPD_artist), dtype=str)"
   ]
  },
  {
   "cell_type": "code",
   "execution_count": 8,
   "id": "65f245c9",
   "metadata": {},
   "outputs": [
    {
     "data": {
      "text/plain": [
       "array(['Rosetta Tharpe', 'Daz Dillinger ft. Bad Azz', 'Betopey', ...,\n",
       "       'Thomas Andersson', 'Dixie Dee And The Rhythm Rockers', 'Barobax'],\n",
       "      shape=(289815,), dtype='<U255')"
      ]
     },
     "execution_count": 8,
     "metadata": {},
     "output_type": "execute_result"
    }
   ],
   "source": [
    "SPD_table"
   ]
  },
  {
   "cell_type": "code",
   "execution_count": 9,
   "id": "2cbaa2a8",
   "metadata": {},
   "outputs": [],
   "source": [
    "similarity = cdist(ThMU_table[0:1000], SPD_table,workers=-1)"
   ]
  },
  {
   "cell_type": "code",
   "execution_count": 10,
   "id": "ce2e90b1",
   "metadata": {},
   "outputs": [
    {
     "data": {
      "text/html": [
       "<div>\n",
       "<style scoped>\n",
       "    .dataframe tbody tr th:only-of-type {\n",
       "        vertical-align: middle;\n",
       "    }\n",
       "\n",
       "    .dataframe tbody tr th {\n",
       "        vertical-align: top;\n",
       "    }\n",
       "\n",
       "    .dataframe thead th {\n",
       "        text-align: right;\n",
       "    }\n",
       "</style>\n",
       "<table border=\"1\" class=\"dataframe\">\n",
       "  <thead>\n",
       "    <tr style=\"text-align: right;\">\n",
       "      <th></th>\n",
       "      <th>30MU</th>\n",
       "      <th>SPD</th>\n",
       "      <th>ratio</th>\n",
       "    </tr>\n",
       "  </thead>\n",
       "  <tbody>\n",
       "    <tr>\n",
       "      <th>21</th>\n",
       "      <td>Ojalá</td>\n",
       "      <td>Oxalá</td>\n",
       "      <td>0.800000</td>\n",
       "    </tr>\n",
       "    <tr>\n",
       "      <th>82</th>\n",
       "      <td>4T1A (Quart Primera)</td>\n",
       "      <td>4t1a (quart primera)</td>\n",
       "      <td>0.800000</td>\n",
       "    </tr>\n",
       "    <tr>\n",
       "      <th>117</th>\n",
       "      <td>C.A.R.N.E.</td>\n",
       "      <td>C.A.B.L.E.</td>\n",
       "      <td>0.800000</td>\n",
       "    </tr>\n",
       "    <tr>\n",
       "      <th>363</th>\n",
       "      <td>Arnioe</td>\n",
       "      <td>Arno</td>\n",
       "      <td>0.800000</td>\n",
       "    </tr>\n",
       "    <tr>\n",
       "      <th>308</th>\n",
       "      <td>Dr. R. Thiagarajan</td>\n",
       "      <td>Prof. Thiagarajan</td>\n",
       "      <td>0.800000</td>\n",
       "    </tr>\n",
       "    <tr>\n",
       "      <th>...</th>\n",
       "      <td>...</td>\n",
       "      <td>...</td>\n",
       "      <td>...</td>\n",
       "    </tr>\n",
       "    <tr>\n",
       "      <th>597</th>\n",
       "      <td>Tyler Ward Feat. Heather Janssen</td>\n",
       "      <td>Tyler Ward feat. Heather Janssen</td>\n",
       "      <td>0.968750</td>\n",
       "    </tr>\n",
       "    <tr>\n",
       "      <th>761</th>\n",
       "      <td>Clare Bowditch and The Feeding Set</td>\n",
       "      <td>Clare Bowditch And The Feeding Set</td>\n",
       "      <td>0.970588</td>\n",
       "    </tr>\n",
       "    <tr>\n",
       "      <th>302</th>\n",
       "      <td>Freemasons feat. Sophie Ellis-Bextor</td>\n",
       "      <td>Freemasons ft. Sophie Ellis-Bextor</td>\n",
       "      <td>0.971429</td>\n",
       "    </tr>\n",
       "    <tr>\n",
       "      <th>688</th>\n",
       "      <td>Stanley Brinks and the Wave Pictures</td>\n",
       "      <td>Stanley Brinks and The Wave Pictures</td>\n",
       "      <td>0.972222</td>\n",
       "    </tr>\n",
       "    <tr>\n",
       "      <th>563</th>\n",
       "      <td>Billie Holiday and Her Orchestra</td>\n",
       "      <td>Billie Holliday and Her Orchestra</td>\n",
       "      <td>0.984615</td>\n",
       "    </tr>\n",
       "  </tbody>\n",
       "</table>\n",
       "<p>164 rows × 3 columns</p>\n",
       "</div>"
      ],
      "text/plain": [
       "                                     30MU  \\\n",
       "21                                  Ojalá   \n",
       "82                   4T1A (Quart Primera)   \n",
       "117                            C.A.R.N.E.   \n",
       "363                                Arnioe   \n",
       "308                    Dr. R. Thiagarajan   \n",
       "..                                    ...   \n",
       "597      Tyler Ward Feat. Heather Janssen   \n",
       "761    Clare Bowditch and The Feeding Set   \n",
       "302  Freemasons feat. Sophie Ellis-Bextor   \n",
       "688  Stanley Brinks and the Wave Pictures   \n",
       "563      Billie Holiday and Her Orchestra   \n",
       "\n",
       "                                      SPD     ratio  \n",
       "21                                  Oxalá  0.800000  \n",
       "82                   4t1a (quart primera)  0.800000  \n",
       "117                            C.A.B.L.E.  0.800000  \n",
       "363                                  Arno  0.800000  \n",
       "308                     Prof. Thiagarajan  0.800000  \n",
       "..                                    ...       ...  \n",
       "597      Tyler Ward feat. Heather Janssen  0.968750  \n",
       "761    Clare Bowditch And The Feeding Set  0.970588  \n",
       "302    Freemasons ft. Sophie Ellis-Bextor  0.971429  \n",
       "688  Stanley Brinks and The Wave Pictures  0.972222  \n",
       "563     Billie Holliday and Her Orchestra  0.984615  \n",
       "\n",
       "[164 rows x 3 columns]"
      ]
     },
     "execution_count": 10,
     "metadata": {},
     "output_type": "execute_result"
    }
   ],
   "source": [
    "similarity_table = pd.DataFrame({\n",
    "    '30MU':ThMU_table[0:1000],\n",
    "    'SPD':SPD_table[similarity.argmax(axis=1)],\n",
    "    'ratio':(similarity.max(axis=1) / 100).astype(float)\n",
    "})\n",
    "\n",
    "similarity_table[ (similarity_table['ratio'] < 1) & (similarity_table['ratio'] > 0.8 )].sort_values('ratio')"
   ]
  },
  {
   "cell_type": "code",
   "execution_count": 11,
   "id": "64bde783",
   "metadata": {},
   "outputs": [
    {
     "data": {
      "text/html": [
       "<div>\n",
       "<style scoped>\n",
       "    .dataframe tbody tr th:only-of-type {\n",
       "        vertical-align: middle;\n",
       "    }\n",
       "\n",
       "    .dataframe tbody tr th {\n",
       "        vertical-align: top;\n",
       "    }\n",
       "\n",
       "    .dataframe thead th {\n",
       "        text-align: right;\n",
       "    }\n",
       "</style>\n",
       "<table border=\"1\" class=\"dataframe\">\n",
       "  <thead>\n",
       "    <tr style=\"text-align: right;\">\n",
       "      <th></th>\n",
       "      <th>30MU</th>\n",
       "      <th>SPD</th>\n",
       "      <th>ratio</th>\n",
       "    </tr>\n",
       "  </thead>\n",
       "  <tbody>\n",
       "  </tbody>\n",
       "</table>\n",
       "</div>"
      ],
      "text/plain": [
       "Empty DataFrame\n",
       "Columns: [30MU, SPD, ratio]\n",
       "Index: []"
      ]
     },
     "execution_count": 11,
     "metadata": {},
     "output_type": "execute_result"
    }
   ],
   "source": [
    "similarity_table = pd.DataFrame(columns=['30MU', 'SPD', 'ratio'])\n",
    "similarity_table"
   ]
  },
  {
   "cell_type": "code",
   "execution_count": 12,
   "id": "6620e64d",
   "metadata": {},
   "outputs": [
    {
     "name": "stderr",
     "output_type": "stream",
     "text": [
      "/tmp/ipykernel_120058/462427290.py:30: FutureWarning: The behavior of DataFrame concatenation with empty or all-NA entries is deprecated. In a future version, this will no longer exclude empty or all-NA columns when determining the result dtypes. To retain the old behavior, exclude the relevant entries before the concat operation.\n",
      "  similarity_table = pd.concat([similarity_table, tmp_table])\n"
     ]
    }
   ],
   "source": [
    "i = 0\n",
    "dlt = 1000\n",
    "\n",
    "while(i<len(ThMU_table)):\n",
    "\n",
    "    if (i+dlt)<len(ThMU_table):\n",
    "\n",
    "        similarity = cdist(ThMU_table[i:i+dlt], SPD_table,workers=-1)\n",
    "\n",
    "        try:\n",
    "            tmp_table = pd.DataFrame({\n",
    "            '30MU':ThMU_table[ i:i+dlt ],\n",
    "            'SPD':SPD_table[ similarity.argmax(axis=1) ],\n",
    "            'ratio':(similarity.max(axis=1) / 100).astype(float)\n",
    "            })\n",
    "        except:\n",
    "            print(i)\n",
    "            print(len(similarity))\n",
    "            print(len(SPD_table[ similarity.argmax(axis=1) ]))\n",
    "\n",
    "    else:\n",
    "        similarity = cdist(ThMU_table[i:], SPD_table,workers=-1)\n",
    "\n",
    "        tmp_table = pd.DataFrame({\n",
    "        '30MU':ThMU_table[ i: ],\n",
    "        'SPD':SPD_table[ similarity.argmax(axis=1) ],\n",
    "        'ratio':(similarity.max(axis=1) / 100).astype(float)\n",
    "        })\n",
    "\n",
    "    similarity_table = pd.concat([similarity_table, tmp_table])\n",
    "    i+=dlt"
   ]
  },
  {
   "cell_type": "code",
   "execution_count": 14,
   "id": "838d3bb7",
   "metadata": {},
   "outputs": [
    {
     "data": {
      "text/html": [
       "<div>\n",
       "<style scoped>\n",
       "    .dataframe tbody tr th:only-of-type {\n",
       "        vertical-align: middle;\n",
       "    }\n",
       "\n",
       "    .dataframe tbody tr th {\n",
       "        vertical-align: top;\n",
       "    }\n",
       "\n",
       "    .dataframe thead th {\n",
       "        text-align: right;\n",
       "    }\n",
       "</style>\n",
       "<table border=\"1\" class=\"dataframe\">\n",
       "  <thead>\n",
       "    <tr style=\"text-align: right;\">\n",
       "      <th></th>\n",
       "      <th>30MU</th>\n",
       "      <th>SPD</th>\n",
       "      <th>ratio</th>\n",
       "    </tr>\n",
       "  </thead>\n",
       "  <tbody>\n",
       "    <tr>\n",
       "      <th>0</th>\n",
       "      <td>Bosco Clowes</td>\n",
       "      <td>Bosco Rogers</td>\n",
       "      <td>0.750000</td>\n",
       "    </tr>\n",
       "    <tr>\n",
       "      <th>1</th>\n",
       "      <td>A punk</td>\n",
       "      <td>Apink</td>\n",
       "      <td>0.727273</td>\n",
       "    </tr>\n",
       "    <tr>\n",
       "      <th>2</th>\n",
       "      <td>Хорсс</td>\n",
       "      <td>Вирус</td>\n",
       "      <td>0.400000</td>\n",
       "    </tr>\n",
       "    <tr>\n",
       "      <th>3</th>\n",
       "      <td>The Eternals</td>\n",
       "      <td>The Eternals</td>\n",
       "      <td>1.000000</td>\n",
       "    </tr>\n",
       "    <tr>\n",
       "      <th>4</th>\n",
       "      <td>Cryptacize</td>\n",
       "      <td>Cryptacize</td>\n",
       "      <td>1.000000</td>\n",
       "    </tr>\n",
       "    <tr>\n",
       "      <th>...</th>\n",
       "      <td>...</td>\n",
       "      <td>...</td>\n",
       "      <td>...</td>\n",
       "    </tr>\n",
       "    <tr>\n",
       "      <th>801</th>\n",
       "      <td>Henry Rollins</td>\n",
       "      <td>Henry Rollins</td>\n",
       "      <td>1.000000</td>\n",
       "    </tr>\n",
       "    <tr>\n",
       "      <th>802</th>\n",
       "      <td>The Ocular Audio Experiment</td>\n",
       "      <td>The Felix Experiment</td>\n",
       "      <td>0.723404</td>\n",
       "    </tr>\n",
       "    <tr>\n",
       "      <th>803</th>\n",
       "      <td>Inside Llewyn Davis</td>\n",
       "      <td>Janet Lee Davis</td>\n",
       "      <td>0.647059</td>\n",
       "    </tr>\n",
       "    <tr>\n",
       "      <th>804</th>\n",
       "      <td>Cr7z</td>\n",
       "      <td>Cyrz</td>\n",
       "      <td>0.750000</td>\n",
       "    </tr>\n",
       "    <tr>\n",
       "      <th>805</th>\n",
       "      <td>Corpus Delicti</td>\n",
       "      <td>Corpus Delicti</td>\n",
       "      <td>1.000000</td>\n",
       "    </tr>\n",
       "  </tbody>\n",
       "</table>\n",
       "<p>78806 rows × 3 columns</p>\n",
       "</div>"
      ],
      "text/plain": [
       "                            30MU                   SPD     ratio\n",
       "0                   Bosco Clowes          Bosco Rogers  0.750000\n",
       "1                         A punk                 Apink  0.727273\n",
       "2                          Хорсс                 Вирус  0.400000\n",
       "3                   The Eternals          The Eternals  1.000000\n",
       "4                     Cryptacize            Cryptacize  1.000000\n",
       "..                           ...                   ...       ...\n",
       "801                Henry Rollins         Henry Rollins  1.000000\n",
       "802  The Ocular Audio Experiment  The Felix Experiment  0.723404\n",
       "803          Inside Llewyn Davis       Janet Lee Davis  0.647059\n",
       "804                         Cr7z                  Cyrz  0.750000\n",
       "805               Corpus Delicti        Corpus Delicti  1.000000\n",
       "\n",
       "[78806 rows x 3 columns]"
      ]
     },
     "execution_count": 14,
     "metadata": {},
     "output_type": "execute_result"
    }
   ],
   "source": [
    "similarity_table"
   ]
  },
  {
   "cell_type": "code",
   "execution_count": 15,
   "id": "eb6ba0ec",
   "metadata": {},
   "outputs": [],
   "source": [
    "similarity_table.to_csv('artist_pairs.csv', sep = '\\t')"
   ]
  }
 ],
 "metadata": {
  "kernelspec": {
   "display_name": "master_exp",
   "language": "python",
   "name": "python3"
  },
  "language_info": {
   "codemirror_mode": {
    "name": "ipython",
    "version": 3
   },
   "file_extension": ".py",
   "mimetype": "text/x-python",
   "name": "python",
   "nbconvert_exporter": "python",
   "pygments_lexer": "ipython3",
   "version": "3.13.2"
  }
 },
 "nbformat": 4,
 "nbformat_minor": 5
}

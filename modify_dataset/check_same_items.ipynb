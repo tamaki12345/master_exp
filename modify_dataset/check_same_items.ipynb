{
 "cells": [
  {
   "cell_type": "code",
   "execution_count": 1,
   "id": "3ac50a9c",
   "metadata": {},
   "outputs": [
    {
     "name": "stdout",
     "output_type": "stream",
     "text": [
      "Collecting rapidfuzz\n",
      "  Downloading rapidfuzz-3.13.0-cp312-cp312-manylinux_2_17_x86_64.manylinux2014_x86_64.whl.metadata (12 kB)\n",
      "Downloading rapidfuzz-3.13.0-cp312-cp312-manylinux_2_17_x86_64.manylinux2014_x86_64.whl (3.1 MB)\n",
      "\u001b[2K   \u001b[38;2;114;156;31m━━━━━━━━━━━━━━━━━━━━━━━━━━━━━━━━━━━━━━━━\u001b[0m \u001b[32m3.1/3.1 MB\u001b[0m \u001b[31m43.2 MB/s\u001b[0m eta \u001b[36m0:00:00\u001b[0m\n",
      "\u001b[?25hInstalling collected packages: rapidfuzz\n",
      "Successfully installed rapidfuzz-3.13.0\n",
      "Note: you may need to restart the kernel to use updated packages.\n"
     ]
    }
   ],
   "source": [
    "%pip install rapidfuzz"
   ]
  },
  {
   "cell_type": "code",
   "execution_count": 2,
   "id": "54a25ddd",
   "metadata": {},
   "outputs": [],
   "source": [
    "import json \n",
    "from urllib.parse import unquote\n",
    "from collections import defaultdict\n",
    "from rapidfuzz.process import cdist\n",
    "import pandas as pd\n",
    "import numpy as np"
   ]
  },
  {
   "cell_type": "markdown",
   "id": "df21cb67",
   "metadata": {},
   "source": [
    "# アーティストの類似度を確認"
   ]
  },
  {
   "cell_type": "markdown",
   "id": "6e68d035",
   "metadata": {},
   "source": [
    "## 30MUの同一期間アーティスト及び楽曲とのペアのデータを取り出し"
   ]
  },
  {
   "cell_type": "code",
   "execution_count": 7,
   "id": "3f1f6240",
   "metadata": {},
   "outputs": [],
   "source": [
    "track_dict = defaultdict(tuple)\n",
    "\n",
    "with open( '/home/tamak/master_exp/ThirtyMusic/entities/tracks.idomaar', mode = 'r' ) as f:\n",
    "    lines = f.readlines()\n",
    "\n",
    "    for line in lines:\n",
    "        try:\n",
    "           entitiy_type, track_id, _, info, extra_info = line.split('\\t')\n",
    "        except:\n",
    "            print(line)\n",
    "            for l in line.split():\n",
    "                print(l)\n",
    "            break\n",
    "\n",
    "        \n",
    "        name = json.loads(info)['name']\n",
    "        artistname, trackname = name.split('/_/')\n",
    "\n",
    "        artistname = unquote(artistname.replace('+',' '))\n",
    "        trackname = unquote(trackname.replace('+',' '))\n",
    "\n",
    "        if track_id not in track_dict:\n",
    "            track_dict[ int(track_id) ] = (artistname, trackname)\n"
   ]
  },
  {
   "cell_type": "code",
   "execution_count": 8,
   "id": "978ea917",
   "metadata": {},
   "outputs": [],
   "source": [
    "ThMU_artist = set()\n",
    "ThMU_dict = defaultdict(list)\n",
    "\n",
    "with open('30M_dataset/same_duration_data.tsv', mode = 'r') as f:\n",
    "    lines  = f.readlines()\n",
    "\n",
    "for line in lines[1:]:\n",
    "    tmp = []\n",
    "    data = line.split('\\t')\n",
    "\n",
    "    user_id = data[0]\n",
    "    session = data[1:]\n",
    "\n",
    "    tmp.append(user_id)\n",
    "\n",
    "    for track_id in session:\n",
    "        artistname, trackname = track_dict[int(track_id)]\n",
    "\n",
    "    ThMU_artist.add(artistname)\n",
    "    ThMU_dict[artistname].append(trackname)"
   ]
  },
  {
   "cell_type": "markdown",
   "id": "5f14de4c",
   "metadata": {},
   "source": [
    "## SPDのアーティスト及び楽曲とのペアのデータを取り出し"
   ]
  },
  {
   "cell_type": "code",
   "execution_count": 9,
   "id": "df7ac080",
   "metadata": {},
   "outputs": [],
   "source": [
    "SPD_artist = set()\n",
    "SPD_dict = defaultdict(list)\n",
    "\n",
    "with open('./spotify_playlists_dataset/SPD_modified.tsv', mode = 'r') as f:\n",
    "\n",
    "    lines = f.readlines()\n",
    "\n",
    "for line in lines[1:]:\n",
    "    data = line.split('\\t,\\t')\n",
    "\n",
    "    if data[1] != '' and data[2] != '':\n",
    "\n",
    "        artistname, trackname = (data[1],data[2])\n",
    "\n",
    "        SPD_artist.add( artistname )\n",
    "        SPD_dict[artistname].append(trackname)"
   ]
  },
  {
   "cell_type": "markdown",
   "id": "aa3f98bf",
   "metadata": {},
   "source": [
    "## 類似度チェック"
   ]
  },
  {
   "cell_type": "code",
   "execution_count": 6,
   "id": "a0e65258",
   "metadata": {},
   "outputs": [],
   "source": [
    "ThMU_table = np.array(list(ThMU_artist), dtype=str)\n",
    "SPD_table = np.array(list(SPD_artist), dtype=str)"
   ]
  },
  {
   "cell_type": "code",
   "execution_count": 7,
   "id": "65f245c9",
   "metadata": {},
   "outputs": [
    {
     "data": {
      "text/plain": [
       "array(['Hard Driver & MC DL', 'Mojave 3', 'Torbjørn & Helfner', ...,\n",
       "       'Pitbull, TKZee and Dario G', 'Art of Tones', 'Franco Morone'],\n",
       "      dtype='<U255')"
      ]
     },
     "execution_count": 7,
     "metadata": {},
     "output_type": "execute_result"
    }
   ],
   "source": [
    "SPD_table"
   ]
  },
  {
   "cell_type": "code",
   "execution_count": 8,
   "id": "2cbaa2a8",
   "metadata": {},
   "outputs": [],
   "source": [
    "similarity = cdist(ThMU_table[0:1000], SPD_table,workers=-1)"
   ]
  },
  {
   "cell_type": "code",
   "execution_count": 9,
   "id": "ce2e90b1",
   "metadata": {},
   "outputs": [
    {
     "data": {
      "text/html": [
       "<div>\n",
       "<style scoped>\n",
       "    .dataframe tbody tr th:only-of-type {\n",
       "        vertical-align: middle;\n",
       "    }\n",
       "\n",
       "    .dataframe tbody tr th {\n",
       "        vertical-align: top;\n",
       "    }\n",
       "\n",
       "    .dataframe thead th {\n",
       "        text-align: right;\n",
       "    }\n",
       "</style>\n",
       "<table border=\"1\" class=\"dataframe\">\n",
       "  <thead>\n",
       "    <tr style=\"text-align: right;\">\n",
       "      <th></th>\n",
       "      <th>30MU</th>\n",
       "      <th>SPD</th>\n",
       "      <th>ratio</th>\n",
       "    </tr>\n",
       "  </thead>\n",
       "  <tbody>\n",
       "    <tr>\n",
       "      <th>998</th>\n",
       "      <td>Deflate</td>\n",
       "      <td>Desolate</td>\n",
       "      <td>0.800000</td>\n",
       "    </tr>\n",
       "    <tr>\n",
       "      <th>238</th>\n",
       "      <td>Mastercastle</td>\n",
       "      <td>Masterblaster</td>\n",
       "      <td>0.800000</td>\n",
       "    </tr>\n",
       "    <tr>\n",
       "      <th>241</th>\n",
       "      <td>Hc3</td>\n",
       "      <td>c3</td>\n",
       "      <td>0.800000</td>\n",
       "    </tr>\n",
       "    <tr>\n",
       "      <th>270</th>\n",
       "      <td>CG Bros.</td>\n",
       "      <td>DG Bros</td>\n",
       "      <td>0.800000</td>\n",
       "    </tr>\n",
       "    <tr>\n",
       "      <th>156</th>\n",
       "      <td>Eric Mouquet</td>\n",
       "      <td>Eric Moe</td>\n",
       "      <td>0.800000</td>\n",
       "    </tr>\n",
       "    <tr>\n",
       "      <th>...</th>\n",
       "      <td>...</td>\n",
       "      <td>...</td>\n",
       "      <td>...</td>\n",
       "    </tr>\n",
       "    <tr>\n",
       "      <th>332</th>\n",
       "      <td>The Murder Of Rosa Luxemburg</td>\n",
       "      <td>The Murder of Rosa Luxemburg</td>\n",
       "      <td>0.964286</td>\n",
       "    </tr>\n",
       "    <tr>\n",
       "      <th>552</th>\n",
       "      <td>Eli \"Paperboy\" Reed</td>\n",
       "      <td>Eli \"Paperboy\"  Reed</td>\n",
       "      <td>0.974359</td>\n",
       "    </tr>\n",
       "    <tr>\n",
       "      <th>89</th>\n",
       "      <td>Arty feat. Tania Zygar</td>\n",
       "      <td>Arty feat. Tania Zyga</td>\n",
       "      <td>0.976744</td>\n",
       "    </tr>\n",
       "    <tr>\n",
       "      <th>957</th>\n",
       "      <td>Tymon  The Transistors</td>\n",
       "      <td>Tymon &amp; The Transistors</td>\n",
       "      <td>0.977778</td>\n",
       "    </tr>\n",
       "    <tr>\n",
       "      <th>33</th>\n",
       "      <td>Prince  The New Power Generation</td>\n",
       "      <td>Prince &amp; The New Power Generation</td>\n",
       "      <td>0.984615</td>\n",
       "    </tr>\n",
       "  </tbody>\n",
       "</table>\n",
       "<p>150 rows × 3 columns</p>\n",
       "</div>"
      ],
      "text/plain": [
       "                                 30MU                                SPD  \\\n",
       "998                           Deflate                           Desolate   \n",
       "238                      Mastercastle                      Masterblaster   \n",
       "241                               Hc3                                 c3   \n",
       "270                          CG Bros.                            DG Bros   \n",
       "156                      Eric Mouquet                           Eric Moe   \n",
       "..                                ...                                ...   \n",
       "332      The Murder Of Rosa Luxemburg       The Murder of Rosa Luxemburg   \n",
       "552               Eli \"Paperboy\" Reed               Eli \"Paperboy\"  Reed   \n",
       "89             Arty feat. Tania Zygar              Arty feat. Tania Zyga   \n",
       "957            Tymon  The Transistors            Tymon & The Transistors   \n",
       "33   Prince  The New Power Generation  Prince & The New Power Generation   \n",
       "\n",
       "        ratio  \n",
       "998  0.800000  \n",
       "238  0.800000  \n",
       "241  0.800000  \n",
       "270  0.800000  \n",
       "156  0.800000  \n",
       "..        ...  \n",
       "332  0.964286  \n",
       "552  0.974359  \n",
       "89   0.976744  \n",
       "957  0.977778  \n",
       "33   0.984615  \n",
       "\n",
       "[150 rows x 3 columns]"
      ]
     },
     "execution_count": 9,
     "metadata": {},
     "output_type": "execute_result"
    }
   ],
   "source": [
    "similarity_table = pd.DataFrame({\n",
    "    '30MU':ThMU_table[0:1000],\n",
    "    'SPD':SPD_table[similarity.argmax(axis=1)],\n",
    "    'ratio':(similarity.max(axis=1) / 100).astype(float)\n",
    "})\n",
    "\n",
    "similarity_table[ (similarity_table['ratio'] < 1) & (similarity_table['ratio'] > 0.8 )].sort_values('ratio')"
   ]
  },
  {
   "cell_type": "code",
   "execution_count": 10,
   "id": "64bde783",
   "metadata": {},
   "outputs": [
    {
     "data": {
      "text/html": [
       "<div>\n",
       "<style scoped>\n",
       "    .dataframe tbody tr th:only-of-type {\n",
       "        vertical-align: middle;\n",
       "    }\n",
       "\n",
       "    .dataframe tbody tr th {\n",
       "        vertical-align: top;\n",
       "    }\n",
       "\n",
       "    .dataframe thead th {\n",
       "        text-align: right;\n",
       "    }\n",
       "</style>\n",
       "<table border=\"1\" class=\"dataframe\">\n",
       "  <thead>\n",
       "    <tr style=\"text-align: right;\">\n",
       "      <th></th>\n",
       "      <th>30MU</th>\n",
       "      <th>SPD</th>\n",
       "      <th>ratio</th>\n",
       "    </tr>\n",
       "  </thead>\n",
       "  <tbody>\n",
       "  </tbody>\n",
       "</table>\n",
       "</div>"
      ],
      "text/plain": [
       "Empty DataFrame\n",
       "Columns: [30MU, SPD, ratio]\n",
       "Index: []"
      ]
     },
     "execution_count": 10,
     "metadata": {},
     "output_type": "execute_result"
    }
   ],
   "source": [
    "similarity_table = pd.DataFrame(columns=['30MU', 'SPD', 'ratio'])\n",
    "similarity_table"
   ]
  },
  {
   "cell_type": "code",
   "execution_count": 11,
   "id": "6620e64d",
   "metadata": {},
   "outputs": [
    {
     "name": "stderr",
     "output_type": "stream",
     "text": [
      "/tmp/ipykernel_19398/462427290.py:30: FutureWarning: The behavior of DataFrame concatenation with empty or all-NA entries is deprecated. In a future version, this will no longer exclude empty or all-NA columns when determining the result dtypes. To retain the old behavior, exclude the relevant entries before the concat operation.\n",
      "  similarity_table = pd.concat([similarity_table, tmp_table])\n"
     ]
    }
   ],
   "source": [
    "i = 0\n",
    "dlt = 1000\n",
    "\n",
    "while(i<len(ThMU_table)):\n",
    "\n",
    "    if (i+dlt)<len(ThMU_table):\n",
    "\n",
    "        similarity = cdist(ThMU_table[i:i+dlt], SPD_table,workers=-1)\n",
    "\n",
    "        try:\n",
    "            tmp_table = pd.DataFrame({\n",
    "            '30MU':ThMU_table[ i:i+dlt ],\n",
    "            'SPD':SPD_table[ similarity.argmax(axis=1) ],\n",
    "            'ratio':(similarity.max(axis=1) / 100).astype(float)\n",
    "            })\n",
    "        except:\n",
    "            print(i)\n",
    "            print(len(similarity))\n",
    "            print(len(SPD_table[ similarity.argmax(axis=1) ]))\n",
    "\n",
    "    else:\n",
    "        similarity = cdist(ThMU_table[i:], SPD_table,workers=-1)\n",
    "\n",
    "        tmp_table = pd.DataFrame({\n",
    "        '30MU':ThMU_table[ i: ],\n",
    "        'SPD':SPD_table[ similarity.argmax(axis=1) ],\n",
    "        'ratio':(similarity.max(axis=1) / 100).astype(float)\n",
    "        })\n",
    "\n",
    "    similarity_table = pd.concat([similarity_table, tmp_table])\n",
    "    i+=dlt"
   ]
  },
  {
   "cell_type": "code",
   "execution_count": 12,
   "id": "838d3bb7",
   "metadata": {},
   "outputs": [
    {
     "data": {
      "text/html": [
       "<div>\n",
       "<style scoped>\n",
       "    .dataframe tbody tr th:only-of-type {\n",
       "        vertical-align: middle;\n",
       "    }\n",
       "\n",
       "    .dataframe tbody tr th {\n",
       "        vertical-align: top;\n",
       "    }\n",
       "\n",
       "    .dataframe thead th {\n",
       "        text-align: right;\n",
       "    }\n",
       "</style>\n",
       "<table border=\"1\" class=\"dataframe\">\n",
       "  <thead>\n",
       "    <tr style=\"text-align: right;\">\n",
       "      <th></th>\n",
       "      <th>30MU</th>\n",
       "      <th>SPD</th>\n",
       "      <th>ratio</th>\n",
       "    </tr>\n",
       "  </thead>\n",
       "  <tbody>\n",
       "    <tr>\n",
       "      <th>0</th>\n",
       "      <td>Akeboshi</td>\n",
       "      <td>Akeboshi</td>\n",
       "      <td>1.000000</td>\n",
       "    </tr>\n",
       "    <tr>\n",
       "      <th>1</th>\n",
       "      <td>Lowell Pye</td>\n",
       "      <td>Lowell Pye</td>\n",
       "      <td>1.000000</td>\n",
       "    </tr>\n",
       "    <tr>\n",
       "      <th>2</th>\n",
       "      <td>cEvin Key / Ken Marshall</td>\n",
       "      <td>cEvin Key / Ken Marshall</td>\n",
       "      <td>1.000000</td>\n",
       "    </tr>\n",
       "    <tr>\n",
       "      <th>3</th>\n",
       "      <td>Bobaflex</td>\n",
       "      <td>Bobaflex</td>\n",
       "      <td>1.000000</td>\n",
       "    </tr>\n",
       "    <tr>\n",
       "      <th>4</th>\n",
       "      <td>Mojave 3</td>\n",
       "      <td>Mojave 3</td>\n",
       "      <td>1.000000</td>\n",
       "    </tr>\n",
       "    <tr>\n",
       "      <th>...</th>\n",
       "      <td>...</td>\n",
       "      <td>...</td>\n",
       "      <td>...</td>\n",
       "    </tr>\n",
       "    <tr>\n",
       "      <th>801</th>\n",
       "      <td>Ratu</td>\n",
       "      <td>Ratu</td>\n",
       "      <td>1.000000</td>\n",
       "    </tr>\n",
       "    <tr>\n",
       "      <th>802</th>\n",
       "      <td>The Tips</td>\n",
       "      <td>The Tulips</td>\n",
       "      <td>0.888889</td>\n",
       "    </tr>\n",
       "    <tr>\n",
       "      <th>803</th>\n",
       "      <td>Diesel King</td>\n",
       "      <td>Denise King</td>\n",
       "      <td>0.818182</td>\n",
       "    </tr>\n",
       "    <tr>\n",
       "      <th>804</th>\n",
       "      <td>Punkreas</td>\n",
       "      <td>Punkreas</td>\n",
       "      <td>1.000000</td>\n",
       "    </tr>\n",
       "    <tr>\n",
       "      <th>805</th>\n",
       "      <td>Jason Brock</td>\n",
       "      <td>Jason Urick</td>\n",
       "      <td>0.818182</td>\n",
       "    </tr>\n",
       "  </tbody>\n",
       "</table>\n",
       "<p>78806 rows × 3 columns</p>\n",
       "</div>"
      ],
      "text/plain": [
       "                         30MU                       SPD     ratio\n",
       "0                    Akeboshi                  Akeboshi  1.000000\n",
       "1                  Lowell Pye                Lowell Pye  1.000000\n",
       "2    cEvin Key / Ken Marshall  cEvin Key / Ken Marshall  1.000000\n",
       "3                    Bobaflex                  Bobaflex  1.000000\n",
       "4                    Mojave 3                  Mojave 3  1.000000\n",
       "..                        ...                       ...       ...\n",
       "801                      Ratu                      Ratu  1.000000\n",
       "802                  The Tips                The Tulips  0.888889\n",
       "803               Diesel King               Denise King  0.818182\n",
       "804                  Punkreas                  Punkreas  1.000000\n",
       "805               Jason Brock               Jason Urick  0.818182\n",
       "\n",
       "[78806 rows x 3 columns]"
      ]
     },
     "execution_count": 12,
     "metadata": {},
     "output_type": "execute_result"
    }
   ],
   "source": [
    "similarity_table"
   ]
  },
  {
   "cell_type": "code",
   "execution_count": 19,
   "id": "eb6ba0ec",
   "metadata": {},
   "outputs": [],
   "source": [
    "similarity_table.sort_values('ratio').to_csv('artist_pairs.csv', sep = '\\t')"
   ]
  },
  {
   "cell_type": "markdown",
   "id": "7fc04e4b",
   "metadata": {},
   "source": [
    "## read csv"
   ]
  },
  {
   "cell_type": "code",
   "execution_count": 21,
   "id": "d3d1eef6",
   "metadata": {},
   "outputs": [],
   "source": [
    "similarity_table = pd.read_csv('artist_pairs.csv', sep = '\\t', usecols=[1,2,3])"
   ]
  },
  {
   "cell_type": "code",
   "execution_count": 22,
   "id": "8fbb1232",
   "metadata": {},
   "outputs": [
    {
     "data": {
      "text/html": [
       "<div>\n",
       "<style scoped>\n",
       "    .dataframe tbody tr th:only-of-type {\n",
       "        vertical-align: middle;\n",
       "    }\n",
       "\n",
       "    .dataframe tbody tr th {\n",
       "        vertical-align: top;\n",
       "    }\n",
       "\n",
       "    .dataframe thead th {\n",
       "        text-align: right;\n",
       "    }\n",
       "</style>\n",
       "<table border=\"1\" class=\"dataframe\">\n",
       "  <thead>\n",
       "    <tr style=\"text-align: right;\">\n",
       "      <th></th>\n",
       "      <th>30MU</th>\n",
       "      <th>SPD</th>\n",
       "      <th>ratio</th>\n",
       "    </tr>\n",
       "  </thead>\n",
       "  <tbody>\n",
       "    <tr>\n",
       "      <th>0</th>\n",
       "      <td>არა</td>\n",
       "      <td>Hard Driver &amp; MC DL</td>\n",
       "      <td>0.0</td>\n",
       "    </tr>\n",
       "    <tr>\n",
       "      <th>1</th>\n",
       "      <td>長渕剛</td>\n",
       "      <td>Hard Driver &amp; MC DL</td>\n",
       "      <td>0.0</td>\n",
       "    </tr>\n",
       "    <tr>\n",
       "      <th>2</th>\n",
       "      <td>효린</td>\n",
       "      <td>Hard Driver &amp; MC DL</td>\n",
       "      <td>0.0</td>\n",
       "    </tr>\n",
       "    <tr>\n",
       "      <th>3</th>\n",
       "      <td>凛</td>\n",
       "      <td>Hard Driver &amp; MC DL</td>\n",
       "      <td>0.0</td>\n",
       "    </tr>\n",
       "    <tr>\n",
       "      <th>4</th>\n",
       "      <td>･ﾊ･ﾎ</td>\n",
       "      <td>Hard Driver &amp; MC DL</td>\n",
       "      <td>0.0</td>\n",
       "    </tr>\n",
       "    <tr>\n",
       "      <th>...</th>\n",
       "      <td>...</td>\n",
       "      <td>...</td>\n",
       "      <td>...</td>\n",
       "    </tr>\n",
       "    <tr>\n",
       "      <th>78801</th>\n",
       "      <td>Christian Williams</td>\n",
       "      <td>Christian Williams</td>\n",
       "      <td>1.0</td>\n",
       "    </tr>\n",
       "    <tr>\n",
       "      <th>78802</th>\n",
       "      <td>Antero Lindgren</td>\n",
       "      <td>Antero Lindgren</td>\n",
       "      <td>1.0</td>\n",
       "    </tr>\n",
       "    <tr>\n",
       "      <th>78803</th>\n",
       "      <td>Mark Mancina</td>\n",
       "      <td>Mark Mancina</td>\n",
       "      <td>1.0</td>\n",
       "    </tr>\n",
       "    <tr>\n",
       "      <th>78804</th>\n",
       "      <td>Joey Pastrana</td>\n",
       "      <td>Joey Pastrana</td>\n",
       "      <td>1.0</td>\n",
       "    </tr>\n",
       "    <tr>\n",
       "      <th>78805</th>\n",
       "      <td>Skip</td>\n",
       "      <td>Skip</td>\n",
       "      <td>1.0</td>\n",
       "    </tr>\n",
       "  </tbody>\n",
       "</table>\n",
       "<p>78806 rows × 3 columns</p>\n",
       "</div>"
      ],
      "text/plain": [
       "                     30MU                  SPD  ratio\n",
       "0                     არა  Hard Driver & MC DL    0.0\n",
       "1                     長渕剛  Hard Driver & MC DL    0.0\n",
       "2                      효린  Hard Driver & MC DL    0.0\n",
       "3                       凛  Hard Driver & MC DL    0.0\n",
       "4                    ･ﾊ･ﾎ  Hard Driver & MC DL    0.0\n",
       "...                   ...                  ...    ...\n",
       "78801  Christian Williams   Christian Williams    1.0\n",
       "78802     Antero Lindgren      Antero Lindgren    1.0\n",
       "78803        Mark Mancina         Mark Mancina    1.0\n",
       "78804       Joey Pastrana        Joey Pastrana    1.0\n",
       "78805                Skip                 Skip    1.0\n",
       "\n",
       "[78806 rows x 3 columns]"
      ]
     },
     "execution_count": 22,
     "metadata": {},
     "output_type": "execute_result"
    }
   ],
   "source": [
    "similarity_table"
   ]
  },
  {
   "cell_type": "code",
   "execution_count": 23,
   "id": "492d84df",
   "metadata": {},
   "outputs": [
    {
     "data": {
      "text/plain": [
       "(array([   55.,    56.,   560.,   651.,  1431.,  2926.,  7561.,  9623.,\n",
       "         8987., 46956.]),\n",
       " array([0. , 0.1, 0.2, 0.3, 0.4, 0.5, 0.6, 0.7, 0.8, 0.9, 1. ]),\n",
       " <BarContainer object of 10 artists>)"
      ]
     },
     "execution_count": 23,
     "metadata": {},
     "output_type": "execute_result"
    },
    {
     "data": {
      "image/png": "[encoded data removed]",
      "text/plain": [
       "<Figure size 640x480 with 1 Axes>"
      ]
     },
     "metadata": {},
     "output_type": "display_data"
    }
   ],
   "source": [
    "import matplotlib.pyplot as plt\n",
    "\n",
    "plt.hist(similarity_table['ratio'].to_numpy())"
   ]
  },
  {
   "cell_type": "code",
   "execution_count": 24,
   "id": "3d5e72ea",
   "metadata": {},
   "outputs": [
    {
     "data": {
      "text/plain": [
       "0.9279369591147882"
      ]
     },
     "execution_count": 24,
     "metadata": {},
     "output_type": "execute_result"
    }
   ],
   "source": [
    "len(similarity_table[  similarity_table['ratio'] > 0.6 ])/len(similarity_table)"
   ]
  },
  {
   "cell_type": "markdown",
   "id": "752dd38e",
   "metadata": {},
   "source": [
    "Banda União Black\tUnião Black について"
   ]
  },
  {
   "cell_type": "code",
   "execution_count": 24,
   "id": "e2d3653e",
   "metadata": {},
   "outputs": [
    {
     "data": {
      "text/plain": [
       "['Been So Long', 'Cris Vacilou', 'African Hot Band']"
      ]
     },
     "execution_count": 24,
     "metadata": {},
     "output_type": "execute_result"
    }
   ],
   "source": [
    "ThMU_dict['Banda União Black']"
   ]
  },
  {
   "cell_type": "code",
   "execution_count": 25,
   "id": "622c449f",
   "metadata": {},
   "outputs": [
    {
     "data": {
      "text/plain": [
       "['Been So Long', 'Melô Do Lula', 'Tudo Azul', \"Everyone's A Winner\"]"
      ]
     },
     "execution_count": 25,
     "metadata": {},
     "output_type": "execute_result"
    }
   ],
   "source": [
    "SPD_dict['União Black']"
   ]
  },
  {
   "cell_type": "markdown",
   "id": "90ee44cb",
   "metadata": {},
   "source": [
    "# アーティスト-楽曲について確認"
   ]
  },
  {
   "cell_type": "markdown",
   "id": "717a898d",
   "metadata": {},
   "source": [
    "類似あるいは同一アーティスト名に関して，それぞれの持つ楽曲を比較．  \n",
    "類似度が高ければリストに追加する"
   ]
  },
  {
   "cell_type": "code",
   "execution_count": 27,
   "id": "9a470c5f",
   "metadata": {},
   "outputs": [
    {
     "data": {
      "text/html": [
       "<div>\n",
       "<style scoped>\n",
       "    .dataframe tbody tr th:only-of-type {\n",
       "        vertical-align: middle;\n",
       "    }\n",
       "\n",
       "    .dataframe tbody tr th {\n",
       "        vertical-align: top;\n",
       "    }\n",
       "\n",
       "    .dataframe thead th {\n",
       "        text-align: right;\n",
       "    }\n",
       "</style>\n",
       "<table border=\"1\" class=\"dataframe\">\n",
       "  <thead>\n",
       "    <tr style=\"text-align: right;\">\n",
       "      <th></th>\n",
       "      <th>30MU</th>\n",
       "      <th>SPD</th>\n",
       "      <th>ratio</th>\n",
       "    </tr>\n",
       "  </thead>\n",
       "  <tbody>\n",
       "    <tr>\n",
       "      <th>0</th>\n",
       "      <td>არა</td>\n",
       "      <td>Hard Driver &amp; MC DL</td>\n",
       "      <td>0.0</td>\n",
       "    </tr>\n",
       "    <tr>\n",
       "      <th>1</th>\n",
       "      <td>長渕剛</td>\n",
       "      <td>Hard Driver &amp; MC DL</td>\n",
       "      <td>0.0</td>\n",
       "    </tr>\n",
       "    <tr>\n",
       "      <th>2</th>\n",
       "      <td>효린</td>\n",
       "      <td>Hard Driver &amp; MC DL</td>\n",
       "      <td>0.0</td>\n",
       "    </tr>\n",
       "    <tr>\n",
       "      <th>3</th>\n",
       "      <td>凛</td>\n",
       "      <td>Hard Driver &amp; MC DL</td>\n",
       "      <td>0.0</td>\n",
       "    </tr>\n",
       "    <tr>\n",
       "      <th>4</th>\n",
       "      <td>･ﾊ･ﾎ</td>\n",
       "      <td>Hard Driver &amp; MC DL</td>\n",
       "      <td>0.0</td>\n",
       "    </tr>\n",
       "    <tr>\n",
       "      <th>...</th>\n",
       "      <td>...</td>\n",
       "      <td>...</td>\n",
       "      <td>...</td>\n",
       "    </tr>\n",
       "    <tr>\n",
       "      <th>78801</th>\n",
       "      <td>Christian Williams</td>\n",
       "      <td>Christian Williams</td>\n",
       "      <td>1.0</td>\n",
       "    </tr>\n",
       "    <tr>\n",
       "      <th>78802</th>\n",
       "      <td>Antero Lindgren</td>\n",
       "      <td>Antero Lindgren</td>\n",
       "      <td>1.0</td>\n",
       "    </tr>\n",
       "    <tr>\n",
       "      <th>78803</th>\n",
       "      <td>Mark Mancina</td>\n",
       "      <td>Mark Mancina</td>\n",
       "      <td>1.0</td>\n",
       "    </tr>\n",
       "    <tr>\n",
       "      <th>78804</th>\n",
       "      <td>Joey Pastrana</td>\n",
       "      <td>Joey Pastrana</td>\n",
       "      <td>1.0</td>\n",
       "    </tr>\n",
       "    <tr>\n",
       "      <th>78805</th>\n",
       "      <td>Skip</td>\n",
       "      <td>Skip</td>\n",
       "      <td>1.0</td>\n",
       "    </tr>\n",
       "  </tbody>\n",
       "</table>\n",
       "<p>78806 rows × 3 columns</p>\n",
       "</div>"
      ],
      "text/plain": [
       "                     30MU                  SPD  ratio\n",
       "0                     არა  Hard Driver & MC DL    0.0\n",
       "1                     長渕剛  Hard Driver & MC DL    0.0\n",
       "2                      효린  Hard Driver & MC DL    0.0\n",
       "3                       凛  Hard Driver & MC DL    0.0\n",
       "4                    ･ﾊ･ﾎ  Hard Driver & MC DL    0.0\n",
       "...                   ...                  ...    ...\n",
       "78801  Christian Williams   Christian Williams    1.0\n",
       "78802     Antero Lindgren      Antero Lindgren    1.0\n",
       "78803        Mark Mancina         Mark Mancina    1.0\n",
       "78804       Joey Pastrana        Joey Pastrana    1.0\n",
       "78805                Skip                 Skip    1.0\n",
       "\n",
       "[78806 rows x 3 columns]"
      ]
     },
     "execution_count": 27,
     "metadata": {},
     "output_type": "execute_result"
    }
   ],
   "source": [
    "similarity_table"
   ]
  },
  {
   "cell_type": "code",
   "execution_count": 38,
   "id": "42ca3519",
   "metadata": {},
   "outputs": [
    {
     "name": "stderr",
     "output_type": "stream",
     "text": [
      "  1%|          | 6582/562538 [00:25<36:07, 256.46it/s]  \n"
     ]
    },
    {
     "ename": "KeyboardInterrupt",
     "evalue": "",
     "output_type": "error",
     "traceback": [
      "\u001b[0;31m---------------------------------------------------------------------------\u001b[0m",
      "\u001b[0;31mKeyboardInterrupt\u001b[0m                         Traceback (most recent call last)",
      "Cell \u001b[0;32mIn[38], line 39\u001b[0m\n\u001b[1;32m     36\u001b[0m tmp_table[\u001b[38;5;124m'\u001b[39m\u001b[38;5;124m30MU_artist\u001b[39m\u001b[38;5;124m'\u001b[39m] \u001b[38;5;241m=\u001b[39m ThMU\n\u001b[1;32m     37\u001b[0m tmp_table[\u001b[38;5;124m'\u001b[39m\u001b[38;5;124mSPD_artist\u001b[39m\u001b[38;5;124m'\u001b[39m] \u001b[38;5;241m=\u001b[39m SPD\n\u001b[0;32m---> 39\u001b[0m similarity_table \u001b[38;5;241m=\u001b[39m pd\u001b[38;5;241m.\u001b[39mconcat([similarity_table, tmp_table])\n",
      "File \u001b[0;32m~/anaconda3/lib/python3.12/site-packages/pandas/core/reshape/concat.py:395\u001b[0m, in \u001b[0;36mconcat\u001b[0;34m(objs, axis, join, ignore_index, keys, levels, names, verify_integrity, sort, copy)\u001b[0m\n\u001b[1;32m    380\u001b[0m     copy \u001b[38;5;241m=\u001b[39m \u001b[38;5;28;01mFalse\u001b[39;00m\n\u001b[1;32m    382\u001b[0m op \u001b[38;5;241m=\u001b[39m _Concatenator(\n\u001b[1;32m    383\u001b[0m     objs,\n\u001b[1;32m    384\u001b[0m     axis\u001b[38;5;241m=\u001b[39maxis,\n\u001b[0;32m   (...)\u001b[0m\n\u001b[1;32m    392\u001b[0m     sort\u001b[38;5;241m=\u001b[39msort,\n\u001b[1;32m    393\u001b[0m )\n\u001b[0;32m--> 395\u001b[0m \u001b[38;5;28;01mreturn\u001b[39;00m op\u001b[38;5;241m.\u001b[39mget_result()\n",
      "File \u001b[0;32m~/anaconda3/lib/python3.12/site-packages/pandas/core/reshape/concat.py:684\u001b[0m, in \u001b[0;36m_Concatenator.get_result\u001b[0;34m(self)\u001b[0m\n\u001b[1;32m    680\u001b[0m             indexers[ax] \u001b[38;5;241m=\u001b[39m obj_labels\u001b[38;5;241m.\u001b[39mget_indexer(new_labels)\n\u001b[1;32m    682\u001b[0m     mgrs_indexers\u001b[38;5;241m.\u001b[39mappend((obj\u001b[38;5;241m.\u001b[39m_mgr, indexers))\n\u001b[0;32m--> 684\u001b[0m new_data \u001b[38;5;241m=\u001b[39m concatenate_managers(\n\u001b[1;32m    685\u001b[0m     mgrs_indexers, \u001b[38;5;28mself\u001b[39m\u001b[38;5;241m.\u001b[39mnew_axes, concat_axis\u001b[38;5;241m=\u001b[39m\u001b[38;5;28mself\u001b[39m\u001b[38;5;241m.\u001b[39mbm_axis, copy\u001b[38;5;241m=\u001b[39m\u001b[38;5;28mself\u001b[39m\u001b[38;5;241m.\u001b[39mcopy\n\u001b[1;32m    686\u001b[0m )\n\u001b[1;32m    687\u001b[0m \u001b[38;5;28;01mif\u001b[39;00m \u001b[38;5;129;01mnot\u001b[39;00m \u001b[38;5;28mself\u001b[39m\u001b[38;5;241m.\u001b[39mcopy \u001b[38;5;129;01mand\u001b[39;00m \u001b[38;5;129;01mnot\u001b[39;00m using_copy_on_write():\n\u001b[1;32m    688\u001b[0m     new_data\u001b[38;5;241m.\u001b[39m_consolidate_inplace()\n",
      "File \u001b[0;32m~/anaconda3/lib/python3.12/site-packages/pandas/core/internals/concat.py:177\u001b[0m, in \u001b[0;36mconcatenate_managers\u001b[0;34m(mgrs_indexers, axes, concat_axis, copy)\u001b[0m\n\u001b[1;32m    167\u001b[0m vals \u001b[38;5;241m=\u001b[39m [ju\u001b[38;5;241m.\u001b[39mblock\u001b[38;5;241m.\u001b[39mvalues \u001b[38;5;28;01mfor\u001b[39;00m ju \u001b[38;5;129;01min\u001b[39;00m join_units]\n\u001b[1;32m    169\u001b[0m \u001b[38;5;28;01mif\u001b[39;00m \u001b[38;5;129;01mnot\u001b[39;00m blk\u001b[38;5;241m.\u001b[39mis_extension:\n\u001b[1;32m    170\u001b[0m     \u001b[38;5;66;03m# _is_uniform_join_units ensures a single dtype, so\u001b[39;00m\n\u001b[1;32m    171\u001b[0m     \u001b[38;5;66;03m#  we can use np.concatenate, which is more performant\u001b[39;00m\n\u001b[0;32m   (...)\u001b[0m\n\u001b[1;32m    175\u001b[0m     \u001b[38;5;66;03m# expected \"Union[_SupportsArray[dtype[Any]],\u001b[39;00m\n\u001b[1;32m    176\u001b[0m     \u001b[38;5;66;03m# _NestedSequence[_SupportsArray[dtype[Any]]]]\"\u001b[39;00m\n\u001b[0;32m--> 177\u001b[0m     values \u001b[38;5;241m=\u001b[39m np\u001b[38;5;241m.\u001b[39mconcatenate(vals, axis\u001b[38;5;241m=\u001b[39m\u001b[38;5;241m1\u001b[39m)  \u001b[38;5;66;03m# type: ignore[arg-type]\u001b[39;00m\n\u001b[1;32m    178\u001b[0m \u001b[38;5;28;01melif\u001b[39;00m is_1d_only_ea_dtype(blk\u001b[38;5;241m.\u001b[39mdtype):\n\u001b[1;32m    179\u001b[0m     \u001b[38;5;66;03m# TODO(EA2D): special-casing not needed with 2D EAs\u001b[39;00m\n\u001b[1;32m    180\u001b[0m     values \u001b[38;5;241m=\u001b[39m concat_compat(vals, axis\u001b[38;5;241m=\u001b[39m\u001b[38;5;241m0\u001b[39m, ea_compat_axis\u001b[38;5;241m=\u001b[39m\u001b[38;5;28;01mTrue\u001b[39;00m)\n",
      "\u001b[0;31mKeyboardInterrupt\u001b[0m: "
     ]
    }
   ],
   "source": [
    "from tqdm import tqdm\n",
    "\n",
    "pd.DataFrame(columns=['30MU_artist', '30MU_track', 'SPD_artist', 'SPD_track', 'ratio'])\n",
    "\n",
    "for _, row in tqdm(similarity_table.iterrows(), total=len(similarity_table)):\n",
    "    \n",
    "    ThMU = row['30MU']\n",
    "    SPD = row['SPD']\n",
    "    ratio = float(row['ratio'])\n",
    "\n",
    "    if ratio > 0.6:\n",
    "        ThMU_tarcks = np.array(ThMU_dict[ThMU])\n",
    "        SPD_tracks = np.array(SPD_dict[SPD])\n",
    "\n",
    "        try:\n",
    "            similarity = cdist(ThMU_tarcks, SPD_tracks,workers=-1)\n",
    "        except:\n",
    "            # print(ThMU_tarcks)\n",
    "            print(ThMU_dict[ThMU])\n",
    "            print('===========================================')\n",
    "            # print(SPD_tracks)\n",
    "            print(SPD_dict[SPD])\n",
    "            continue\n",
    "\n",
    "        # try:\n",
    "        tmp_table = pd.DataFrame({\n",
    "        '30MU_track':ThMU_tarcks,\n",
    "        'SPD_track':SPD_tracks[ similarity.argmax(axis=1) ],\n",
    "        'ratio':(similarity.max(axis=1) / 100).astype(float)\n",
    "        })\n",
    "        # except:\n",
    "        #     print(similarity.shape)\n",
    "        #     print(similarity.argmax(axis=1))\n",
    "        #     break\n",
    "\n",
    "        tmp_table['30MU_artist'] = ThMU\n",
    "        tmp_table['SPD_artist'] = SPD\n",
    "\n",
    "        similarity_table = pd.concat([similarity_table, tmp_table])"
   ]
  },
  {
   "cell_type": "code",
   "execution_count": null,
   "id": "37e93875",
   "metadata": {},
   "outputs": [],
   "source": [
    "similarity_table.to_csv('similar_pairs.csv', sep='\\t')"
   ]
  }
 ],
 "metadata": {
  "kernelspec": {
   "display_name": "base",
   "language": "python",
   "name": "python3"
  },
  "language_info": {
   "codemirror_mode": {
    "name": "ipython",
    "version": 3
   },
   "file_extension": ".py",
   "mimetype": "text/x-python",
   "name": "python",
   "nbconvert_exporter": "python",
   "pygments_lexer": "ipython3",
   "version": "3.12.7"
  }
 },
 "nbformat": 4,
 "nbformat_minor": 5
}
